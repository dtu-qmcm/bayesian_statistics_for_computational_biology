{
 "cells": [
  {
   "cell_type": "code",
   "execution_count": 1,
   "id": "e7fa95a8-65b0-47f6-b3f6-6d9f882600ba",
   "metadata": {},
   "outputs": [],
   "source": [
    "import operator\n",
    "\n",
    "import polars as pl\n",
    "import jax\n",
    "from jax import numpy as jnp\n",
    "from jax.scipy.stats import norm\n"
   ]
  },
  {
   "cell_type": "code",
   "execution_count": 2,
   "id": "f1112bbc-52fc-4b0f-8833-2d9a8f825791",
   "metadata": {},
   "outputs": [
    {
     "data": {
      "text/html": [
       "<div><style>\n",
       ".dataframe > thead > tr,\n",
       ".dataframe > tbody > tr {\n",
       "  text-align: right;\n",
       "  white-space: pre-wrap;\n",
       "}\n",
       "</style>\n",
       "<small>shape: (5, 4)</small><table border=\"1\" class=\"dataframe\"><thead><tr><th>county</th><th>log_uranium</th><th>county_id</th><th>homes</th></tr><tr><td>str</td><td>f64</td><td>i64</td><td>i64</td></tr></thead><tbody><tr><td>&quot;AITKIN&nbsp;&nbsp;&nbsp;&nbsp;&nbsp;&nbsp;&nbsp;&nbsp;&nbsp;&nbsp;&nbsp;&nbsp;&nbsp;&nbsp;&quot;</td><td>-0.689048</td><td>1</td><td>4</td></tr><tr><td>&quot;ANOKA&nbsp;&nbsp;&nbsp;&nbsp;&nbsp;&nbsp;&nbsp;&nbsp;&nbsp;&nbsp;&nbsp;&nbsp;&nbsp;&nbsp;&nbsp;&quot;</td><td>-0.847313</td><td>2</td><td>52</td></tr><tr><td>&quot;BECKER&nbsp;&nbsp;&nbsp;&nbsp;&nbsp;&nbsp;&nbsp;&nbsp;&nbsp;&nbsp;&nbsp;&nbsp;&nbsp;&nbsp;&quot;</td><td>-0.113459</td><td>3</td><td>3</td></tr><tr><td>&quot;BELTRAMI&nbsp;&nbsp;&nbsp;&nbsp;&nbsp;&nbsp;&nbsp;&nbsp;&nbsp;&nbsp;&nbsp;&nbsp;&quot;</td><td>-0.593353</td><td>4</td><td>7</td></tr><tr><td>&quot;BENTON&nbsp;&nbsp;&nbsp;&nbsp;&nbsp;&nbsp;&nbsp;&nbsp;&nbsp;&nbsp;&nbsp;&nbsp;&nbsp;&nbsp;&quot;</td><td>-0.14289</td><td>5</td><td>4</td></tr></tbody></table></div>"
      ],
      "text/plain": [
       "shape: (5, 4)\n",
       "┌──────────────────────┬─────────────┬───────────┬───────┐\n",
       "│ county               ┆ log_uranium ┆ county_id ┆ homes │\n",
       "│ ---                  ┆ ---         ┆ ---       ┆ ---   │\n",
       "│ str                  ┆ f64         ┆ i64       ┆ i64   │\n",
       "╞══════════════════════╪═════════════╪═══════════╪═══════╡\n",
       "│ AITKIN               ┆ -0.689048   ┆ 1         ┆ 4     │\n",
       "│ ANOKA                ┆ -0.847313   ┆ 2         ┆ 52    │\n",
       "│ BECKER               ┆ -0.113459   ┆ 3         ┆ 3     │\n",
       "│ BELTRAMI             ┆ -0.593353   ┆ 4         ┆ 7     │\n",
       "│ BENTON               ┆ -0.14289    ┆ 5         ┆ 4     │\n",
       "└──────────────────────┴─────────────┴───────────┴───────┘"
      ]
     },
     "execution_count": 2,
     "metadata": {},
     "output_type": "execute_result"
    }
   ],
   "source": [
    "RAW_RADON_CSV_URL = (\n",
    "    \"https://raw.githubusercontent.com/stan-dev/example-models/\"\n",
    "    \"e5b7d9e2e9ecc375805c7e49e4a4d4c1882b5e3b\"\n",
    "    \"/jupyter/radon/data/mn_radon.csv\"\n",
    ")\n",
    "RAW_URANIUM_CSV_URL = (\n",
    "    \"https://raw.githubusercontent.com/stan-dev/example-models/\"\n",
    "    \"e5b7d9e2e9ecc375805c7e49e4a4d4c1882b5e3b\"\n",
    "    \"/jupyter/radon/data/mn_uranium.csv\"\n",
    ")\n",
    "mn_radon = pl.read_csv(RAW_RADON_CSV_URL)\n",
    "mn_uranium = pl.read_csv(RAW_URANIUM_CSV_URL)\n",
    "mn_uranium.head()"
   ]
  },
  {
   "cell_type": "code",
   "execution_count": 3,
   "id": "bb2c02e6-cca3-4c85-bf2a-58e19d006e46",
   "metadata": {},
   "outputs": [
    {
     "data": {
      "text/html": [
       "<div><style>\n",
       ".dataframe > thead > tr,\n",
       ".dataframe > tbody > tr {\n",
       "  text-align: right;\n",
       "  white-space: pre-wrap;\n",
       "}\n",
       "</style>\n",
       "<small>shape: (5, 5)</small><table border=\"1\" class=\"dataframe\"><thead><tr><th>floor</th><th>county</th><th>log_radon</th><th>log_uranium</th><th>county_id</th></tr><tr><td>i64</td><td>str</td><td>f64</td><td>f64</td><td>i64</td></tr></thead><tbody><tr><td>1</td><td>&quot;AITKIN&nbsp;&nbsp;&nbsp;&nbsp;&nbsp;&nbsp;&nbsp;&nbsp;&nbsp;&nbsp;&nbsp;&nbsp;&nbsp;&nbsp;&quot;</td><td>0.788457</td><td>-0.689048</td><td>1</td></tr><tr><td>0</td><td>&quot;AITKIN&nbsp;&nbsp;&nbsp;&nbsp;&nbsp;&nbsp;&nbsp;&nbsp;&nbsp;&nbsp;&nbsp;&nbsp;&nbsp;&nbsp;&quot;</td><td>0.788457</td><td>-0.689048</td><td>1</td></tr><tr><td>0</td><td>&quot;AITKIN&nbsp;&nbsp;&nbsp;&nbsp;&nbsp;&nbsp;&nbsp;&nbsp;&nbsp;&nbsp;&nbsp;&nbsp;&nbsp;&nbsp;&quot;</td><td>1.064711</td><td>-0.689048</td><td>1</td></tr><tr><td>0</td><td>&quot;AITKIN&nbsp;&nbsp;&nbsp;&nbsp;&nbsp;&nbsp;&nbsp;&nbsp;&nbsp;&nbsp;&nbsp;&nbsp;&nbsp;&nbsp;&quot;</td><td>0.0</td><td>-0.689048</td><td>1</td></tr><tr><td>0</td><td>&quot;ANOKA&nbsp;&nbsp;&nbsp;&nbsp;&nbsp;&nbsp;&nbsp;&nbsp;&nbsp;&nbsp;&nbsp;&nbsp;&nbsp;&nbsp;&nbsp;&quot;</td><td>1.131402</td><td>-0.847313</td><td>2</td></tr></tbody></table></div>"
      ],
      "text/plain": [
       "shape: (5, 5)\n",
       "┌───────┬──────────────────────┬───────────┬─────────────┬───────────┐\n",
       "│ floor ┆ county               ┆ log_radon ┆ log_uranium ┆ county_id │\n",
       "│ ---   ┆ ---                  ┆ ---       ┆ ---         ┆ ---       │\n",
       "│ i64   ┆ str                  ┆ f64       ┆ f64         ┆ i64       │\n",
       "╞═══════╪══════════════════════╪═══════════╪═════════════╪═══════════╡\n",
       "│ 1     ┆ AITKIN               ┆ 0.788457  ┆ -0.689048   ┆ 1         │\n",
       "│ 0     ┆ AITKIN               ┆ 0.788457  ┆ -0.689048   ┆ 1         │\n",
       "│ 0     ┆ AITKIN               ┆ 1.064711  ┆ -0.689048   ┆ 1         │\n",
       "│ 0     ┆ AITKIN               ┆ 0.0       ┆ -0.689048   ┆ 1         │\n",
       "│ 0     ┆ ANOKA                ┆ 1.131402  ┆ -0.847313   ┆ 2         │\n",
       "└───────┴──────────────────────┴───────────┴─────────────┴───────────┘"
      ]
     },
     "execution_count": 3,
     "metadata": {},
     "output_type": "execute_result"
    }
   ],
   "source": [
    "mn_radon.head()"
   ]
  },
  {
   "cell_type": "markdown",
   "id": "6f367744-0a5b-472e-b5d2-20c71e2c6285",
   "metadata": {},
   "source": [
    "```stan\n",
    "data {\n",
    "  int<lower=1> N;\n",
    "  vector[N] x;\n",
    "  vector[N] y;\n",
    "}\n",
    "parameters {\n",
    "  real alpha;\n",
    "  real beta;\n",
    "  real<lower=0> sigma;\n",
    "}\n",
    "model {\n",
    "  y ~ normal(alpha + beta * x, sigma);\n",
    "  alpha ~ normal(0, 10);\n",
    "  beta ~ normal(0, 10);\n",
    "  sigma ~ normal(0, 10);\n",
    "}\n",
    "generated quantities {\n",
    "  array[N] real y_rep = normal_rng(alpha + beta * x, sigma);\n",
    "}\n",
    "```"
   ]
  },
  {
   "cell_type": "code",
   "execution_count": 4,
   "id": "b99a2109-6cb9-4f20-89e4-eca741a75ddc",
   "metadata": {},
   "outputs": [
    {
     "data": {
      "text/plain": [
       "Array(-3544.3743, dtype=float32)"
      ]
     },
     "execution_count": 4,
     "metadata": {},
     "output_type": "execute_result"
    }
   ],
   "source": [
    "def fully_pooled_model_log_density(parameters, data):\n",
    "    alpha, beta, log_sigma = parameters\n",
    "    x, y = data\n",
    "    sigma = jnp.exp(log_sigma)\n",
    "    yhat = alpha + beta * x\n",
    "    log_lik = norm.logpdf(y, loc=yhat, scale=jnp.full_like(yhat, sigma)).sum()\n",
    "    log_prior = jax.tree.map(\n",
    "        lambda leaf: norm.logpdf(leaf, loc=0, scale=10),\n",
    "        parameters\n",
    "    )\n",
    "    return log_lik + jax.tree.reduce(operator.add, log_prior)\n",
    "\n",
    "example_params_fp = (-1, 0.4, 0.0)\n",
    "example_data_fp = (mn_radon[\"log_uranium\"].to_numpy(), mn_radon[\"log_radon\"].to_numpy())\n",
    "\n",
    "fully_pooled_model_log_density(example_params_fp, example_data_fp)"
   ]
  },
  {
   "cell_type": "markdown",
   "id": "723718e0-8c1b-49ce-a7cf-57571dbc1ee5",
   "metadata": {},
   "source": [
    "```\n",
    "data {\n",
    "  int<lower=1> N;  // observations\n",
    "  int<lower=1> J;  // counties\n",
    "  array[N] int<lower=1, upper=J> county;\n",
    "  vector[N] x;     // floor\n",
    "  vector[N] y;     // radon\n",
    "}\n",
    "parameters {\n",
    "  vector[J] alpha;\n",
    "  real beta;\n",
    "  real<lower=0> sigma;\n",
    "}\n",
    "model {\n",
    "  y ~ normal(alpha[county] + beta * x, sigma);  \n",
    "  alpha ~ normal(0, 10);\n",
    "  beta ~ normal(0, 10);\n",
    "  sigma ~ normal(0, 10);\n",
    "}\n",
    "generated quantities {\n",
    "  array[N] real y_rep = normal_rng(alpha[county] + beta * x, sigma);\n",
    "}\n",
    "```"
   ]
  },
  {
   "cell_type": "code",
   "execution_count": 5,
   "id": "368ea22e-3008-42c2-89d4-9c2e5b6b99cf",
   "metadata": {},
   "outputs": [
    {
     "data": {
      "text/plain": [
       "Array(-11675.303, dtype=float32)"
      ]
     },
     "execution_count": 5,
     "metadata": {},
     "output_type": "execute_result"
    }
   ],
   "source": [
    "def unpooled_model_log_density(parameters, data):\n",
    "    alpha, beta, log_sigma = parameters\n",
    "    x, county_ix, y = data\n",
    "    sigma = jnp.exp(log_sigma)\n",
    "    yhat = alpha[county_ix] + beta * x\n",
    "    log_lik = norm.logpdf(y, loc=yhat, scale=jnp.full_like(yhat, sigma)).sum()\n",
    "    log_prior = jax.tree.map(\n",
    "        lambda leaf: norm.logpdf(leaf, loc=0, scale=10).sum(),\n",
    "        parameters\n",
    "    )\n",
    "    return log_lik + jax.tree.reduce(operator.add, log_prior)\n",
    "\n",
    "N = len(mn_radon)\n",
    "key_up = jax.random.key(1234)\n",
    "key_a, key_b, key_s = jax.random.split(key_up, num=3)\n",
    "example_params_up = jax.tree.map(\n",
    "    lambda x, k: jax.random.normal(k, shape=(N,)) * 0.5,\n",
    "    (-1, 0.4, 0.0),\n",
    "    (key_a, key_b, key_s)\n",
    ")\n",
    "example_data_up = (\n",
    "    mn_radon[\"log_uranium\"].to_numpy(), \n",
    "    mn_radon[\"county_id\"].to_numpy() - 1, \n",
    "    mn_radon[\"log_radon\"].to_numpy()\n",
    ")\n",
    "unpooled_model_log_density(example_params_up, example_data_up)"
   ]
  },
  {
   "cell_type": "markdown",
   "id": "c1fe3e6b-dade-411a-80d6-2dc190e68742",
   "metadata": {},
   "source": [
    "```stan\n",
    "data {\n",
    "  int<lower=1> N;  // observations\n",
    "  int<lower=1> J;  // counties\n",
    "  array[N] int<lower=1, upper=J> county;\n",
    "  vector[N] x;\n",
    "  vector[N] y;\n",
    "}\n",
    "parameters {\n",
    "  real mu_alpha;\n",
    "  real<lower=0> sigma_alpha;\n",
    "  vector<offset=mu_alpha, multiplier=sigma_alpha>[J] alpha;  // non-centered parameterization\n",
    "  real beta;\n",
    "  real<lower=0> sigma;\n",
    "}\n",
    "model {\n",
    "  y ~ normal(alpha[county] + beta * x, sigma);  \n",
    "  alpha ~ normal(mu_alpha, sigma_alpha); // partial-pooling\n",
    "  beta ~ normal(0, 10);\n",
    "  sigma ~ normal(0, 10);\n",
    "  mu_alpha ~ normal(0, 10);\n",
    "  sigma_alpha ~ normal(0, 10);\n",
    "}\n",
    "generated quantities {\n",
    "  array[N] real y_rep = normal_rng(alpha[county] + beta * x, sigma);\n",
    "}\n",
    "\n",
    "```"
   ]
  },
  {
   "cell_type": "code",
   "execution_count": 6,
   "id": "a288aa51-184a-4d9e-bd3d-7bca38f67b21",
   "metadata": {},
   "outputs": [
    {
     "data": {
      "text/plain": [
       "Array(-4852.3555, dtype=float32)"
      ]
     },
     "execution_count": 6,
     "metadata": {},
     "output_type": "execute_result"
    }
   ],
   "source": [
    "def partial_pooled_model_log_density(parameters, data):\n",
    "    mu_alpha, sigma_alpha, alpha_z, beta, log_sigma = parameters\n",
    "    prior_sd = (10.0, 10.0, 1.0, 10.0, 10.0)\n",
    "    x, county_ix, y = data\n",
    "    sigma = jnp.exp(log_sigma)\n",
    "    alpha = mu_alpha + sigma_alpha * alpha_z \n",
    "    yhat = alpha[county_ix] + beta * x\n",
    "    log_lik = norm.logpdf(y, loc=yhat, scale=jnp.full_like(yhat, sigma)).sum()\n",
    "    log_prior = jax.tree.map(\n",
    "        lambda leaf, sd: norm.logpdf(leaf, loc=0, scale=sd).sum(),\n",
    "        parameters,\n",
    "        prior_sd\n",
    "    )\n",
    "    return log_lik + jax.tree.reduce(operator.add, log_prior)\n",
    "\n",
    "key_pp = jax.random.key(12345)\n",
    "example_params_pp = (\n",
    "    -1, 0.2, jax.random.normal(key_pp, shape=(N,)), 0.4, 0.0\n",
    ")\n",
    "example_data_pp = (\n",
    "    mn_radon[\"log_uranium\"].to_numpy(), \n",
    "    mn_radon[\"county_id\"].to_numpy() - 1, \n",
    "    mn_radon[\"log_radon\"].to_numpy()\n",
    ")\n",
    "partial_pooled_model_log_density(example_params_pp, example_data_pp)"
   ]
  }
 ],
 "metadata": {
  "kernelspec": {
   "display_name": "Python 3 (ipykernel)",
   "language": "python",
   "name": "python3"
  },
  "language_info": {
   "codemirror_mode": {
    "name": "ipython",
    "version": 3
   },
   "file_extension": ".py",
   "mimetype": "text/x-python",
   "name": "python",
   "nbconvert_exporter": "python",
   "pygments_lexer": "ipython3",
   "version": "3.13.2"
  }
 },
 "nbformat": 4,
 "nbformat_minor": 5
}
