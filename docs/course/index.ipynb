{
  "cells": [
    {
      "cell_type": "markdown",
      "metadata": {},
      "source": [
        "# \n",
        "\n",
        "# Welcome!\n",
        "\n",
        "This is a course about Bayesian statistics, targeted at computational\n",
        "biologists\n",
        "\n",
        "The course currently takes place physically over three weeks in the\n",
        "summer at DTU Biosustain. If you are taking or want to take that course,\n",
        "congratulations you are in the right place! If not, you may still find\n",
        "something interesting here!\n",
        "\n",
        "The aim of the course is to teach students with a background in\n",
        "computational biology how to:\n",
        "\n",
        "-   Describe Bayesian inference in the abstract\n",
        "-   Assess whether Bayesian inference is a good fit for a problem\n",
        "-   Formulate custom measurement models to describe biological problems\n",
        "-   Solve statistical modelling problems by iteratively fitting and\n",
        "    evaluating a series of models\n",
        "-   Choose appropriate software for a Bayesian statistical modelling\n",
        "    project\n",
        "-   Understand gradient-based MCMC techniques and their failure modes\n",
        "-   Fit biological models with embedded ODE systems, root-finding\n",
        "    problems and Gaussian processes.\n",
        "-   Perform Bayesian optimisation\n",
        "-   Understand recent trends in Bayesian statistical inference\n",
        "\n",
        "The learning material consists of 20 sessions, each intended to take up\n",
        "half a day over two weeks. The third week of the course is set aside for\n",
        "the students to complete a project. For the first two weeks, the first\n",
        "half-day will generally cover theoretical topics, with the second\n",
        "consisting of practical, computer-based tasks.\n",
        "\n",
        "## How to follow the practical lessons?\n",
        "\n",
        "All of the lessons come with companion jupyter notebooks in the folder\n",
        "`docs/course`.\n",
        "\n",
        "To follow a lesson, first make a new folder in the project root, maybe\n",
        "called `notebooks`, copy the lesson’s companion note in there and start\n",
        "running cells."
      ],
      "id": "8a59fb85-e478-47e5-ac7b-389575f8a703"
    }
  ],
  "nbformat": 4,
  "nbformat_minor": 5,
  "metadata": {
    "kernelspec": {
      "display_name": "Python 3",
      "language": "python",
      "name": "python3"
    }
  }
}