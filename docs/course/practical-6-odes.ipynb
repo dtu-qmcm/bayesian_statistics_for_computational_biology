{
  "cells": [
    {
      "cell_type": "markdown",
      "metadata": {},
      "source": [
        "# ODEs with JAX\n",
        "\n",
        "A big benefit of using JAX to write our statistical models is that we\n",
        "don’t have to use specialised HMC optimised ODE software. As long as an\n",
        "ODE solving library is generally JAX-compatible, we can use it in our\n",
        "Bayesian statistical models.\n",
        "\n",
        "In practice there are two main choices:\n",
        "[probdiffeq](https://pnkraemer.github.io/probdiffeq/) and\n",
        "[diffrax](https://docs.kidger.site/diffrax/). Here we’ll focus on\n",
        "diffrax, as we (Teddy, Nick and Sergi) have more experience with it.\n",
        "\n",
        "We’ll use diffrax to solve the initial value problem introduced in the\n",
        "last session, then embed this solution inside a statistical model.\n",
        "\n",
        "## imports"
      ],
      "id": "3e03477a-9eb0-4f03-8cd4-0d6f98b1d65e"
    },
    {
      "cell_type": "code",
      "execution_count": 1,
      "metadata": {},
      "outputs": [],
      "source": [
        "import arviz as az\n",
        "import diffrax\n",
        "import numpy as np\n",
        "import jax\n",
        "\n",
        "from jax import numpy as jnp\n",
        "from matplotlib import pyplot as plt"
      ],
      "id": "74e1e2b6"
    },
    {
      "cell_type": "markdown",
      "metadata": {},
      "source": [
        "### Specify true parameters\n",
        "\n",
        "In order to avoid doing too much annoying handling of strings we assume\n",
        "that all the parts of the problem have meaningful 1-indexed integer\n",
        "labels: for example, species 1 is biomass.\n",
        "\n",
        "This code specifies the dimensions of our problem."
      ],
      "id": "634ef7be-5937-4580-82d2-ed2d29ac78f9"
    },
    {
      "cell_type": "code",
      "execution_count": 2,
      "metadata": {},
      "outputs": [],
      "source": [
        "N_strain = 4\n",
        "N_tube = 16\n",
        "N_timepoint = 50\n",
        "duration = 30\n",
        "strains = [i + 1 for i in range(N_strain)]\n",
        "tubes = [i + 1 for i in range(N_tube)]\n",
        "species = [\"biomass\", \"substrate\"]\n",
        "measurement_timepoints = np.array([4.0, 7.0, 12.0, 15.0, 17.0])\n",
        "timepoints = jnp.linspace(0.01, duration, N_timepoint)"
      ],
      "id": "f05f0e29"
    },
    {
      "cell_type": "markdown",
      "metadata": {},
      "source": [
        "To generate random numbers with JAX we need to explicitly create some\n",
        "random key objects."
      ],
      "id": "b2f74b43-9fa8-4a60-908b-125f42ca2a35"
    },
    {
      "cell_type": "code",
      "execution_count": 3,
      "metadata": {},
      "outputs": [],
      "source": [
        "SEED = 12345\n",
        "key = jax.random.key(seed=SEED)\n",
        "rng_key, key = jax.random.split(key)\n",
        "rng_key_a, rng_key_b, rng_key_c, rng_key_d = jax.random.split(rng_key, 4)"
      ],
      "id": "5f58c422"
    },
    {
      "cell_type": "markdown",
      "metadata": {},
      "source": [
        "This code defines some true values for the parameters - we will use\n",
        "these to generate fake data. Note that we avoid putting any constrained\n",
        "variables in the parameters using some log transformations."
      ],
      "id": "c3596103-d04f-40e1-94d3-ef53d286ace6"
    },
    {
      "cell_type": "code",
      "execution_count": 4,
      "metadata": {},
      "outputs": [],
      "source": [
        "a_mu_max = -1.7\n",
        "log_t_mu_max = jnp.log(0.2)\n",
        "a_ks = -1.3\n",
        "a_mu_max = -1.7\n",
        "a_gamma = -0.6\n",
        "tau_mu_max = 0.2\n",
        "tau_ks = 0.3\n",
        "tau_gamma = 0.13\n",
        "target_conc_init = jnp.array([-2.1, 0.2])\n",
        "target_conc_init_scale = jnp.array([0.1, 0.05])\n",
        "\n",
        "true_params = {\n",
        "    \"a_mu_max\": a_mu_max,\n",
        "    \"a_ks\": a_ks,\n",
        "    \"a_gamma\": a_gamma,\n",
        "    \"log_tau_mu_max\": jnp.log(tau_mu_max),\n",
        "    \"log_tau_ks\": jnp.log(tau_ks),\n",
        "    \"log_tau_gamma\": jnp.log(tau_gamma),\n",
        "    \"log_conc_init\": target_conc_init\n",
        "    + target_conc_init_scale\n",
        "    * jax.random.normal(\n",
        "        key=rng_key_a,\n",
        "        shape=(N_strain, 2),\n",
        "    ),\n",
        "    \"log_sigma\": jnp.log(jnp.array([0.08, 0.1])),\n",
        "    \"log_mu_max\": a_mu_max\n",
        "    + tau_mu_max * jax.random.normal(rng_key_b, shape=(N_strain,)),\n",
        "    \"log_ks\": a_ks + tau_ks * jax.random.normal(rng_key_c, shape=(N_strain,)),\n",
        "    \"log_gamma\": a_gamma\n",
        "    + tau_gamma\n",
        "    * jax.random.normal(\n",
        "        rng_key_d,\n",
        "        shape=(N_strain,),\n",
        "    ),\n",
        "}\n",
        "\n",
        "def get_strain_params(strain_ix, params):\n",
        "    def slice(leaf):\n",
        "        return (\n",
        "            leaf[strain_ix]\n",
        "            if (hasattr(leaf, \"shape\") and leaf.ndim > 0 and leaf.shape[0] == N_strain)\n",
        "            else leaf\n",
        "        )\n",
        "\n",
        "    return jax.tree.map(slice, params)\n",
        "\n",
        "true_params_strain_2 = get_strain_params(2, true_params)"
      ],
      "id": "5c2d020f"
    },
    {
      "cell_type": "markdown",
      "metadata": {},
      "source": [
        "### Defining the dynamics\n",
        "\n",
        "To implement our model using diffrax, we need to write down the dynamics\n",
        "as a Python function with a special signature `t, y, args`, where `t` is\n",
        "a float representing the time, `y` is a jax array of state variables and\n",
        "`args` is an arbitrary auxiliary\n",
        "[PyTree](https://docs.jax.dev/en/latest/pytrees.html), in this case a\n",
        "dictionary of parameters pertaining to a strain."
      ],
      "id": "fa5c1b4c-fc0f-49e9-944f-38c7b07f96ed"
    },
    {
      "cell_type": "code",
      "execution_count": 5,
      "metadata": {},
      "outputs": [],
      "source": [
        "def monod_kinetics(t, y, args):\n",
        "    x, s = y\n",
        "    mu_max = jnp.exp(args[\"log_mu_max\"])\n",
        "    ks = jnp.exp(args[\"log_ks\"])\n",
        "    gamma = jnp.exp(args[\"log_gamma\"])\n",
        "    mu = (mu_max * s) / (ks + s)\n",
        "    return jnp.array([mu * x, -gamma * mu * x])"
      ],
      "id": "a7d9b58e"
    },
    {
      "cell_type": "markdown",
      "metadata": {},
      "source": [
        "The next step is to wrap this function using the diffrax class `ODETerm`"
      ],
      "id": "9afc0d00-66bb-4bb9-9352-050a03dea662"
    },
    {
      "cell_type": "code",
      "execution_count": 6,
      "metadata": {},
      "outputs": [],
      "source": [
        "monod_term = diffrax.ODETerm(monod_kinetics)"
      ],
      "id": "7cf0a58c"
    },
    {
      "cell_type": "markdown",
      "metadata": {},
      "source": [
        "Now we can choose a solver, stepsize controller, initial sensitivity and\n",
        "time points, then simulate"
      ],
      "id": "89110ee5-29bd-49eb-bca9-e8f72ba0cbd7"
    },
    {
      "cell_type": "code",
      "execution_count": 7,
      "metadata": {},
      "outputs": [],
      "source": [
        "monod_term = diffrax.ODETerm(monod_kinetics)\n",
        "solver = diffrax.Kvaerno5()\n",
        "stepsize_controller = diffrax.PIDController(rtol=1e-8, atol=1e-8)\n",
        "t0 = 0.0\n",
        "tf = timepoints[-1]\n",
        "dt0 = 0.001\n",
        "y0 = jnp.exp(true_params_strain_2[\"log_conc_init\"])\n",
        "saveat = diffrax.SaveAt(ts=timepoints)\n",
        "solution = diffrax.diffeqsolve(\n",
        "    monod_term,\n",
        "    solver,\n",
        "    t0=t0,\n",
        "    t1=tf,\n",
        "    dt0=dt0,\n",
        "    y0=y0,\n",
        "    saveat=saveat,\n",
        "    args=true_params_strain_2,\n",
        "    stepsize_controller=stepsize_controller,\n",
        ")"
      ],
      "id": "7b01a453"
    },
    {
      "cell_type": "code",
      "execution_count": 8,
      "metadata": {},
      "outputs": [
        {
          "output_type": "display_data",
          "metadata": {},
          "data": {
            "image/png": "[encoded data removed]"
          }
        }
      ],
      "source": [
        "f, ax = plt.subplots()\n",
        "for yi, label in zip(solution.ys.T, [\"substrate\", \"product\"]):\n",
        "  ax.plot(timepoints, yi, label=label)\n",
        "ax.legend()"
      ],
      "id": "74e281b3"
    },
    {
      "cell_type": "markdown",
      "metadata": {},
      "source": [
        "nice!"
      ],
      "id": "5c8b2ed2-2fe4-4284-a04d-ed65476d608d"
    }
  ],
  "nbformat": 4,
  "nbformat_minor": 5,
  "metadata": {
    "kernelspec": {
      "name": "python3",
      "display_name": "Python 3 (ipykernel)",
      "language": "python",
      "path": "/Users/tedgro/repos/dtu-qmcm/bayesian_statistics_for_computational_biology/.venv/share/jupyter/kernels/python3"
    },
    "language_info": {
      "name": "python",
      "codemirror_mode": {
        "name": "ipython",
        "version": "3"
      },
      "file_extension": ".py",
      "mimetype": "text/x-python",
      "nbconvert_exporter": "python",
      "pygments_lexer": "ipython3",
      "version": "3.13.2"
    }
  }
}