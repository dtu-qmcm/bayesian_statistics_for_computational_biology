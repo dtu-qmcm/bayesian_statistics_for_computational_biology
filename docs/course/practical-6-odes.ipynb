{
  "cells": [
    {
      "cell_type": "markdown",
      "metadata": {},
      "source": [
        "# ODEs with JAX\n",
        "\n",
        "A big benefit of using JAX to write our statistical models is that we\n",
        "don’t have to use specialised HMC optimised ODE software. As long as an\n",
        "ODE solving library is generally JAX-compatible, we can use it in our\n",
        "Bayesian statistical models.\n",
        "\n",
        "In practice there are two main choices:\n",
        "[probdiffeq](https://pnkraemer.github.io/probdiffeq/) and\n",
        "[diffrax](https://docs.kidger.site/diffrax/). Here we’ll focus on\n",
        "diffrax, as we (Teddy, Nick and Sergi) have more experience with it.\n",
        "\n",
        "We’ll use diffrax to solve the initial value problem introduced in the\n",
        "last session, then embed this solution inside a statistical model.\n",
        "\n",
        "## imports"
      ],
      "id": "4ab49f95-1bef-470e-ac05-35ae402d8297"
    },
    {
      "cell_type": "code",
      "execution_count": 1,
      "metadata": {},
      "outputs": [],
      "source": [
        "from functools import partial\n",
        "\n",
        "import operator\n",
        "import arviz as az\n",
        "import diffrax\n",
        "import numpy as np\n",
        "import jax\n",
        "\n",
        "from jax import numpy as jnp\n",
        "from jax import scipy as jsp\n",
        "from matplotlib import pyplot as plt"
      ],
      "id": "d40c7157"
    },
    {
      "cell_type": "markdown",
      "metadata": {},
      "source": [
        "### Specify true parameters\n",
        "\n",
        "This code specifies the dimensions of our problem."
      ],
      "id": "30c3c1bb-0701-4582-9b79-9a17f6d79006"
    },
    {
      "cell_type": "code",
      "execution_count": 2,
      "metadata": {},
      "outputs": [],
      "source": [
        "N_strain = 4\n",
        "N_tube = 16\n",
        "N_timepoint = 50\n",
        "duration = 30\n",
        "strains = [i + 1 for i in range(N_strain)]\n",
        "tubes = [i + 1 for i in range(N_tube)]\n",
        "species = [\"biomass\", \"substrate\"]\n",
        "measurement_times = np.array([4.0, 7.0, 12.0, 15.0, 17.0])\n",
        "timepoints = jnp.linspace(0.01, duration, N_timepoint)"
      ],
      "id": "f3517f3e"
    },
    {
      "cell_type": "markdown",
      "metadata": {},
      "source": [
        "To generate random numbers with JAX we need to explicitly create some\n",
        "random key objects."
      ],
      "id": "9b43f483-a0da-4602-af28-3e849e963dfa"
    },
    {
      "cell_type": "code",
      "execution_count": 3,
      "metadata": {},
      "outputs": [],
      "source": [
        "SEED = 12345\n",
        "key = jax.random.key(seed=SEED)\n",
        "rng_key, key = jax.random.split(key)\n",
        "rng_key_a, rng_key_b, rng_key_c, rng_key_d = jax.random.split(rng_key, 4)"
      ],
      "id": "ebe185b9"
    },
    {
      "cell_type": "markdown",
      "metadata": {},
      "source": [
        "This code defines some true values for the parameters - we will use\n",
        "these to generate fake data. Note that we avoid putting any constrained\n",
        "variables in the parameters using some log transformations."
      ],
      "id": "d7ba956e-1483-4c73-83a7-032e2c751b99"
    },
    {
      "cell_type": "code",
      "execution_count": 4,
      "metadata": {},
      "outputs": [
        {
          "output_type": "display_data",
          "metadata": {},
          "data": {
            "text/plain": [
              "{'a_gamma': -0.6,\n",
              " 'a_ks': -1.3,\n",
              " 'a_mu_max': -1.7,\n",
              " 'log_conc_init': Array([-2.043062,  0.148519], dtype=float32),\n",
              " 'log_gamma': Array(-0.5753846, dtype=float32),\n",
              " 'log_ks': Array(-1.4795702, dtype=float32),\n",
              " 'log_mu_max': Array(-1.9427458, dtype=float32),\n",
              " 'log_sigma': Array([-2.5257287, -2.3025851], dtype=float32),\n",
              " 'log_tau_gamma': Array(-2.040221, dtype=float32, weak_type=True),\n",
              " 'log_tau_ks': Array(-1.2039728, dtype=float32, weak_type=True),\n",
              " 'log_tau_mu_max': Array(-1.609438, dtype=float32, weak_type=True)}"
            ]
          }
        }
      ],
      "source": [
        "a_mu_max = -1.7\n",
        "log_t_mu_max = jnp.log(0.2)\n",
        "a_ks = -1.3\n",
        "a_mu_max = -1.7\n",
        "a_gamma = -0.6\n",
        "tau_mu_max = 0.2\n",
        "tau_ks = 0.3\n",
        "tau_gamma = 0.13\n",
        "target_conc_init = jnp.array([-2.1, 0.2])\n",
        "target_conc_init_scale = jnp.array([0.1, 0.05])\n",
        "\n",
        "true_params = {\n",
        "    \"a_mu_max\": a_mu_max,\n",
        "    \"a_ks\": a_ks,\n",
        "    \"a_gamma\": a_gamma,\n",
        "    \"log_tau_mu_max\": jnp.log(tau_mu_max),\n",
        "    \"log_tau_ks\": jnp.log(tau_ks),\n",
        "    \"log_tau_gamma\": jnp.log(tau_gamma),\n",
        "    \"log_conc_init\": target_conc_init\n",
        "    + target_conc_init_scale\n",
        "    * jax.random.normal(\n",
        "        key=rng_key_a,\n",
        "        shape=(N_strain, 2),\n",
        "    ),\n",
        "    \"log_sigma\": jnp.log(jnp.array([0.08, 0.1])),\n",
        "    \"log_mu_max\": a_mu_max\n",
        "    + tau_mu_max * jax.random.normal(rng_key_b, shape=(N_strain,)),\n",
        "    \"log_ks\": a_ks + tau_ks * jax.random.normal(rng_key_c, shape=(N_strain,)),\n",
        "    \"log_gamma\": a_gamma\n",
        "    + tau_gamma\n",
        "    * jax.random.normal(\n",
        "        rng_key_d,\n",
        "        shape=(N_strain,),\n",
        "    ),\n",
        "}\n",
        "\n",
        "\n",
        "def get_strain_params(strain_ix, params):\n",
        "    def slice(leaf):\n",
        "        return (\n",
        "            leaf[strain_ix]\n",
        "            if (hasattr(leaf, \"shape\") and leaf.ndim > 0 and leaf.shape[0] == N_strain)\n",
        "            else leaf\n",
        "        )\n",
        "\n",
        "    return jax.tree.map(slice, params)\n",
        "\n",
        "true_params_strain_2 = get_strain_params(2, true_params)\n",
        "true_params_strain_2"
      ],
      "id": "f3fbb8c8"
    },
    {
      "cell_type": "markdown",
      "metadata": {},
      "source": [
        "### Defining the dynamics\n",
        "\n",
        "To implement our model using diffrax, we need to write down the dynamics\n",
        "as a Python function with a special signature `t, y, args`, where `t` is\n",
        "a float representing the time, `y` is a jax array of state variables and\n",
        "`args` is an arbitrary auxiliary\n",
        "[PyTree](https://docs.jax.dev/en/latest/pytrees.html), in this case a\n",
        "dictionary of parameters pertaining to a strain."
      ],
      "id": "f50618cc-8861-4d49-9296-b70a8ec90e65"
    },
    {
      "cell_type": "code",
      "execution_count": 5,
      "metadata": {},
      "outputs": [],
      "source": [
        "def monod_kinetics(t, y, args):\n",
        "    x, s = y\n",
        "    mu_max = jnp.exp(args[\"log_mu_max\"])\n",
        "    ks = jnp.exp(args[\"log_ks\"])\n",
        "    gamma = jnp.exp(args[\"log_gamma\"])\n",
        "    mu = (mu_max * s) / (ks + s)\n",
        "    return jnp.array([mu * x, -gamma * mu * x])"
      ],
      "id": "897a0612"
    },
    {
      "cell_type": "markdown",
      "metadata": {},
      "source": [
        "### Solving the initial value problem\n",
        "\n",
        "The next step is to wrap this function using the diffrax class `ODETerm`"
      ],
      "id": "4b2a0237-da00-420f-b96f-123cba2f0973"
    },
    {
      "cell_type": "code",
      "execution_count": 6,
      "metadata": {},
      "outputs": [],
      "source": [
        "monod_term = diffrax.ODETerm(monod_kinetics)"
      ],
      "id": "86c8e454"
    },
    {
      "cell_type": "markdown",
      "metadata": {},
      "source": [
        "Now we can choose a solver, stepsize controller and initial sensitivity"
      ],
      "id": "a54f5e25-2cd1-44ea-ac08-7670c7fdb332"
    },
    {
      "cell_type": "code",
      "execution_count": 7,
      "metadata": {},
      "outputs": [],
      "source": [
        "solver = diffrax.Kvaerno5()\n",
        "stepsize_controller = diffrax.PIDController(rtol=1e-8, atol=1e-8)\n",
        "dt0 = 0.001\n"
      ],
      "id": "3bf080f6"
    },
    {
      "cell_type": "markdown",
      "metadata": {},
      "source": [
        "Now we can make a function for solving our initial value problem"
      ],
      "id": "c727cb1f-fae4-4d08-b1a5-78039ef69e52"
    },
    {
      "cell_type": "code",
      "execution_count": 8,
      "metadata": {},
      "outputs": [],
      "source": [
        "def solve_monod(args, timepoints):\n",
        "    t0 = 0.0\n",
        "    tf = timepoints[-1]\n",
        "    y0 = jnp.exp(args[\"log_conc_init\"])\n",
        "    saveat = diffrax.SaveAt(ts=timepoints)\n",
        "    return diffrax.diffeqsolve(\n",
        "        monod_term,\n",
        "        solver,\n",
        "        t0=t0,\n",
        "        t1=tf,\n",
        "        dt0=dt0,\n",
        "        y0=y0,\n",
        "        saveat=saveat,\n",
        "        args=args,\n",
        "        stepsize_controller=stepsize_controller,\n",
        "    )\n",
        "\n",
        "solution = solve_monod(args=true_params_strain_2, timepoints=timepoints)"
      ],
      "id": "7a088307"
    },
    {
      "cell_type": "code",
      "execution_count": 9,
      "metadata": {},
      "outputs": [
        {
          "output_type": "display_data",
          "metadata": {},
          "data": {
            "image/png": "[encoded data removed]"
          }
        }
      ],
      "source": [
        "f, ax = plt.subplots()\n",
        "for yi, label in zip(solution.ys.T, [\"substrate\", \"product\"]):\n",
        "    ax.plot(timepoints, yi, label=label)\n",
        "ax.legend()"
      ],
      "id": "e0a6d602"
    },
    {
      "cell_type": "markdown",
      "metadata": {},
      "source": [
        "Nice!\n",
        "\n",
        "## Defining a model\n",
        "\n",
        "### Joint log density function\n",
        "\n",
        "The next step is to write a joint log density function that connects\n",
        "parameters and data with measurables using `solve_monod`. We’ll do this\n",
        "bit by bit, starting with the prior log density:"
      ],
      "id": "2d0de2e7-73f9-4e7f-8de6-3801b8d53d61"
    },
    {
      "cell_type": "code",
      "execution_count": 10,
      "metadata": {},
      "outputs": [
        {
          "output_type": "display_data",
          "metadata": {},
          "data": {
            "text/plain": [
              "{'a_gamma': Array(1.3836465, dtype=float32, weak_type=True),\n",
              " 'a_ks': Array(1.3836465, dtype=float32, weak_type=True),\n",
              " 'a_mu_max': Array(1.3836465, dtype=float32, weak_type=True),\n",
              " 'log_conc_init': Array([[1.3836465, 1.3836465],\n",
              "        [1.3836465, 1.3836465],\n",
              "        [1.3836465, 1.3836465],\n",
              "        [1.3836465, 1.3836465]], dtype=float32),\n",
              " 'log_gamma': Array([1.3836465, 1.3836465, 1.3836465, 1.3836465], dtype=float32),\n",
              " 'log_ks': Array([1.3836465, 1.3836465, 1.3836465, 1.3836465], dtype=float32),\n",
              " 'log_mu_max': Array([1.3836465, 1.3836465, 1.3836465, 1.3836465], dtype=float32),\n",
              " 'log_sigma': Array([1.3836465, 1.3836465], dtype=float32),\n",
              " 'log_tau_gamma': Array(1.3836465, dtype=float32, weak_type=True),\n",
              " 'log_tau_ks': Array(1.3836465, dtype=float32, weak_type=True),\n",
              " 'log_tau_mu_max': Array(1.3836465, dtype=float32, weak_type=True)}"
            ]
          }
        }
      ],
      "source": [
        "def prior_log_density(params, prior):\n",
        "    loc, scale = prior\n",
        "    return jax.tree.map(jsp.stats.norm.logpdf, params, loc, scale)\n",
        "\n",
        "example_prior_loc = jax.tree.map(jnp.array, true_params)\n",
        "example_prior_scale = jax.tree.map(\n",
        "    lambda x: jnp.full_like(x, 0.1),\n",
        "    true_params,\n",
        ")\n",
        "example_prior = (example_prior_loc, example_prior_scale)\n",
        "example_log_prior = prior_log_density(true_params, example_prior)\n",
        "example_log_prior"
      ],
      "id": "f71c55f6"
    },
    {
      "cell_type": "markdown",
      "metadata": {},
      "source": [
        "now the likelihood:"
      ],
      "id": "efaa41cc-d124-4d16-b18a-2672aba9c737"
    },
    {
      "cell_type": "code",
      "execution_count": 11,
      "metadata": {},
      "outputs": [
        {
          "output_type": "display_data",
          "metadata": {},
          "data": {
            "text/plain": [
              "Array([[[0.22783391, 0.96208405],\n",
              "        [0.2802295 , 1.1829902 ],\n",
              "        [0.6151478 , 0.96014714],\n",
              "        [0.808359  , 0.8715509 ],\n",
              "        [1.0103092 , 0.59285116]],\n",
              "\n",
              "       [[0.23718558, 0.87122196],\n",
              "        [0.2716521 , 1.252538  ],\n",
              "        [0.46342003, 0.94091225],\n",
              "        [0.6423971 , 1.1722577 ],\n",
              "        [0.78577113, 0.8686925 ]],\n",
              "\n",
              "       [[0.23523214, 1.3224756 ],\n",
              "        [0.29459015, 0.84505486],\n",
              "        [0.48906034, 1.069513  ],\n",
              "        [0.64119184, 0.58480805],\n",
              "        [0.7719773 , 0.76687366]],\n",
              "\n",
              "       [[0.19057587, 1.1378189 ],\n",
              "        [0.2525575 , 1.0086107 ],\n",
              "        [0.4153177 , 0.83254826],\n",
              "        [0.6303718 , 1.1003901 ],\n",
              "        [0.6436955 , 0.885998  ]]], dtype=float32)"
            ]
          }
        }
      ],
      "source": [
        "def likelihood_log_density(obs, params, measurement_times):\n",
        "    n_strain = params[\"log_mu_max\"].shape[0]\n",
        "    strains = jnp.arange(n_strain)\n",
        "    yhat = jax.vmap(\n",
        "        lambda i: solve_monod(get_strain_params(i, params), measurement_times).ys,\n",
        "    )(strains)\n",
        "    log_yhat = jnp.log(jnp.maximum(yhat, jnp.full_like(yhat, 1e-9)))\n",
        "    sigma = jnp.exp(params[\"log_sigma\"])\n",
        "    log_obs = jnp.log(obs)\n",
        "    return jsp.stats.norm.logpdf(log_obs, log_yhat, sigma)\n",
        "\n",
        "\n",
        "def simulate_measurements(key, params, measurement_times):\n",
        "    n_strain = params[\"log_mu_max\"].shape[0]\n",
        "    strains = jnp.arange(n_strain)\n",
        "    yhat = jax.vmap(\n",
        "        lambda i: solve_monod(get_strain_params(i, params), measurement_times).ys\n",
        "    )(strains)\n",
        "    sigma = jnp.exp(params[\"log_sigma\"])\n",
        "    noise = jax.random.normal(key, shape=yhat.shape) * sigma\n",
        "    return jnp.exp(jnp.log(yhat) + noise)\n",
        "\n",
        "\n",
        "sim_key, key = jax.random.split(key)\n",
        "example_obs = simulate_measurements(sim_key, true_params, measurement_times)\n",
        "example_obs"
      ],
      "id": "161ae162"
    },
    {
      "cell_type": "code",
      "execution_count": 12,
      "metadata": {},
      "outputs": [
        {
          "output_type": "display_data",
          "metadata": {},
          "data": {
            "text/plain": [
              "Array([[[ 0.6803185 ,  0.21532977],\n",
              "        [ 1.2108381 ,  0.8320693 ],\n",
              "        [ 1.0624793 ,  1.2488012 ],\n",
              "        [ 1.6026926 ,  0.5788903 ],\n",
              "        [ 1.588413  ,  1.0270905 ]],\n",
              "\n",
              "       [[-0.29656756, -1.6563145 ],\n",
              "        [ 1.5831385 ,  0.18755579],\n",
              "        [ 1.6001872 ,  1.3399622 ],\n",
              "        [ 1.4896955 , -2.7660604 ],\n",
              "        [ 1.4342949 ,  1.0837686 ]],\n",
              "\n",
              "       [[ 0.51660633, -0.0654397 ],\n",
              "        [ 1.5944276 , -1.2969908 ],\n",
              "        [ 0.9780934 ,  0.43840444],\n",
              "        [-0.3893932 , -3.9161468 ],\n",
              "        [-1.3531868 ,  1.035675  ]],\n",
              "\n",
              "       [[ 1.6066262 ,  1.3783708 ],\n",
              "        [ 1.5671532 ,  0.90355957],\n",
              "        [ 1.5661874 , -0.6937643 ],\n",
              "        [ 0.7906398 ,  0.16633916],\n",
              "        [ 1.2486979 ,  1.3766443 ]]], dtype=float32)"
            ]
          }
        }
      ],
      "source": [
        "likelihood_log_density(example_obs, true_params, measurement_times)"
      ],
      "id": "9dd66e12"
    },
    {
      "cell_type": "markdown",
      "metadata": {},
      "source": [
        "And finally we can write down a joint log density function"
      ],
      "id": "5f87d8d6-4897-4707-8826-73f8bb21e0d6"
    },
    {
      "cell_type": "code",
      "execution_count": 13,
      "metadata": {},
      "outputs": [
        {
          "output_type": "display_data",
          "metadata": {},
          "data": {
            "text/plain": [
              "Array(60.241196, dtype=float32)"
            ]
          }
        }
      ],
      "source": [
        "def joint_log_density(params, obs, prior, measurement_times):\n",
        "    lprior = prior_log_density(params, prior)\n",
        "    llik = likelihood_log_density(obs, params, measurement_times)\n",
        "    lprior_sum = jax.tree.reduce(operator.add, jax.tree.map(jnp.sum, lprior))\n",
        "    llik_sum = jax.tree.reduce(operator.add, jax.tree.map(jnp.sum, llik))\n",
        "    return lprior_sum + llik_sum\n",
        "\n",
        "\n",
        "joint_log_density(true_params, example_obs,  example_prior, measurement_times)"
      ],
      "id": "a496a3a8"
    },
    {
      "cell_type": "markdown",
      "metadata": {},
      "source": [
        "### Posterior\n",
        "\n",
        "When we have concrete values for observations, prior and measurement\n",
        "times, we want a new function based on the joint log density, where\n",
        "these values are fixed. This is an ideal job for the Python standard\n",
        "library function `partial`. The resulting posterior log density function\n",
        "has only one argument for parameters."
      ],
      "id": "8f9f0905-2eb2-425e-b827-2ffba3cc36a4"
    },
    {
      "cell_type": "code",
      "execution_count": 14,
      "metadata": {},
      "outputs": [
        {
          "output_type": "display_data",
          "metadata": {},
          "data": {
            "text/plain": [
              "Array(60.241196, dtype=float32)"
            ]
          }
        }
      ],
      "source": [
        "posterior_log_density = partial(\n",
        "    joint_log_density,\n",
        "    obs=example_obs,\n",
        "    prior=example_prior,\n",
        "    measurement_times=measurement_times\n",
        ")\n",
        "posterior_log_density(true_params)"
      ],
      "id": "a87fcf69"
    },
    {
      "cell_type": "markdown",
      "metadata": {},
      "source": [
        "## MCMC\n",
        "\n",
        "Now we can generate posterior samples using adaptive Hamiltonian Monte\n",
        "Carlo via the library\n",
        "[blackjax](https://blackjax-devs.github.io/blackjax/).\n",
        "\n",
        "> **Note**\n",
        ">\n",
        "> Multi-chain MCMC with Blackjax is a bit annoying to do manually so I\n",
        "> made some convenience functions `run_nuts` and `get_idata`. These\n",
        "> should probably already be installed - if not just run `uv sync` from\n",
        "> the project root."
      ],
      "id": "a8ca9d5d-4ddb-4c26-9870-6da2eef6ecd9"
    },
    {
      "cell_type": "code",
      "execution_count": 15,
      "metadata": {},
      "outputs": [
        {
          "output_type": "stream",
          "name": "stdout",
          "text": [
            "Number of divergent transitions: 0\n",
            "                              mean     sd  hdi_3%  hdi_97%  mcse_mean  \\\n",
            "a_gamma                     -0.601  0.095  -0.771   -0.425      0.002   \n",
            "a_ks                        -1.303  0.113  -1.509   -1.099      0.003   \n",
            "a_mu_max                    -1.698  0.100  -1.882   -1.517      0.002   \n",
            "log_conc_init[1, biomass]   -2.073  0.060  -2.182   -1.955      0.002   \n",
            "log_conc_init[1, substrate]  0.163  0.045   0.076    0.249      0.001   \n",
            "log_conc_init[2, biomass]   -1.954  0.057  -2.066   -1.855      0.002   \n",
            "log_conc_init[2, substrate]  0.179  0.045   0.094    0.260      0.001   \n",
            "log_conc_init[3, biomass]   -1.968  0.059  -2.073   -1.859      0.002   \n",
            "log_conc_init[3, substrate]  0.094  0.045   0.013    0.173      0.002   \n",
            "log_conc_init[4, biomass]   -2.064  0.061  -2.183   -1.948      0.002   \n",
            "log_conc_init[4, substrate]  0.151  0.043   0.072    0.236      0.001   \n",
            "log_gamma[1]                -0.553  0.087  -0.712   -0.387      0.003   \n",
            "log_gamma[2]                -0.606  0.100  -0.792   -0.425      0.004   \n",
            "log_gamma[3]                -0.549  0.104  -0.749   -0.361      0.004   \n",
            "log_gamma[4]                -0.612  0.101  -0.791   -0.406      0.003   \n",
            "log_ks[1]                   -1.214  0.093  -1.392   -1.040      0.003   \n",
            "log_ks[2]                   -1.156  0.106  -1.359   -0.964      0.003   \n",
            "log_ks[3]                   -1.455  0.101  -1.642   -1.270      0.004   \n",
            "log_ks[4]                   -1.057  0.096  -1.231   -0.877      0.002   \n",
            "log_mu_max[1]               -1.822  0.047  -1.910   -1.736      0.002   \n",
            "log_mu_max[2]               -2.050  0.054  -2.141   -1.942      0.002   \n",
            "log_mu_max[3]               -2.049  0.051  -2.149   -1.965      0.002   \n",
            "log_mu_max[4]               -2.026  0.056  -2.132   -1.924      0.002   \n",
            "log_sigma[biomass]          -2.558  0.094  -2.716   -2.372      0.003   \n",
            "log_sigma[substrate]        -2.113  0.080  -2.261   -1.967      0.002   \n",
            "log_tau_gamma               -2.049  0.102  -2.249   -1.861      0.003   \n",
            "log_tau_ks                  -1.204  0.099  -1.401   -1.044      0.002   \n",
            "log_tau_mu_max              -1.606  0.096  -1.798   -1.434      0.003   \n",
            "\n",
            "                             mcse_sd  ess_bulk  ess_tail  r_hat  \n",
            "a_gamma                        0.003    1653.0     656.0   1.00  \n",
            "a_ks                           0.005    1819.0     561.0   1.00  \n",
            "a_mu_max                       0.004    1993.0     714.0   1.00  \n",
            "log_conc_init[1, biomass]      0.002     720.0     592.0   1.00  \n",
            "log_conc_init[1, substrate]    0.002    1155.0     684.0   1.00  \n",
            "log_conc_init[2, biomass]      0.002     656.0     549.0   1.01  \n",
            "log_conc_init[2, substrate]    0.002    1074.0     701.0   1.01  \n",
            "log_conc_init[3, biomass]      0.002     789.0     530.0   1.00  \n",
            "log_conc_init[3, substrate]    0.001     811.0     530.0   1.00  \n",
            "log_conc_init[4, biomass]      0.002     883.0     481.0   1.00  \n",
            "log_conc_init[4, substrate]    0.002    1216.0     678.0   1.02  \n",
            "log_gamma[1]                   0.003     807.0     580.0   1.00  \n",
            "log_gamma[2]                   0.004     784.0     526.0   1.00  \n",
            "log_gamma[3]                   0.003     789.0     590.0   1.01  \n",
            "log_gamma[4]                   0.004    1326.0     559.0   1.01  \n",
            "log_ks[1]                      0.004     883.0     520.0   1.01  \n",
            "log_ks[2]                      0.004     963.0     515.0   1.00  \n",
            "log_ks[3]                      0.004     749.0     572.0   1.01  \n",
            "log_ks[4]                      0.004    1763.0     629.0   1.00  \n",
            "log_mu_max[1]                  0.001     630.0     562.0   1.00  \n",
            "log_mu_max[2]                  0.002     564.0     644.0   1.00  \n",
            "log_mu_max[3]                  0.002     650.0     606.0   1.00  \n",
            "log_mu_max[4]                  0.002     795.0     586.0   1.00  \n",
            "log_sigma[biomass]             0.003    1028.0     528.0   1.01  \n",
            "log_sigma[substrate]           0.003    1752.0     582.0   1.00  \n",
            "log_tau_gamma                  0.003     930.0     654.0   1.00  \n",
            "log_tau_ks                     0.004    1633.0     691.0   1.00  \n",
            "log_tau_mu_max                 0.004    1031.0     632.0   1.00  "
          ]
        }
      ],
      "source": [
        "from blackjax_utils import run_nuts, get_idata\n",
        "states, info = run_nuts(\n",
        "    key,\n",
        "    jax.jit(posterior_log_density),\n",
        "    init_params=example_prior_loc,\n",
        "    n_chain=4,\n",
        "    n_warmup=200,\n",
        "    n_sample=200,\n",
        "    target_acceptance_rate=0.9,\n",
        "    initial_step_size=0.001,\n",
        ")\n",
        "\n",
        "coords = {\n",
        "    \"strain\": strains,\n",
        "    \"tube\": tubes,\n",
        "    \"species\": species,\n",
        "    \"timepoint\": timepoints,\n",
        "}\n",
        "dims = {\n",
        "    \"log_conc_init\": [\"strain\", \"species\"],\n",
        "    \"log_gamma\": [\"strain\"],\n",
        "    \"log_ks\": [\"strain\"],\n",
        "    \"log_mu_max\": [\"strain\"],\n",
        "    \"log_sigma\": [\"species\"],\n",
        "}\n",
        "\n",
        "idata = get_idata(states, info, coords=coords, dims=dims)\n",
        "n_divergent = idata.sample_stats[\"is_divergent\"].sum().item()\n",
        "print(f\"Number of divergent transitions: {n_divergent}\")\n",
        "print(az.summary(idata))"
      ],
      "id": "3f0279ef"
    },
    {
      "cell_type": "markdown",
      "metadata": {},
      "source": [
        "> **Exercise**\n",
        ">\n",
        "> How good was our model?\n",
        ">\n",
        "> To answer this question, try:\n",
        ">\n",
        "> -   for each parameter, compare the true value with the model’s\n",
        ">     marginal posterior distribution.\n",
        "> -   plot the timecourses for a sample of parameters and compare with\n",
        ">     the real timecourse"
      ],
      "id": "3ef04726-a9fd-401e-92d5-ab439c5ddf91"
    }
  ],
  "nbformat": 4,
  "nbformat_minor": 5,
  "metadata": {
    "kernelspec": {
      "name": "python3",
      "display_name": "Python 3 (ipykernel)",
      "language": "python",
      "path": "/Users/tedgro/repos/dtu-qmcm/bayesian_statistics_for_computational_biology/.venv/share/jupyter/kernels/python3"
    }
  }
}