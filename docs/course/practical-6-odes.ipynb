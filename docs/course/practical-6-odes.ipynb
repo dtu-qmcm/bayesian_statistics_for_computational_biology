{
  "cells": [
    {
      "cell_type": "markdown",
      "metadata": {},
      "source": [
        "# ODEs with JAX\n",
        "\n",
        "A big benefit of using JAX to write our statistical models is that we\n",
        "don’t have to use specialised HMC optimised ODE software. As long as an\n",
        "ODE solving library is generally JAX-compatible, we can use it in our\n",
        "Bayesian statistical models.\n",
        "\n",
        "In practice there are two main choices:\n",
        "[probdiffeq](https://pnkraemer.github.io/probdiffeq/) and\n",
        "[diffrax](https://docs.kidger.site/diffrax/). Here we’ll focus on\n",
        "diffrax, as we (Teddy, Nick and Sergi) have more experience with it.\n",
        "\n",
        "We’ll use diffrax to solve the initial value problem introduced in the\n",
        "last session, then embed this solution inside a statistical model.\n",
        "\n",
        "## imports"
      ],
      "id": "9a7b8f34-f268-4cfb-8031-a680deec9379"
    },
    {
      "cell_type": "code",
      "execution_count": 1,
      "metadata": {},
      "outputs": [],
      "source": [
        "from functools import partial\n",
        "\n",
        "import operator\n",
        "import arviz as az\n",
        "import diffrax\n",
        "import numpy as np\n",
        "import jax\n",
        "\n",
        "from jax import numpy as jnp\n",
        "from jax import scipy as jsp\n",
        "from matplotlib import pyplot as plt"
      ],
      "id": "c8f665d6"
    },
    {
      "cell_type": "markdown",
      "metadata": {},
      "source": [
        "### Specify true parameters\n",
        "\n",
        "This code specifies the dimensions of our problem."
      ],
      "id": "885ee73c-8fde-4f90-863b-47ea822d0930"
    },
    {
      "cell_type": "code",
      "execution_count": 2,
      "metadata": {},
      "outputs": [
        {
          "output_type": "stream",
          "name": "stderr",
          "text": [
            "WARNING:2025-08-06 09:38:50,920:jax._src.xla_bridge:794: An NVIDIA GPU may be present on this machine, but a CUDA-enabled jaxlib is not installed. Falling back to cpu."
          ]
        }
      ],
      "source": [
        "N_strain = 4\n",
        "N_tube = 16\n",
        "N_timepoint = 50\n",
        "duration = 30\n",
        "strains = [i + 1 for i in range(N_strain)]\n",
        "tubes = [i + 1 for i in range(N_tube)]\n",
        "species = [\"biomass\", \"substrate\"]\n",
        "measurement_times = np.array([4.0, 7.0, 12.0, 15.0, 17.0])\n",
        "timepoints = jnp.linspace(0.01, duration, N_timepoint)"
      ],
      "id": "d564f373"
    },
    {
      "cell_type": "markdown",
      "metadata": {},
      "source": [
        "To generate random numbers with JAX we need to explicitly create some\n",
        "random key objects."
      ],
      "id": "bff7a4f3-a5e5-406c-aa03-bc199e0418d4"
    },
    {
      "cell_type": "code",
      "execution_count": 3,
      "metadata": {},
      "outputs": [],
      "source": [
        "SEED = 12345\n",
        "key = jax.random.key(seed=SEED)\n",
        "rng_key, key = jax.random.split(key)\n",
        "rng_key_a, rng_key_b, rng_key_c, rng_key_d = jax.random.split(rng_key, 4)"
      ],
      "id": "e0798dd4"
    },
    {
      "cell_type": "markdown",
      "metadata": {},
      "source": [
        "This code defines some true values for the parameters - we will use\n",
        "these to generate fake data. Note that we avoid putting any constrained\n",
        "variables in the parameters using some log transformations."
      ],
      "id": "5c1b0363-a9ea-4080-8694-e2dab3c74bda"
    },
    {
      "cell_type": "code",
      "execution_count": 4,
      "metadata": {},
      "outputs": [
        {
          "output_type": "display_data",
          "metadata": {},
          "data": {
            "text/plain": [
              "{'a_gamma': -0.6,\n",
              " 'a_ks': -1.3,\n",
              " 'a_mu_max': -1.7,\n",
              " 'log_conc_init': Array([-2.043062,  0.148519], dtype=float32),\n",
              " 'log_gamma': Array(-0.5753846, dtype=float32),\n",
              " 'log_ks': Array(-1.4795702, dtype=float32),\n",
              " 'log_mu_max': Array(-1.9427458, dtype=float32),\n",
              " 'log_sigma': Array([-2.5257287, -2.3025851], dtype=float32),\n",
              " 'log_tau_gamma': Array(-2.040221, dtype=float32, weak_type=True),\n",
              " 'log_tau_ks': Array(-1.2039728, dtype=float32, weak_type=True),\n",
              " 'log_tau_mu_max': Array(-1.609438, dtype=float32, weak_type=True)}"
            ]
          }
        }
      ],
      "source": [
        "a_mu_max = -1.7\n",
        "log_t_mu_max = jnp.log(0.2)\n",
        "a_ks = -1.3\n",
        "a_mu_max = -1.7\n",
        "a_gamma = -0.6\n",
        "tau_mu_max = 0.2\n",
        "tau_ks = 0.3\n",
        "tau_gamma = 0.13\n",
        "target_conc_init = jnp.array([-2.1, 0.2])\n",
        "target_conc_init_scale = jnp.array([0.1, 0.05])\n",
        "\n",
        "true_params = {\n",
        "    \"a_mu_max\": a_mu_max,\n",
        "    \"a_ks\": a_ks,\n",
        "    \"a_gamma\": a_gamma,\n",
        "    \"log_tau_mu_max\": jnp.log(tau_mu_max),\n",
        "    \"log_tau_ks\": jnp.log(tau_ks),\n",
        "    \"log_tau_gamma\": jnp.log(tau_gamma),\n",
        "    \"log_conc_init\": target_conc_init\n",
        "    + target_conc_init_scale\n",
        "    * jax.random.normal(\n",
        "        key=rng_key_a,\n",
        "        shape=(N_strain, 2),\n",
        "    ),\n",
        "    \"log_sigma\": jnp.log(jnp.array([0.08, 0.1])),\n",
        "    \"log_mu_max\": a_mu_max\n",
        "    + tau_mu_max * jax.random.normal(rng_key_b, shape=(N_strain,)),\n",
        "    \"log_ks\": a_ks + tau_ks * jax.random.normal(rng_key_c, shape=(N_strain,)),\n",
        "    \"log_gamma\": a_gamma\n",
        "    + tau_gamma\n",
        "    * jax.random.normal(\n",
        "        rng_key_d,\n",
        "        shape=(N_strain,),\n",
        "    ),\n",
        "}\n",
        "\n",
        "\n",
        "def get_strain_params(strain_ix, params):\n",
        "    def slice(leaf):\n",
        "        return (\n",
        "            leaf[strain_ix]\n",
        "            if (hasattr(leaf, \"shape\") and leaf.ndim > 0 and leaf.shape[0] == N_strain)\n",
        "            else leaf\n",
        "        )\n",
        "\n",
        "    return jax.tree.map(slice, params)\n",
        "\n",
        "true_params_strain_2 = get_strain_params(2, true_params)\n",
        "true_params_strain_2"
      ],
      "id": "fb0f1db7"
    },
    {
      "cell_type": "markdown",
      "metadata": {},
      "source": [
        "### Defining the dynamics\n",
        "\n",
        "To implement our model using diffrax, we need to write down the dynamics\n",
        "as a Python function with a special signature `t, y, args`, where `t` is\n",
        "a float representing the time, `y` is a jax array of state variables and\n",
        "`args` is an arbitrary auxiliary\n",
        "[PyTree](https://docs.jax.dev/en/latest/pytrees.html), in this case a\n",
        "dictionary of parameters pertaining to a strain."
      ],
      "id": "851a48c1-380c-4fd9-9f3b-21a800fab878"
    },
    {
      "cell_type": "code",
      "execution_count": 5,
      "metadata": {},
      "outputs": [],
      "source": [
        "def monod_kinetics(t, y, args):\n",
        "    x, s = y\n",
        "    mu_max = jnp.exp(args[\"log_mu_max\"])\n",
        "    ks = jnp.exp(args[\"log_ks\"])\n",
        "    gamma = jnp.exp(args[\"log_gamma\"])\n",
        "    mu = (mu_max * s) / (ks + s)\n",
        "    return jnp.array([mu * x, -gamma * mu * x])"
      ],
      "id": "bf1b714c"
    },
    {
      "cell_type": "markdown",
      "metadata": {},
      "source": [
        "### Solving the initial value problem\n",
        "\n",
        "The next step is to wrap this function using the diffrax class `ODETerm`"
      ],
      "id": "a65b3305-44a5-4e18-84f6-c2dbfad3d48c"
    },
    {
      "cell_type": "code",
      "execution_count": 6,
      "metadata": {},
      "outputs": [],
      "source": [
        "monod_term = diffrax.ODETerm(monod_kinetics)"
      ],
      "id": "44f82f29"
    },
    {
      "cell_type": "markdown",
      "metadata": {},
      "source": [
        "Now we can choose a solver, stepsize controller and initial sensitivity"
      ],
      "id": "21fe16d5-a6a6-4903-8feb-a4c5af431b20"
    },
    {
      "cell_type": "code",
      "execution_count": 7,
      "metadata": {},
      "outputs": [],
      "source": [
        "solver = diffrax.Kvaerno5()\n",
        "stepsize_controller = diffrax.PIDController(rtol=1e-8, atol=1e-8)\n",
        "dt0 = 0.001\n"
      ],
      "id": "b4d5321d"
    },
    {
      "cell_type": "markdown",
      "metadata": {},
      "source": [
        "Now we can make a function for solving our initial value problem"
      ],
      "id": "17227d88-051d-4a58-b992-7e99d4de73b5"
    },
    {
      "cell_type": "code",
      "execution_count": 8,
      "metadata": {},
      "outputs": [],
      "source": [
        "def solve_monod(args, timepoints):\n",
        "    t0 = 0.0\n",
        "    tf = timepoints[-1]\n",
        "    y0 = jnp.exp(args[\"log_conc_init\"])\n",
        "    saveat = diffrax.SaveAt(ts=timepoints)\n",
        "    return diffrax.diffeqsolve(\n",
        "        monod_term,\n",
        "        solver,\n",
        "        t0=t0,\n",
        "        t1=tf,\n",
        "        dt0=dt0,\n",
        "        y0=y0,\n",
        "        saveat=saveat,\n",
        "        args=args,\n",
        "        stepsize_controller=stepsize_controller,\n",
        "    )\n",
        "\n",
        "solution = solve_monod(args=true_params_strain_2, timepoints=timepoints)"
      ],
      "id": "c8ee68be"
    },
    {
      "cell_type": "code",
      "execution_count": 9,
      "metadata": {},
      "outputs": [
        {
          "output_type": "display_data",
          "metadata": {},
          "data": {
            "image/png": "[encoded data removed]"
          }
        }
      ],
      "source": [
        "f, ax = plt.subplots()\n",
        "for yi, label in zip(solution.ys.T, [\"substrate\", \"product\"]):\n",
        "    ax.plot(timepoints, yi, label=label)\n",
        "ax.legend()"
      ],
      "id": "9b9865b5"
    },
    {
      "cell_type": "markdown",
      "metadata": {},
      "source": [
        "Nice!\n",
        "\n",
        "## Defining a model\n",
        "\n",
        "### Joint log density function\n",
        "\n",
        "The next step is to write a joint log density function that connects\n",
        "parameters and data with measurables using `solve_monod`. We’ll do this\n",
        "bit by bit, starting with the prior log density:"
      ],
      "id": "d17c6538-8694-4632-acb5-266b38e40cfe"
    },
    {
      "cell_type": "code",
      "execution_count": 10,
      "metadata": {},
      "outputs": [
        {
          "output_type": "display_data",
          "metadata": {},
          "data": {
            "text/plain": [
              "{'a_gamma': Array(1.3836465, dtype=float32, weak_type=True),\n",
              " 'a_ks': Array(1.3836465, dtype=float32, weak_type=True),\n",
              " 'a_mu_max': Array(1.3836465, dtype=float32, weak_type=True),\n",
              " 'log_conc_init': Array([[1.3836465, 1.3836465],\n",
              "        [1.3836465, 1.3836465],\n",
              "        [1.3836465, 1.3836465],\n",
              "        [1.3836465, 1.3836465]], dtype=float32),\n",
              " 'log_gamma': Array([1.3836465, 1.3836465, 1.3836465, 1.3836465], dtype=float32),\n",
              " 'log_ks': Array([1.3836465, 1.3836465, 1.3836465, 1.3836465], dtype=float32),\n",
              " 'log_mu_max': Array([1.3836465, 1.3836465, 1.3836465, 1.3836465], dtype=float32),\n",
              " 'log_sigma': Array([1.3836465, 1.3836465], dtype=float32),\n",
              " 'log_tau_gamma': Array(1.3836465, dtype=float32, weak_type=True),\n",
              " 'log_tau_ks': Array(1.3836465, dtype=float32, weak_type=True),\n",
              " 'log_tau_mu_max': Array(1.3836465, dtype=float32, weak_type=True)}"
            ]
          }
        }
      ],
      "source": [
        "def prior_log_density(params, prior):\n",
        "    loc, scale = prior\n",
        "    return jax.tree.map(jsp.stats.norm.logpdf, params, loc, scale)\n",
        "\n",
        "example_prior_loc = jax.tree.map(jnp.array, true_params)\n",
        "example_prior_scale = jax.tree.map(\n",
        "    lambda x: jnp.full_like(x, 0.1),\n",
        "    true_params,\n",
        ")\n",
        "example_prior = (example_prior_loc, example_prior_scale)\n",
        "example_log_prior = prior_log_density(true_params, example_prior)\n",
        "example_log_prior"
      ],
      "id": "61db46de"
    },
    {
      "cell_type": "markdown",
      "metadata": {},
      "source": [
        "now the likelihood:"
      ],
      "id": "9479dc65-ea7c-4f6c-92e5-a345ef517df1"
    },
    {
      "cell_type": "code",
      "execution_count": 11,
      "metadata": {},
      "outputs": [
        {
          "output_type": "display_data",
          "metadata": {},
          "data": {
            "text/plain": [
              "Array([[[0.22783391, 0.96208405],\n",
              "        [0.2802295 , 1.1829902 ],\n",
              "        [0.6151478 , 0.96014714],\n",
              "        [0.808359  , 0.8715509 ],\n",
              "        [1.0103092 , 0.59285116]],\n",
              "\n",
              "       [[0.23718558, 0.87122196],\n",
              "        [0.2716521 , 1.252538  ],\n",
              "        [0.46342003, 0.94091225],\n",
              "        [0.6423971 , 1.1722577 ],\n",
              "        [0.78577113, 0.8686925 ]],\n",
              "\n",
              "       [[0.23523214, 1.3224756 ],\n",
              "        [0.29459015, 0.84505486],\n",
              "        [0.48906034, 1.069513  ],\n",
              "        [0.64119184, 0.58480805],\n",
              "        [0.7719773 , 0.76687366]],\n",
              "\n",
              "       [[0.19057587, 1.1378189 ],\n",
              "        [0.2525575 , 1.0086107 ],\n",
              "        [0.41531765, 0.83254826],\n",
              "        [0.630372  , 1.10039   ],\n",
              "        [0.64369535, 0.88599795]]], dtype=float32)"
            ]
          }
        }
      ],
      "source": [
        "def likelihood_log_density(obs, params, measurement_times):\n",
        "    n_strain = params[\"log_mu_max\"].shape[0]\n",
        "    strains = jnp.arange(n_strain)\n",
        "    yhat = jax.vmap(\n",
        "        lambda i: solve_monod(get_strain_params(i, params), measurement_times).ys,\n",
        "    )(strains)\n",
        "    log_yhat = jnp.log(jnp.maximum(yhat, jnp.full_like(yhat, 1e-9)))\n",
        "    sigma = jnp.exp(params[\"log_sigma\"])\n",
        "    log_obs = jnp.log(obs)\n",
        "    return jsp.stats.norm.logpdf(log_obs, log_yhat, sigma)\n",
        "\n",
        "\n",
        "def simulate_measurements(key, params, measurement_times):\n",
        "    n_strain = params[\"log_mu_max\"].shape[0]\n",
        "    strains = jnp.arange(n_strain)\n",
        "    yhat = jax.vmap(\n",
        "        lambda i: solve_monod(get_strain_params(i, params), measurement_times).ys\n",
        "    )(strains)\n",
        "    sigma = jnp.exp(params[\"log_sigma\"])\n",
        "    noise = jax.random.normal(key, shape=yhat.shape) * sigma\n",
        "    return jnp.exp(jnp.log(yhat) + noise)\n",
        "\n",
        "\n",
        "sim_key, key = jax.random.split(key)\n",
        "example_obs = simulate_measurements(sim_key, true_params, measurement_times)\n",
        "example_obs"
      ],
      "id": "7c4bf7ad"
    },
    {
      "cell_type": "code",
      "execution_count": 12,
      "metadata": {},
      "outputs": [
        {
          "output_type": "display_data",
          "metadata": {},
          "data": {
            "text/plain": [
              "Array([[[ 0.6803185 ,  0.21532977],\n",
              "        [ 1.2108381 ,  0.8320693 ],\n",
              "        [ 1.0624793 ,  1.2488012 ],\n",
              "        [ 1.6026926 ,  0.5788903 ],\n",
              "        [ 1.588413  ,  1.0270905 ]],\n",
              "\n",
              "       [[-0.29656756, -1.6563145 ],\n",
              "        [ 1.5831385 ,  0.18755579],\n",
              "        [ 1.6001872 ,  1.3399622 ],\n",
              "        [ 1.4896955 , -2.7660604 ],\n",
              "        [ 1.4342949 ,  1.0837686 ]],\n",
              "\n",
              "       [[ 0.51660633, -0.0654397 ],\n",
              "        [ 1.5944276 , -1.2969908 ],\n",
              "        [ 0.9780934 ,  0.43840444],\n",
              "        [-0.3893932 , -3.9161468 ],\n",
              "        [-1.3531868 ,  1.035675  ]],\n",
              "\n",
              "       [[ 1.6066262 ,  1.3783708 ],\n",
              "        [ 1.5671532 ,  0.90355957],\n",
              "        [ 1.566187  , -0.6937643 ],\n",
              "        [ 0.7906398 ,  0.16633892],\n",
              "        [ 1.2486979 ,  1.3766443 ]]], dtype=float32)"
            ]
          }
        }
      ],
      "source": [
        "likelihood_log_density(example_obs, true_params, measurement_times)"
      ],
      "id": "a486f0e1"
    },
    {
      "cell_type": "markdown",
      "metadata": {},
      "source": [
        "And finally we can write down a joint log density function"
      ],
      "id": "8f81136a-dcad-4f9a-a062-a8a9c2f18668"
    },
    {
      "cell_type": "code",
      "execution_count": 13,
      "metadata": {},
      "outputs": [
        {
          "output_type": "display_data",
          "metadata": {},
          "data": {
            "text/plain": [
              "Array(60.241196, dtype=float32)"
            ]
          }
        }
      ],
      "source": [
        "def joint_log_density(params, obs, prior, measurement_times):\n",
        "    lprior = prior_log_density(params, prior)\n",
        "    llik = likelihood_log_density(obs, params, measurement_times)\n",
        "    lprior_sum = jax.tree.reduce(operator.add, jax.tree.map(jnp.sum, lprior))\n",
        "    llik_sum = jax.tree.reduce(operator.add, jax.tree.map(jnp.sum, llik))\n",
        "    return lprior_sum + llik_sum\n",
        "\n",
        "\n",
        "joint_log_density(true_params, example_obs,  example_prior, measurement_times)"
      ],
      "id": "25dbf91a"
    },
    {
      "cell_type": "markdown",
      "metadata": {},
      "source": [
        "### Posterior\n",
        "\n",
        "When we have concrete values for observations, prior and measurement\n",
        "times, we want a new function based on the joint log density, where\n",
        "these values are fixed. This is an ideal job for the Python standard\n",
        "library function `partial`. The resulting posterior log density function\n",
        "has only one argument for parameters."
      ],
      "id": "82b5b40b-089f-467b-8591-7cafc00fc368"
    },
    {
      "cell_type": "code",
      "execution_count": 14,
      "metadata": {},
      "outputs": [
        {
          "output_type": "display_data",
          "metadata": {},
          "data": {
            "text/plain": [
              "Array(60.241196, dtype=float32)"
            ]
          }
        }
      ],
      "source": [
        "posterior_log_density = partial(\n",
        "    joint_log_density,\n",
        "    obs=example_obs,\n",
        "    prior=example_prior,\n",
        "    measurement_times=measurement_times\n",
        ")\n",
        "posterior_log_density(true_params)"
      ],
      "id": "99b10841"
    },
    {
      "cell_type": "markdown",
      "metadata": {},
      "source": [
        "## MCMC\n",
        "\n",
        "Now we can generate posterior samples using adaptive Hamiltonian Monte\n",
        "Carlo via the library\n",
        "[blackjax](https://blackjax-devs.github.io/blackjax/).\n",
        "\n",
        "> **Note**\n",
        ">\n",
        "> Multi-chain MCMC with Blackjax is a bit annoying to do manually so I\n",
        "> made some convenience functions `run_nuts` and `get_idata`. These\n",
        "> should probably already be installed - if not just run `uv sync` from\n",
        "> the project root."
      ],
      "id": "ae24a4af-f3b5-4bf4-99b6-0a368a6bb4ea"
    },
    {
      "cell_type": "code",
      "execution_count": 15,
      "metadata": {},
      "outputs": [
        {
          "output_type": "stream",
          "name": "stdout",
          "text": [
            "Number of divergent transitions: 0\n",
            "                              mean     sd  hdi_3%  hdi_97%  mcse_mean  \\\n",
            "a_gamma                     -0.602  0.099  -0.798   -0.436      0.003   \n",
            "a_ks                        -1.302  0.114  -1.513   -1.093      0.003   \n",
            "a_mu_max                    -1.698  0.095  -1.862   -1.502      0.002   \n",
            "log_conc_init[1, biomass]   -2.073  0.062  -2.183   -1.951      0.002   \n",
            "log_conc_init[1, substrate]  0.162  0.044   0.078    0.243      0.001   \n",
            "log_conc_init[2, biomass]   -1.951  0.058  -2.059   -1.836      0.002   \n",
            "log_conc_init[2, substrate]  0.180  0.045   0.101    0.265      0.001   \n",
            "log_conc_init[3, biomass]   -1.971  0.059  -2.080   -1.864      0.002   \n",
            "log_conc_init[3, substrate]  0.094  0.045   0.024    0.188      0.002   \n",
            "log_conc_init[4, biomass]   -2.064  0.062  -2.191   -1.959      0.002   \n",
            "log_conc_init[4, substrate]  0.151  0.043   0.075    0.237      0.001   \n",
            "log_gamma[1]                -0.552  0.089  -0.714   -0.378      0.003   \n",
            "log_gamma[2]                -0.606  0.098  -0.778   -0.408      0.003   \n",
            "log_gamma[3]                -0.552  0.101  -0.736   -0.357      0.004   \n",
            "log_gamma[4]                -0.612  0.100  -0.797   -0.428      0.003   \n",
            "log_ks[1]                   -1.213  0.094  -1.394   -1.047      0.003   \n",
            "log_ks[2]                   -1.155  0.107  -1.346   -0.939      0.004   \n",
            "log_ks[3]                   -1.456  0.102  -1.634   -1.262      0.004   \n",
            "log_ks[4]                   -1.061  0.096  -1.229   -0.887      0.003   \n",
            "log_mu_max[1]               -1.823  0.047  -1.909   -1.734      0.002   \n",
            "log_mu_max[2]               -2.052  0.053  -2.141   -1.945      0.002   \n",
            "log_mu_max[3]               -2.049  0.050  -2.133   -1.949      0.002   \n",
            "log_mu_max[4]               -2.025  0.056  -2.122   -1.914      0.002   \n",
            "log_sigma[biomass]          -2.556  0.091  -2.725   -2.392      0.003   \n",
            "log_sigma[substrate]        -2.116  0.080  -2.268   -1.968      0.002   \n",
            "log_tau_gamma               -2.051  0.101  -2.261   -1.877      0.004   \n",
            "log_tau_ks                  -1.203  0.095  -1.390   -1.041      0.003   \n",
            "log_tau_mu_max              -1.604  0.099  -1.798   -1.430      0.002   \n",
            "\n",
            "                             mcse_sd  ess_bulk  ess_tail  r_hat  \n",
            "a_gamma                        0.004    1410.0     554.0   1.01  \n",
            "a_ks                           0.005    2043.0     591.0   1.00  \n",
            "a_mu_max                       0.003    1945.0     713.0   1.00  \n",
            "log_conc_init[1, biomass]      0.002     705.0     598.0   1.00  \n",
            "log_conc_init[1, substrate]    0.002    1064.0     553.0   1.01  \n",
            "log_conc_init[2, biomass]      0.002     649.0     670.0   1.00  \n",
            "log_conc_init[2, substrate]    0.002    1161.0     598.0   1.00  \n",
            "log_conc_init[3, biomass]      0.002     762.0     636.0   1.00  \n",
            "log_conc_init[3, substrate]    0.001     858.0     582.0   1.00  \n",
            "log_conc_init[4, biomass]      0.002     743.0     485.0   1.01  \n",
            "log_conc_init[4, substrate]    0.001    1182.0     707.0   1.02  \n",
            "log_gamma[1]                   0.003    1073.0     654.0   1.00  \n",
            "log_gamma[2]                   0.003     965.0     585.0   1.00  \n",
            "log_gamma[3]                   0.003     804.0     448.0   1.02  \n",
            "log_gamma[4]                   0.004    1275.0     672.0   1.00  \n",
            "log_ks[1]                      0.003    1100.0     677.0   1.00  \n",
            "log_ks[2]                      0.004     846.0     524.0   1.01  \n",
            "log_ks[3]                      0.004     790.0     553.0   1.00  \n",
            "log_ks[4]                      0.006    1266.0     618.0   1.00  \n",
            "log_mu_max[1]                  0.001     688.0     612.0   1.00  \n",
            "log_mu_max[2]                  0.002     559.0     627.0   1.01  \n",
            "log_mu_max[3]                  0.001     579.0     497.0   1.00  \n",
            "log_mu_max[4]                  0.002     682.0     566.0   1.00  \n",
            "log_sigma[biomass]             0.003    1024.0     713.0   1.00  \n",
            "log_sigma[substrate]           0.004    1860.0     469.0   1.00  \n",
            "log_tau_gamma                  0.003     816.0     631.0   1.00  \n",
            "log_tau_ks                     0.004    1329.0     642.0   1.00  \n",
            "log_tau_mu_max                 0.004    1956.0     549.0   1.00  "
          ]
        }
      ],
      "source": [
        "from blackjax_utils import run_nuts, get_idata\n",
        "states, info = run_nuts(\n",
        "    key,\n",
        "    jax.jit(posterior_log_density),\n",
        "    init_params=example_prior_loc,\n",
        "    n_chain=4,\n",
        "    n_warmup=200,\n",
        "    n_sample=200,\n",
        "    target_acceptance_rate=0.9,\n",
        "    initial_step_size=0.001,\n",
        ")\n",
        "\n",
        "coords = {\n",
        "    \"strain\": strains,\n",
        "    \"tube\": tubes,\n",
        "    \"species\": species,\n",
        "    \"timepoint\": timepoints,\n",
        "}\n",
        "dims = {\n",
        "    \"log_conc_init\": [\"strain\", \"species\"],\n",
        "    \"log_gamma\": [\"strain\"],\n",
        "    \"log_ks\": [\"strain\"],\n",
        "    \"log_mu_max\": [\"strain\"],\n",
        "    \"log_sigma\": [\"species\"],\n",
        "}\n",
        "\n",
        "idata = get_idata(states, info, coords=coords, dims=dims)\n",
        "n_divergent = idata.sample_stats[\"is_divergent\"].sum().item()\n",
        "print(f\"Number of divergent transitions: {n_divergent}\")\n",
        "print(az.summary(idata))"
      ],
      "id": "24c9cdd9"
    },
    {
      "cell_type": "markdown",
      "metadata": {},
      "source": [
        "> **Exercise**\n",
        ">\n",
        "> How good was our model?\n",
        ">\n",
        "> To answer this question, try:\n",
        ">\n",
        "> -   for each parameter, compare the true value with the model’s\n",
        ">     marginal posterior distribution.\n",
        "> -   plot the timecourses for a sample of parameters and compare with\n",
        ">     the real timecourse"
      ],
      "id": "3588ae80-d97c-44cc-a1c5-cbd8af645d21"
    }
  ],
  "nbformat": 4,
  "nbformat_minor": 5,
  "metadata": {
    "kernelspec": {
      "name": "python3",
      "display_name": "Python 3 (ipykernel)",
      "language": "python",
      "path": "/usr/share/jupyter/kernels/python3"
    },
    "language_info": {
      "name": "python",
      "codemirror_mode": {
        "name": "ipython",
        "version": "3"
      },
      "file_extension": ".py",
      "mimetype": "text/x-python",
      "nbconvert_exporter": "python",
      "pygments_lexer": "ipython3",
      "version": "3.13.5"
    }
  }
}