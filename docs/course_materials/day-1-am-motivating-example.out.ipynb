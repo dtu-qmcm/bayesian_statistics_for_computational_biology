{
  "cells": [
    {
      "cell_type": "markdown",
      "metadata": {},
      "source": [
        "# Simulating data"
      ],
      "id": "27aa9b29-eb20-4765-b9a9-4c693e47dc0c"
    },
    {
      "cell_type": "code",
      "execution_count": 1,
      "metadata": {},
      "outputs": [],
      "source": [
        "# Loading required packages\n",
        "import bambi as bmb\n",
        "import scipy as sp\n",
        "import numpy as np\n",
        "import arviz as az\n",
        "import polars as pl\n",
        "import plotnine as p9\n",
        "import matplotlib.pyplot as plt"
      ],
      "id": "79a4419c-4df5-4db0-81df-c66b909d2281"
    },
    {
      "cell_type": "code",
      "execution_count": 2,
      "metadata": {},
      "outputs": [],
      "source": [
        "az.style.use(\"arviz-darkgrid\")\n",
        "np.random.seed(1996)"
      ],
      "id": "5bb8e913-8164-4250-9cf2-43f60b3263f5"
    },
    {
      "cell_type": "markdown",
      "metadata": {},
      "source": [
        "One method for validating proposed models is to generate a known dataset\n",
        "and then fit your model to the given dataset. If we observe difficulties\n",
        "fitting the model we need to reconsider the parameterisation or the\n",
        "priors.\n",
        "\n",
        "## Experiment\n",
        "\n",
        "Given that there are two strains we want characterise the amount of\n",
        "protein each cell line produced. We have access to sets of reactors to\n",
        "perform this experiment, and the protein concentrations will be measured\n",
        "using mass spectroscopy that has a log-normal measurement model.\n",
        "\n",
        "### Notes\n",
        "\n",
        "-   Often we want to make statements about strains rather than reactors.\n",
        "-   If we assume that the reactor to reactor variation is the same\n",
        "    between strains then we are able to improve our fits using a\n",
        "    heirarchical modelling approach called “partial pooling”,"
      ],
      "id": "81e2af11-e7af-4453-89f1-e98618ac2a68"
    },
    {
      "cell_type": "code",
      "execution_count": 42,
      "metadata": {},
      "outputs": [
        {
          "output_type": "display_data",
          "metadata": {},
          "data": {
            "text/html": [
              "</div>"
            ]
          }
        }
      ],
      "source": [
        "# Generating the dataset\n",
        "strain_growth_array = [0.4, 0.425, 0.5]\n",
        "strain_growth_map = {\n",
        "    strain: np.log(val)\n",
        "    for strain, val in enumerate(strain_growth_array)\n",
        "}\n",
        "sigma_reactor_effect = 0.05\n",
        "sigma_quant = 0.03\n",
        "n_reactors = 2\n",
        "n_replicates = 4\n",
        "protein_measurements = { strain:\n",
        "    [float(np.exp(np.log(strain_growth_array[strain]) + np.random.normal(0, 1)*sigma_reactor_effect)) for _ in range(n_reactors)]\n",
        "                    for strain, _ in enumerate(strain_growth_array)\n",
        "}\n",
        "reactor_count = 0\n",
        "raw_data = []\n",
        "for strain, _ in enumerate(strain_growth_array):\n",
        "    for reactor, _ in enumerate(protein_measurements[strain]):\n",
        "        for replicate in range(n_replicates):\n",
        "            raw_data.append(\n",
        "            {\n",
        "                \"strain\": strain,\n",
        "                \"reactor\": reactor_count,\n",
        "                \"prot\": np.log(protein_measurements[strain][reactor]) + np.random.normal(0,1)*sigma_quant,\n",
        "            }\n",
        "                )\n",
        "        reactor_count+=1\n",
        "data = pl.from_dicts(raw_data)\n",
        "data"
      ],
      "id": "a93f6ec8-0556-4815-8f06-7bb07fa2a99e"
    },
    {
      "cell_type": "code",
      "execution_count": 46,
      "metadata": {},
      "outputs": [
        {
          "output_type": "display_data",
          "metadata": {},
          "data": {
            "text/plain": [
              "{0: np.float64(-0.916290731874155),\n",
              " 1: np.float64(-0.8556661100577202),\n",
              " 2: np.float64(-0.6931471805599453)}"
            ]
          }
        }
      ],
      "source": [
        "strain_growth_map"
      ],
      "id": "7fabcbaf-4e13-48cb-84a6-86f357e1a7cb"
    },
    {
      "cell_type": "markdown",
      "metadata": {},
      "source": [
        "# Confidence Interval"
      ],
      "id": "dd99c680-8b18-4a32-9a91-3b87dde22e01"
    },
    {
      "cell_type": "code",
      "execution_count": 49,
      "metadata": {},
      "outputs": [
        {
          "output_type": "display_data",
          "metadata": {},
          "data": {
            "text/html": [
              "</div>"
            ]
          }
        }
      ],
      "source": [
        "alpha = 0.05\n",
        "summary_stats = data.group_by(\"strain\").agg(\n",
        "    mean = pl.mean(\"prot\"),\n",
        "    SEM = pl.std(\"prot\") / pl.col(\"prot\").count(),\n",
        "    count = pl.col(\"prot\").count(),\n",
        ")\n",
        "summary_stats = summary_stats.with_columns(\n",
        "    (\n",
        "        pl.col(\"mean\") + \n",
        "        (pl.col(\"count\") - 1).map_elements(lambda df: sp.stats.t.ppf(1 - alpha / 2, df), return_dtype=pl.Float64) * pl.col(\"SEM\")\n",
        "    ).alias(\"upp_ci\"),\n",
        "    (\n",
        "        pl.col(\"mean\") - \n",
        "        (pl.col(\"count\") - 1).map_elements(lambda df: sp.stats.t.ppf(1 - alpha / 2, df), return_dtype=pl.Float64) * pl.col(\"SEM\")\n",
        "    ).alias(\"low_ci\"),\n",
        "    pl.col(\"strain\").replace_strict(strain_growth_map).alias(\"true_protein\")\n",
        ")\n",
        "summary_stats"
      ],
      "id": "ac317643-3489-425f-aae7-34bb14b3d6cc"
    },
    {
      "cell_type": "code",
      "execution_count": 6,
      "metadata": {},
      "outputs": [
        {
          "output_type": "display_data",
          "metadata": {},
          "data": {
            "text/plain": [
              "TtestResult(statistic=np.float64(-3.5517718345604115), pvalue=np.float64(0.003189683995315531), df=np.float64(14.0))"
            ]
          }
        }
      ],
      "source": [
        "sp.stats.ttest_ind(data.filter(pl.col(\"strain\")==0)[\"prot\"], data.filter(pl.col(\"strain\")==1)[\"prot\"], equal_var=True)"
      ],
      "id": "62ad744f-3078-48f4-b193-203431b489f2"
    },
    {
      "cell_type": "markdown",
      "metadata": {},
      "source": [
        "# Statistical model\n",
        "\n",
        "The model we are trying to fit in this instance is as follows\n",
        "$$\\mu_{reactor} \\sim LogNormal(\\mu_{true, reactor}, \\sigma_{quant})$$\n",
        "$$\\mu_{true, reactor} \\sim LogNormal(\\mu_{true, strain}, \\sigma_{biological})$$\n",
        "\n",
        "With priors $$\\sigma_{quant} \\sim log_normal(log(0.01), 0.1)$$\n",
        "$$\\sigma_{biological} \\sim HalfNormal(0.03)$$"
      ],
      "id": "87ae95e3-003f-4557-9c58-8dcfd7aea1ac"
    },
    {
      "cell_type": "code",
      "execution_count": 7,
      "metadata": {
        "scrolled": true
      },
      "outputs": [
        {
          "output_type": "stream",
          "name": "stderr",
          "text": [
            "Initializing NUTS using jitter+adapt_diag...\n",
            "Multiprocess sampling (4 chains in 4 jobs)\n",
            "NUTS: [sigma, strain, 1|reactor_sigma, 1|reactor]"
          ]
        },
        {
          "output_type": "display_data",
          "metadata": {},
          "data": {
            "application/vnd.jupyter.widget-view+json": {
              "model_id": "4cb1e0ba5a784d1f89a227f1b5e03d77",
              "version_major": 2,
              "version_minor": 0
            }
          }
        },
        {
          "output_type": "display_data",
          "metadata": {},
          "data": {
            "text/html": [
              "<pre style=\"white-space:pre;overflow-x:auto;line-height:normal;font-family:Menlo,'DejaVu Sans Mono',consolas,'Courier New',monospace\"></pre>"
            ]
          }
        },
        {
          "output_type": "stream",
          "name": "stderr",
          "text": [
            "Sampling 4 chains for 2_000 tune and 1_000 draw iterations (8_000 + 4_000 draws total) took 3 seconds."
          ]
        }
      ],
      "source": [
        "priors1 = {\n",
        "    \"strain\": bmb.Prior(\"Normal\", mu=-0.7, sigma=1),\n",
        "    \"sigma\": bmb.Prior(\"LogNormal\", mu=np.log(sigma_quant), sigma=0.2),       # measurement error\n",
        "    \"1|reactor_sigma\": bmb.Prior(\"HalfNormal\", sigma=sigma_reactor_effect),\n",
        "}\n",
        "\n",
        "model1 = bmb.Model(\n",
        "    \"prot ~ 0 + strain + (1|reactor)\",\n",
        "    data=data.to_pandas(),\n",
        "    categorical=[\"strain\", \"reactor\"],\n",
        "    priors=priors1,\n",
        "    noncentered=False\n",
        ")\n",
        "results1 = model1.fit(tune=2000, nuts_sampler_kwargs={\"target_accept\": 0.99}, idata_kwargs={\"log_likelihood\": True})"
      ],
      "id": "e97c13a3-1a5f-47ad-93d3-1bb868acab6d"
    },
    {
      "cell_type": "code",
      "execution_count": 51,
      "metadata": {},
      "outputs": [
        {
          "output_type": "display_data",
          "metadata": {},
          "data": {
            "text/plain": [
              "{0: np.float64(-0.916290731874155),\n",
              " 1: np.float64(-0.8556661100577202),\n",
              " 2: np.float64(-0.6931471805599453)}"
            ]
          }
        }
      ],
      "source": [
        "strain_growth_map\n"
      ],
      "id": "ae723a58-a942-42c2-875d-c85cea62f7bb"
    },
    {
      "cell_type": "code",
      "execution_count": 8,
      "metadata": {},
      "outputs": [
        {
          "output_type": "display_data",
          "metadata": {},
          "data": {
            "text/plain": [
              "array([<Axes: title={'center': '94.0% HDI'}>], dtype=object)"
            ]
          }
        },
        {
          "output_type": "display_data",
          "metadata": {},
          "data": {
            "image/png": "[encoded data removed]"
          }
        }
      ],
      "source": [
        "az.plot_forest(results1, var_names=[\"strain\"], combined=True)"
      ],
      "id": "7c27fd56-26ba-4032-bfb6-3d7b91691ba3"
    },
    {
      "cell_type": "code",
      "execution_count": 10,
      "metadata": {},
      "outputs": [
        {
          "output_type": "stream",
          "name": "stderr",
          "text": [
            "Initializing NUTS using jitter+adapt_diag...\n",
            "Multiprocess sampling (4 chains in 4 jobs)\n",
            "NUTS: [sigma, strain]"
          ]
        },
        {
          "output_type": "display_data",
          "metadata": {},
          "data": {
            "application/vnd.jupyter.widget-view+json": {
              "model_id": "9cfd4302093e41668d5ce74c0c00b195",
              "version_major": 2,
              "version_minor": 0
            }
          }
        },
        {
          "output_type": "display_data",
          "metadata": {},
          "data": {
            "text/html": [
              "<pre style=\"white-space:pre;overflow-x:auto;line-height:normal;font-family:Menlo,'DejaVu Sans Mono',consolas,'Courier New',monospace\"></pre>"
            ]
          }
        },
        {
          "output_type": "stream",
          "name": "stderr",
          "text": [
            "Sampling 4 chains for 2_000 tune and 1_000 draw iterations (8_000 + 4_000 draws total) took 1 seconds."
          ]
        }
      ],
      "source": [
        "priors2 = {\n",
        "    \"strain\": bmb.Prior(\"Normal\", mu=-0.7, sigma=1),\n",
        "    \"sigma\": bmb.Prior(\"LogNormal\", mu=np.log((1/((1/sigma_quant)+(1/(sigma_reactor_effect))))), sigma=0.1),       # measurement error\n",
        "}\n",
        "model2 = bmb.Model(\n",
        "    \"prot ~ 0 + strain\",\n",
        "    data=data.to_pandas(),\n",
        "    categorical=[\"strain\", \"reactor\"],\n",
        "    priors=priors2,\n",
        "    noncentered=False\n",
        ")\n",
        "results2 = model2.fit(tune=2000, nuts_sampler_kwargs={\"target_accept\": 0.99}, idata_kwargs={\"log_likelihood\": True})"
      ],
      "id": "a98238d1-45d3-45d6-a9f8-c4f5d19b244b"
    },
    {
      "cell_type": "code",
      "execution_count": 13,
      "metadata": {},
      "outputs": [
        {
          "output_type": "display_data",
          "metadata": {},
          "data": {
            "text/plain": [
              "array([-0.91629073, -0.85566611, -0.69314718])"
            ]
          }
        }
      ],
      "source": [
        "np.log(strain_growth_array)"
      ],
      "id": "cda95ebb-0a10-415f-9cad-fed1058ad278"
    },
    {
      "cell_type": "code",
      "execution_count": 11,
      "metadata": {},
      "outputs": [
        {
          "output_type": "display_data",
          "metadata": {},
          "data": {
            "text/plain": [
              "array([<Axes: title={'center': '94.0% HDI'}>], dtype=object)"
            ]
          }
        },
        {
          "output_type": "display_data",
          "metadata": {},
          "data": {
            "image/png": "[encoded data removed]"
          }
        }
      ],
      "source": [
        "az.plot_forest(results2, var_names=[\"strain\"], combined=True)"
      ],
      "id": "e0c2468a-29c0-4f1e-898f-3d46d977fe12"
    },
    {
      "cell_type": "code",
      "execution_count": 12,
      "metadata": {},
      "outputs": [
        {
          "output_type": "stream",
          "name": "stderr",
          "text": [
            "/home/nicholas/projects/bayesian_statistics_for_computational_biology/.venv/lib/python3.12/site-packages/arviz/stats/stats.py:830: UserWarning: Estimated shape parameter of Pareto distribution is greater than 0.70 for one or more samples. You should consider using a more robust model, this is because importance sampling is less likely to work well if the marginal posterior and LOO posterior are very different. This is more likely to happen with a non-robust model and highly influential observations."
          ]
        },
        {
          "output_type": "display_data",
          "metadata": {},
          "data": {
            "text/html": [
              "\n",
              "</div>"
            ]
          }
        }
      ],
      "source": [
        "models_dict = {\n",
        "    \"model1\": results1,\n",
        "    \"model2\": results2,\n",
        "}\n",
        "df_compare = az.compare(models_dict)\n",
        "df_compare"
      ],
      "id": "318bbb8c-7f92-4680-9197-dc0aeb222c80"
    }
  ],
  "nbformat": 4,
  "nbformat_minor": 5,
  "metadata": {
    "kernelspec": {
      "name": "python3",
      "display_name": "Python 3 (ipykernel)",
      "language": "python"
    },
    "language_info": {
      "name": "python",
      "codemirror_mode": {
        "name": "ipython",
        "version": "3"
      },
      "file_extension": ".py",
      "mimetype": "text/x-python",
      "nbconvert_exporter": "python",
      "pygments_lexer": "ipython3",
      "version": "3.12.7"
    }
  }
}