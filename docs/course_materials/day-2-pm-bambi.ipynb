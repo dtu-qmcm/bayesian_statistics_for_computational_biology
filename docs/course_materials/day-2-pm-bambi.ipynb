{
  "cells": [
    {
      "cell_type": "markdown",
      "metadata": {},
      "source": [
        "# Day 2 pm: Bambi\n",
        "\n",
        "In this session we will learn how to use the Python library [`bambi`]()\n",
        "to fit formula-based Bayesian regression models.\n",
        "\n",
        "## Imports\n",
        "\n",
        "First we import all the python packages that we will need."
      ],
      "id": "a5de8385-4112-4e00-8dec-c02c8f6edfe5"
    },
    {
      "cell_type": "code",
      "execution_count": 1,
      "metadata": {},
      "outputs": [],
      "source": [
        "import arviz as az\n",
        "import bambi as bmb\n",
        "import polars as pl\n",
        "import numpy as np\n",
        "from matplotlib import pyplot as plt"
      ],
      "id": "d0d44309"
    },
    {
      "cell_type": "markdown",
      "metadata": {},
      "source": [
        "## Hello world example\n",
        "\n",
        "To demonstrate how bambi works we’ll start with a very simple linear\n",
        "regression model, where the variate $y$ is an unconstrained real number\n",
        "that is predicted by a single covariate $b$.\n",
        "\n",
        "We can simulate some measurements from this model like this"
      ],
      "id": "9c7c5ad3-8111-4139-83fe-cb4b6cd535e1"
    },
    {
      "cell_type": "code",
      "execution_count": 2,
      "metadata": {},
      "outputs": [
        {
          "output_type": "display_data",
          "metadata": {},
          "data": {
            "image/png": "[encoded data removed]"
          }
        }
      ],
      "source": [
        "A_HW = 0.2\n",
        "B_HW = 1.7\n",
        "SIGMA_HW = 0.5\n",
        "\n",
        "def simulate_hw(x: float, a,  b: float, sigma: float):\n",
        "    \"Simulate a measurement given covariate x, weight b and error sd sigma.\"\n",
        "    yhat = a + x * b\n",
        "    return yhat + np.random.normal(0, scale=sigma)\n",
        "\n",
        "x_hw = np.linspace(-0.5, 1.5, 10)\n",
        "y_hw = np.array([simulate_hw(x_i, A_HW, B_HW, SIGMA_HW) for x_i in x_hw])\n",
        "data_hw = pl.DataFrame({\"x\": x_hw, \"y\": y_hw})\n",
        "\n",
        "f, ax = plt.subplots()\n",
        "ax.scatter(x_hw, y_hw, marker=\"x\", color=\"black\", label=\"simulated observation\")\n",
        "ax.set(xlabel=\"x\", ylabel=\"y\")\n",
        "plt.show()"
      ],
      "id": "c2af71a2"
    },
    {
      "cell_type": "markdown",
      "metadata": {},
      "source": [
        "We can implement this model using bambi with the very simple formula \\`y\n",
        "~ x”"
      ],
      "id": "fcdbc841-9452-4f90-9b39-c6b3e868c3de"
    },
    {
      "cell_type": "code",
      "execution_count": 3,
      "metadata": {},
      "outputs": [
        {
          "output_type": "display_data",
          "metadata": {},
          "data": {
            "text/plain": [
              "       Formula: y ~ x\n",
              "        Family: gaussian\n",
              "          Link: mu = identity\n",
              "  Observations: 10\n",
              "        Priors: \n",
              "    target = mu\n",
              "        Common-level effects\n",
              "            Intercept ~ Normal(mu: 0.6774, sigma: 3.6652)\n",
              "            x ~ Normal(mu: 0.0, sigma: 4.5204)\n",
              "        \n",
              "        Auxiliary parameters\n",
              "            sigma ~ HalfStudentT(nu: 4.0, sigma: 1.1541)"
            ]
          }
        }
      ],
      "source": [
        "formula_hw = \"y ~ x\"\n",
        "model_hw = bmb.Model(formula_hw, data=data_hw.to_pandas())\n",
        "model_hw"
      ],
      "id": "15c232e7"
    },
    {
      "cell_type": "markdown",
      "metadata": {},
      "source": [
        "To perform Bayesian inference, we use the model object’s `fit` method:"
      ],
      "id": "1682dc36-6c9b-4730-b86a-350e3e9cb251"
    },
    {
      "cell_type": "code",
      "execution_count": 4,
      "metadata": {},
      "outputs": [
        {
          "output_type": "stream",
          "name": "stderr",
          "text": [
            "Initializing NUTS using jitter+adapt_diag...\n",
            "Multiprocess sampling (4 chains in 4 jobs)\n",
            "NUTS: [sigma, Intercept, x]"
          ]
        },
        {
          "output_type": "display_data",
          "metadata": {},
          "data": {
            "application/vnd.jupyter.widget-view+json": {
              "model_id": "785dfac1eff44fadb157585104d9dfc7",
              "version_major": 2,
              "version_minor": 0
            }
          }
        },
        {
          "output_type": "display_data",
          "metadata": {},
          "data": {
            "text/html": [
              "<pre style=\"white-space:pre;overflow-x:auto;line-height:normal;font-family:Menlo,'DejaVu Sans Mono',consolas,'Courier New',monospace\"></pre>"
            ]
          }
        },
        {
          "output_type": "stream",
          "name": "stderr",
          "text": [
            "Sampling 4 chains for 1_000 tune and 1_000 draw iterations (4_000 + 4_000 draws total) took 1 seconds."
          ]
        },
        {
          "output_type": "display_data",
          "metadata": {},
          "data": {
            "text/html": [
              "\n",
              "</div>"
            ]
          }
        }
      ],
      "source": [
        "results_hw = model_hw.fit()\n",
        "az.summary(results_hw)"
      ],
      "id": "f0d4552e"
    },
    {
      "cell_type": "markdown",
      "metadata": {},
      "source": [
        "## More relevant example\n",
        "\n",
        "As a second example, we will fit the model introduced in yesterday’s\n",
        "session.\n",
        "\n",
        "Suppose we have five strains that we want to evaluate for their ability\n",
        "to ferment a protein. To test these abilities we perform 4 biological\n",
        "replicates per strain, each of which we test 5 times."
      ],
      "id": "aa751b5e-4de0-47f2-92db-612aa8ef9d17"
    },
    {
      "cell_type": "code",
      "execution_count": 5,
      "metadata": {},
      "outputs": [
        {
          "output_type": "display_data",
          "metadata": {},
          "data": {
            "text/html": [
              "</div>"
            ]
          }
        }
      ],
      "source": [
        "TRUE_PRODUCTIVITY = {\n",
        "    \"a\": 0.49,\n",
        "    \"b\": 0.51,\n",
        "    \"c\": 0.53,\n",
        "    \"d\": 0.55,\n",
        "    \"e\": 0.57\n",
        "}\n",
        "N_BIOLOGICAL_REPLICATE = 4\n",
        "N_TECHNICAL_REPLICATE = 5\n",
        "BIOLOGICAL_VARIATION = 0.1\n",
        "TECHNICAL_VARIATION = 0.01\n",
        "\n",
        "\n",
        "def simulate_fermentation(prod, bio_effect, tv):\n",
        "    return np.exp(np.log(prod) + bio_effect + np.random.normal(0, scale=tv))\n",
        "\n",
        "rows = []\n",
        "for strain, prod in TRUE_PRODUCTIVITY.items():\n",
        "    for row_br in range(N_BIOLOGICAL_REPLICATE):\n",
        "        bio_effect = np.random.normal(0, BIOLOGICAL_VARIATION)\n",
        "        for row_tr in range(N_TECHNICAL_REPLICATE):\n",
        "            rows.append(\n",
        "                {\n",
        "                  \"strain\": strain,\n",
        "                  \"biological_replicate\": f\"{strain}-{row_br}\",\n",
        "                  \"technical_replicate\": f\"{strain}-{row_br}-{row_tr}\",\n",
        "                  \"y\": simulate_fermentation(\n",
        "                      prod,\n",
        "                      bio_effect,\n",
        "                      TECHNICAL_VARIATION,\n",
        "                  ),\n",
        "                }\n",
        "            )\n",
        "data_bio = pl.from_records(rows).with_columns(log_y=np.log(pl.col(\"y\")))\n",
        "data_bio.head()"
      ],
      "id": "df28f993"
    },
    {
      "cell_type": "markdown",
      "metadata": {},
      "source": [
        "To specify the model we do more or less the same as before, except that\n",
        "this time our formula is\n",
        "`\"log_y ~ 0 + strain + (1|biological_replicate)\"` indicating a model\n",
        "with no global intercept (this is what the `0` at the start of the right\n",
        "hand side does) and separate intercept parameters per strain and per\n",
        "biological replicate, with the biological replicate intercepts modelled\n",
        "hierarchically.\n",
        "\n",
        "Since our model has slightly unusual scales, we also supply some custom\n",
        "priors. Note the nested structure for the `\"1|biological_replicate\"`\n",
        "prior."
      ],
      "id": "c65ffa06-6910-42b0-81cc-a072fa41c4b0"
    },
    {
      "cell_type": "code",
      "execution_count": 6,
      "metadata": {},
      "outputs": [
        {
          "output_type": "display_data",
          "metadata": {},
          "data": {
            "text/plain": [
              "       Formula: log_y ~ 0 + strain + (1|biological_replicate)\n",
              "        Family: gaussian\n",
              "          Link: mu = identity\n",
              "  Observations: 100\n",
              "        Priors: \n",
              "    target = mu\n",
              "        Common-level effects\n",
              "            strain ~ Normal(mu: -0.7, sigma: 0.3)\n",
              "        \n",
              "        Group-level effects\n",
              "            1|biological_replicate ~ Normal(mu: 0.0, sigma: HalfNormal(sigma: 0.2))\n",
              "        \n",
              "        Auxiliary parameters\n",
              "            sigma ~ HalfNormal(sigma: 0.01)"
            ]
          }
        }
      ],
      "source": [
        "formula_bio = \"log_y ~ 0 + strain + (1|biological_replicate)\"\n",
        "bio_var_prior = bmb.Prior(\"HalfNormal\", sigma=0.2)\n",
        "br_effect_prior = bmb.Prior(\"Normal\", mu=0.0, sigma=bio_var_prior)\n",
        "priors = {\n",
        "    \"strain\": bmb.Prior(\"Normal\", mu=-0.7, sigma=0.3),\n",
        "    \"sigma\": bmb.Prior(\"HalfNormal\", sigma=0.01),\n",
        "    \"1|biological_replicate\": br_effect_prior,\n",
        "}\n",
        "model_bio = bmb.Model(formula_bio, data=data_bio.to_pandas(), priors=priors)\n",
        "model_bio"
      ],
      "id": "4f7c5d67"
    },
    {
      "cell_type": "markdown",
      "metadata": {},
      "source": [
        "Fitting and inspecting goes the same as before, but to save space we\n",
        "avoid printing the `1|biological_replicate` parameters. This is a handy\n",
        "arviz trick!"
      ],
      "id": "e1263c18-103d-4f5f-8704-31af8f2aae6a"
    },
    {
      "cell_type": "code",
      "execution_count": 7,
      "metadata": {},
      "outputs": [
        {
          "output_type": "stream",
          "name": "stderr",
          "text": [
            "Initializing NUTS using jitter+adapt_diag...\n",
            "Multiprocess sampling (4 chains in 4 jobs)\n",
            "NUTS: [sigma, strain, 1|biological_replicate_sigma, 1|biological_replicate_offset]"
          ]
        },
        {
          "output_type": "display_data",
          "metadata": {},
          "data": {
            "application/vnd.jupyter.widget-view+json": {
              "model_id": "18c167e5515b4f6584c2cf7be8b58f7f",
              "version_major": 2,
              "version_minor": 0
            }
          }
        },
        {
          "output_type": "display_data",
          "metadata": {},
          "data": {
            "text/html": [
              "<pre style=\"white-space:pre;overflow-x:auto;line-height:normal;font-family:Menlo,'DejaVu Sans Mono',consolas,'Courier New',monospace\"></pre>"
            ]
          }
        },
        {
          "output_type": "stream",
          "name": "stderr",
          "text": [
            "Sampling 4 chains for 1_000 tune and 1_000 draw iterations (4_000 + 4_000 draws total) took 9 seconds."
          ]
        },
        {
          "output_type": "display_data",
          "metadata": {},
          "data": {
            "text/html": [
              "\n",
              "</div>"
            ]
          }
        }
      ],
      "source": [
        "results_bio = model_bio.fit()\n",
        "az.summary(\n",
        "    results_bio,\n",
        "    var_names=\"~1|biological_replicate\",\n",
        "    filter_vars=\"regex\"\n",
        ")"
      ],
      "id": "6165d3b6"
    },
    {
      "cell_type": "markdown",
      "metadata": {},
      "source": [
        "Now we can check that the strain intercepts roughly match the simulation\n",
        "inputs."
      ],
      "id": "8ed46483-050e-4375-93f5-ed8beee1200e"
    },
    {
      "cell_type": "code",
      "execution_count": 8,
      "metadata": {},
      "outputs": [
        {
          "output_type": "display_data",
          "metadata": {},
          "data": {
            "text/html": [
              "</div>"
            ]
          }
        }
      ],
      "source": [
        "prod_mean = np.exp(results_bio.posterior[\"strain\"]).mean(dim=[\"chain\", \"draw\"])\n",
        "pl.DataFrame(\n",
        "    {\n",
        "        \"strain\": TRUE_PRODUCTIVITY.keys(),\n",
        "        \"true_productivity\": TRUE_PRODUCTIVITY.values(),\n",
        "        \"posterior_mean\": prod_mean.values\n",
        "    }\n",
        ")"
      ],
      "id": "87dcf87e"
    },
    {
      "cell_type": "markdown",
      "metadata": {},
      "source": [
        "> **Exercise**\n",
        ">\n",
        "> Try to find the probability, according to our model, that strain “a”\n",
        "> is less productive than strain “c”."
      ],
      "id": "2ae369d1-ddd5-4a86-9e3b-53c2440389f3"
    }
  ],
  "nbformat": 4,
  "nbformat_minor": 5,
  "metadata": {
    "kernelspec": {
      "name": "python3",
      "display_name": "Python 3 (ipykernel)",
      "language": "python",
      "path": "/usr/share/jupyter/kernels/python3"
    },
    "language_info": {
      "name": "python",
      "codemirror_mode": {
        "name": "ipython",
        "version": "3"
      },
      "file_extension": ".py",
      "mimetype": "text/x-python",
      "nbconvert_exporter": "python",
      "pygments_lexer": "ipython3",
      "version": "3.12.7"
    },
    "widgets": {
      "application/vnd.jupyter.widget-state+json": {
        "state": {
          "18c167e5515b4f6584c2cf7be8b58f7f": {
            "model_module": "@jupyter-widgets/output",
            "model_module_version": "1.0.0",
            "model_name": "OutputModel",
            "state": {
              "_dom_classes": [],
              "_model_module": "@jupyter-widgets/output",
              "_model_module_version": "1.0.0",
              "_model_name": "OutputModel",
              "_view_count": null,
              "_view_module": "@jupyter-widgets/output",
              "_view_module_version": "1.0.0",
              "_view_name": "OutputView",
              "layout": "IPY_MODEL_55ed1d0eda0c4819a224ce9419197f23",
              "msg_id": "",
              "outputs": [
                {
                  "data": {
                    "text/html": "<pre style=\"white-space:pre;overflow-x:auto;line-height:normal;font-family:Menlo,'DejaVu Sans Mono',consolas,'Courier New',monospace\">                                                                                                                   \n <span style=\"font-weight: bold\"> Progress                  </span> <span style=\"font-weight: bold\"> Draws </span> <span style=\"font-weight: bold\"> Divergences </span> <span style=\"font-weight: bold\"> Step size </span> <span style=\"font-weight: bold\"> Grad evals </span> <span style=\"font-weight: bold\"> Sampling Speed </span> <span style=\"font-weight: bold\"> Elapsed </span> <span style=\"font-weight: bold\"> Remaining </span> \n ───────────────────────────────────────────────────────────────────────────────────────────────────────────────── \n  <span style=\"color: #1f77b4; text-decoration-color: #1f77b4\">━━━━━━━━━━━━━━━━━━━━━━━━━</span>   2000    0             0.03        63           214.85 draws/s   0:00:09   0:00:00    \n  <span style=\"color: #1f77b4; text-decoration-color: #1f77b4\">━━━━━━━━━━━━━━━━━━━━━━━━━</span>   2000    0             0.04        255          219.64 draws/s   0:00:09   0:00:00    \n  <span style=\"color: #1f77b4; text-decoration-color: #1f77b4\">━━━━━━━━━━━━━━━━━━━━━━━━━</span>   2000    0             0.03        231          217.36 draws/s   0:00:09   0:00:00    \n  <span style=\"color: #1f77b4; text-decoration-color: #1f77b4\">━━━━━━━━━━━━━━━━━━━━━━━━━</span>   2000    0             0.04        255          214.62 draws/s   0:00:09   0:00:00    \n                                                                                                                   \n</pre>\n",
                    "text/plain": "                                                                                                                   \n \u001b[1m \u001b[0m\u001b[1mProgress                 \u001b[0m\u001b[1m \u001b[0m \u001b[1m \u001b[0m\u001b[1mDraws\u001b[0m\u001b[1m \u001b[0m \u001b[1m \u001b[0m\u001b[1mDivergences\u001b[0m\u001b[1m \u001b[0m \u001b[1m \u001b[0m\u001b[1mStep size\u001b[0m\u001b[1m \u001b[0m \u001b[1m \u001b[0m\u001b[1mGrad evals\u001b[0m\u001b[1m \u001b[0m \u001b[1m \u001b[0m\u001b[1mSampling Speed\u001b[0m\u001b[1m \u001b[0m \u001b[1m \u001b[0m\u001b[1mElapsed\u001b[0m\u001b[1m \u001b[0m \u001b[1m \u001b[0m\u001b[1mRemaining\u001b[0m\u001b[1m \u001b[0m \n ───────────────────────────────────────────────────────────────────────────────────────────────────────────────── \n  \u001b[38;2;31;119;180m━━━━━━━━━━━━━━━━━━━━━━━━━\u001b[0m   2000    0             0.03        63           214.85 draws/s   0:00:09   0:00:00    \n  \u001b[38;2;31;119;180m━━━━━━━━━━━━━━━━━━━━━━━━━\u001b[0m   2000    0             0.04        255          219.64 draws/s   0:00:09   0:00:00    \n  \u001b[38;2;31;119;180m━━━━━━━━━━━━━━━━━━━━━━━━━\u001b[0m   2000    0             0.03        231          217.36 draws/s   0:00:09   0:00:00    \n  \u001b[38;2;31;119;180m━━━━━━━━━━━━━━━━━━━━━━━━━\u001b[0m   2000    0             0.04        255          214.62 draws/s   0:00:09   0:00:00    \n                                                                                                                   \n"
                  },
                  "metadata": {},
                  "output_type": "display_data"
                }
              ],
              "tabbable": null,
              "tooltip": null
            }
          },
          "50cbf81780a245858a4e2f586ace8cb7": {
            "model_module": "@jupyter-widgets/base",
            "model_module_version": "2.0.0",
            "model_name": "LayoutModel",
            "state": {
              "_model_module": "@jupyter-widgets/base",
              "_model_module_version": "2.0.0",
              "_model_name": "LayoutModel",
              "_view_count": null,
              "_view_module": "@jupyter-widgets/base",
              "_view_module_version": "2.0.0",
              "_view_name": "LayoutView",
              "align_content": null,
              "align_items": null,
              "align_self": null,
              "border_bottom": null,
              "border_left": null,
              "border_right": null,
              "border_top": null,
              "bottom": null,
              "display": null,
              "flex": null,
              "flex_flow": null,
              "grid_area": null,
              "grid_auto_columns": null,
              "grid_auto_flow": null,
              "grid_auto_rows": null,
              "grid_column": null,
              "grid_gap": null,
              "grid_row": null,
              "grid_template_areas": null,
              "grid_template_columns": null,
              "grid_template_rows": null,
              "height": null,
              "justify_content": null,
              "justify_items": null,
              "left": null,
              "margin": null,
              "max_height": null,
              "max_width": null,
              "min_height": null,
              "min_width": null,
              "object_fit": null,
              "object_position": null,
              "order": null,
              "overflow": null,
              "padding": null,
              "right": null,
              "top": null,
              "visibility": null,
              "width": null
            }
          },
          "55ed1d0eda0c4819a224ce9419197f23": {
            "model_module": "@jupyter-widgets/base",
            "model_module_version": "2.0.0",
            "model_name": "LayoutModel",
            "state": {
              "_model_module": "@jupyter-widgets/base",
              "_model_module_version": "2.0.0",
              "_model_name": "LayoutModel",
              "_view_count": null,
              "_view_module": "@jupyter-widgets/base",
              "_view_module_version": "2.0.0",
              "_view_name": "LayoutView",
              "align_content": null,
              "align_items": null,
              "align_self": null,
              "border_bottom": null,
              "border_left": null,
              "border_right": null,
              "border_top": null,
              "bottom": null,
              "display": null,
              "flex": null,
              "flex_flow": null,
              "grid_area": null,
              "grid_auto_columns": null,
              "grid_auto_flow": null,
              "grid_auto_rows": null,
              "grid_column": null,
              "grid_gap": null,
              "grid_row": null,
              "grid_template_areas": null,
              "grid_template_columns": null,
              "grid_template_rows": null,
              "height": null,
              "justify_content": null,
              "justify_items": null,
              "left": null,
              "margin": null,
              "max_height": null,
              "max_width": null,
              "min_height": null,
              "min_width": null,
              "object_fit": null,
              "object_position": null,
              "order": null,
              "overflow": null,
              "padding": null,
              "right": null,
              "top": null,
              "visibility": null,
              "width": null
            }
          },
          "785dfac1eff44fadb157585104d9dfc7": {
            "model_module": "@jupyter-widgets/output",
            "model_module_version": "1.0.0",
            "model_name": "OutputModel",
            "state": {
              "_dom_classes": [],
              "_model_module": "@jupyter-widgets/output",
              "_model_module_version": "1.0.0",
              "_model_name": "OutputModel",
              "_view_count": null,
              "_view_module": "@jupyter-widgets/output",
              "_view_module_version": "1.0.0",
              "_view_name": "OutputView",
              "layout": "IPY_MODEL_50cbf81780a245858a4e2f586ace8cb7",
              "msg_id": "",
              "outputs": [
                {
                  "data": {
                    "text/html": "<pre style=\"white-space:pre;overflow-x:auto;line-height:normal;font-family:Menlo,'DejaVu Sans Mono',consolas,'Courier New',monospace\">                                                                                                                   \n <span style=\"font-weight: bold\"> Progress                 </span> <span style=\"font-weight: bold\"> Draws </span> <span style=\"font-weight: bold\"> Divergences </span> <span style=\"font-weight: bold\"> Step size </span> <span style=\"font-weight: bold\"> Grad evals </span> <span style=\"font-weight: bold\"> Sampling Speed  </span> <span style=\"font-weight: bold\"> Elapsed </span> <span style=\"font-weight: bold\"> Remaining </span> \n ───────────────────────────────────────────────────────────────────────────────────────────────────────────────── \n  <span style=\"color: #1f77b4; text-decoration-color: #1f77b4\">━━━━━━━━━━━━━━━━━━━━━━━━</span>   2000    0             1.21        3            3784.88 draws/s   0:00:00   0:00:00    \n  <span style=\"color: #1f77b4; text-decoration-color: #1f77b4\">━━━━━━━━━━━━━━━━━━━━━━━━</span>   2000    0             0.58        3            3896.03 draws/s   0:00:00   0:00:00    \n  <span style=\"color: #1f77b4; text-decoration-color: #1f77b4\">━━━━━━━━━━━━━━━━━━━━━━━━</span>   2000    0             0.78        7            3558.98 draws/s   0:00:00   0:00:00    \n  <span style=\"color: #1f77b4; text-decoration-color: #1f77b4\">━━━━━━━━━━━━━━━━━━━━━━━━</span>   2000    0             1.02        7            3613.64 draws/s   0:00:00   0:00:00    \n                                                                                                                   \n</pre>\n",
                    "text/plain": "                                                                                                                   \n \u001b[1m \u001b[0m\u001b[1mProgress                \u001b[0m\u001b[1m \u001b[0m \u001b[1m \u001b[0m\u001b[1mDraws\u001b[0m\u001b[1m \u001b[0m \u001b[1m \u001b[0m\u001b[1mDivergences\u001b[0m\u001b[1m \u001b[0m \u001b[1m \u001b[0m\u001b[1mStep size\u001b[0m\u001b[1m \u001b[0m \u001b[1m \u001b[0m\u001b[1mGrad evals\u001b[0m\u001b[1m \u001b[0m \u001b[1m \u001b[0m\u001b[1mSampling Speed \u001b[0m\u001b[1m \u001b[0m \u001b[1m \u001b[0m\u001b[1mElapsed\u001b[0m\u001b[1m \u001b[0m \u001b[1m \u001b[0m\u001b[1mRemaining\u001b[0m\u001b[1m \u001b[0m \n ───────────────────────────────────────────────────────────────────────────────────────────────────────────────── \n  \u001b[38;2;31;119;180m━━━━━━━━━━━━━━━━━━━━━━━━\u001b[0m   2000    0             1.21        3            3784.88 draws/s   0:00:00   0:00:00    \n  \u001b[38;2;31;119;180m━━━━━━━━━━━━━━━━━━━━━━━━\u001b[0m   2000    0             0.58        3            3896.03 draws/s   0:00:00   0:00:00    \n  \u001b[38;2;31;119;180m━━━━━━━━━━━━━━━━━━━━━━━━\u001b[0m   2000    0             0.78        7            3558.98 draws/s   0:00:00   0:00:00    \n  \u001b[38;2;31;119;180m━━━━━━━━━━━━━━━━━━━━━━━━\u001b[0m   2000    0             1.02        7            3613.64 draws/s   0:00:00   0:00:00    \n                                                                                                                   \n"
                  },
                  "metadata": {},
                  "output_type": "display_data"
                }
              ],
              "tabbable": null,
              "tooltip": null
            }
          }
        },
        "version_major": 2,
        "version_minor": 0
      }
    }
  }
}