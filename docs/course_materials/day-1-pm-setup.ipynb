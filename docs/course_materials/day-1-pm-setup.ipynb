{
  "cells": [
    {
      "cell_type": "markdown",
      "metadata": {},
      "source": [
        "# \n",
        "\n",
        "# Day 1 pm: Set up a suitable computer environment\n",
        "\n",
        "The aim for this half day is to make sure everyone has a computer\n",
        "environment where they can do the course.\n",
        "\n",
        "## uv\n",
        "\n",
        "You should be able to run this command in your terminal\n",
        "\n",
        "``` shell\n",
        "❯ uv\n",
        "```\n",
        "\n",
        "The output should look something like this:\n",
        "\n",
        "``` shell\n",
        "An extremely fast Python package manager.\n",
        "\n",
        "Usage: uv [OPTIONS] <COMMAND>\n",
        "\n",
        "Commands:\n",
        "  run      Run a command or script\n",
        "  init     Create a new project\n",
        "  add      Add dependencies to the project\n",
        "  remove   Remove dependencies from the project\n",
        "  sync     Update the project's environment\n",
        "  lock     Update the project's lockfile\n",
        "  export   Export the project's lockfile to an alternate format\n",
        "  tree     Display the project's dependency tree\n",
        "  tool     Run and install commands provided by Python packages\n",
        "  python   Manage Python versions and installations\n",
        "  pip      Manage Python packages with a pip-compatible interface\n",
        "  venv     Create a virtual environment\n",
        "  build    Build Python packages into source distributions and wheels\n",
        "  publish  Upload distributions to an index\n",
        "  cache    Manage uv's cache\n",
        "  self     Manage the uv executable\n",
        "  version  Display uv's version\n",
        "  help     Display documentation for a command\n",
        "\n",
        "```"
      ],
      "id": "c6dd7fcc-4a71-47f1-9357-8b0bcb683a32"
    }
  ],
  "nbformat": 4,
  "nbformat_minor": 5,
  "metadata": {
    "kernelspec": {
      "display_name": "Python 3",
      "language": "python",
      "name": "python3"
    }
  }
}