{
 "cells": [
  {
   "cell_type": "code",
   "execution_count": 1,
   "id": "79a4419c-4df5-4db0-81df-c66b909d2281",
   "metadata": {},
   "outputs": [],
   "source": [
    "# Loading required packages\n",
    "import bambi as bmb\n",
    "import scipy as sp\n",
    "import numpy as np\n",
    "import arviz as az\n",
    "import polars as pl\n",
    "import plotnine as p9\n",
    "import matplotlib.pyplot as plt"
   ]
  },
  {
   "cell_type": "code",
   "execution_count": 2,
   "id": "5bb8e913-8164-4250-9cf2-43f60b3263f5",
   "metadata": {},
   "outputs": [],
   "source": [
    "az.style.use(\"arviz-darkgrid\")\n",
    "np.random.seed(1996)"
   ]
  },
  {
   "cell_type": "markdown",
   "id": "06010e30-9568-4592-b3af-b239beabe538",
   "metadata": {},
   "source": [
    "# Simulating data\n",
    "\n",
    "One method for validating proposed models is to generate a known dataset and then fit your model to the given dataset. If we observe difficulties fitting the model we need to reconsider the parameterisation or the priors.\n",
    "\n",
    "## Experiment\n",
    "Given that there are two strains we want characterise the amount of protein each cell line produced. We have access to sets of reactors to perform this experiment, and the protein concentrations will be measured using mass spectroscopy that has a log-normal measurement model.\n",
    "\n",
    "### Notes\n",
    "- Often we want to make statements about strains rather than reactors.\n",
    "- If we assume that the reactor to reactor variation is the same between strains then we are able to improve our fits using a heirarchical modelling approach called \"partial pooling\","
   ]
  },
  {
   "cell_type": "code",
   "execution_count": 42,
   "id": "a93f6ec8-0556-4815-8f06-7bb07fa2a99e",
   "metadata": {},
   "outputs": [
    {
     "data": {
      "text/html": [
       "<div><style>\n",
       ".dataframe > thead > tr,\n",
       ".dataframe > tbody > tr {\n",
       "  text-align: right;\n",
       "  white-space: pre-wrap;\n",
       "}\n",
       "</style>\n",
       "<small>shape: (24, 3)</small><table border=\"1\" class=\"dataframe\"><thead><tr><th>strain</th><th>reactor</th><th>prot</th></tr><tr><td>i64</td><td>i64</td><td>f64</td></tr></thead><tbody><tr><td>0</td><td>0</td><td>-0.875719</td></tr><tr><td>0</td><td>0</td><td>-0.879013</td></tr><tr><td>0</td><td>0</td><td>-0.923178</td></tr><tr><td>0</td><td>0</td><td>-0.923928</td></tr><tr><td>0</td><td>1</td><td>-0.941512</td></tr><tr><td>&hellip;</td><td>&hellip;</td><td>&hellip;</td></tr><tr><td>2</td><td>4</td><td>-0.625698</td></tr><tr><td>2</td><td>5</td><td>-0.61643</td></tr><tr><td>2</td><td>5</td><td>-0.677768</td></tr><tr><td>2</td><td>5</td><td>-0.672501</td></tr><tr><td>2</td><td>5</td><td>-0.63258</td></tr></tbody></table></div>"
      ],
      "text/plain": [
       "shape: (24, 3)\n",
       "┌────────┬─────────┬───────────┐\n",
       "│ strain ┆ reactor ┆ prot      │\n",
       "│ ---    ┆ ---     ┆ ---       │\n",
       "│ i64    ┆ i64     ┆ f64       │\n",
       "╞════════╪═════════╪═══════════╡\n",
       "│ 0      ┆ 0       ┆ -0.875719 │\n",
       "│ 0      ┆ 0       ┆ -0.879013 │\n",
       "│ 0      ┆ 0       ┆ -0.923178 │\n",
       "│ 0      ┆ 0       ┆ -0.923928 │\n",
       "│ 0      ┆ 1       ┆ -0.941512 │\n",
       "│ …      ┆ …       ┆ …         │\n",
       "│ 2      ┆ 4       ┆ -0.625698 │\n",
       "│ 2      ┆ 5       ┆ -0.61643  │\n",
       "│ 2      ┆ 5       ┆ -0.677768 │\n",
       "│ 2      ┆ 5       ┆ -0.672501 │\n",
       "│ 2      ┆ 5       ┆ -0.63258  │\n",
       "└────────┴─────────┴───────────┘"
      ]
     },
     "execution_count": 42,
     "metadata": {},
     "output_type": "execute_result"
    }
   ],
   "source": [
    "# Generating the dataset\n",
    "strain_growth_array = [0.4, 0.425, 0.5]\n",
    "strain_growth_map = {\n",
    "    strain: np.log(val)\n",
    "    for strain, val in enumerate(strain_growth_array)\n",
    "}\n",
    "sigma_reactor_effect = 0.05\n",
    "sigma_quant = 0.03\n",
    "n_reactors = 2\n",
    "n_replicates = 4\n",
    "protein_measurements = { strain:\n",
    "    [float(np.exp(np.log(strain_growth_array[strain]) + np.random.normal(0, 1)*sigma_reactor_effect)) for _ in range(n_reactors)]\n",
    "                    for strain, _ in enumerate(strain_growth_array)\n",
    "}\n",
    "reactor_count = 0\n",
    "raw_data = []\n",
    "for strain, _ in enumerate(strain_growth_array):\n",
    "    for reactor, _ in enumerate(protein_measurements[strain]):\n",
    "        for replicate in range(n_replicates):\n",
    "            raw_data.append(\n",
    "            {\n",
    "                \"strain\": strain,\n",
    "                \"reactor\": reactor_count,\n",
    "                \"prot\": np.log(protein_measurements[strain][reactor]) + np.random.normal(0,1)*sigma_quant,\n",
    "            }\n",
    "                )\n",
    "        reactor_count+=1\n",
    "data = pl.from_dicts(raw_data)\n",
    "data"
   ]
  },
  {
   "cell_type": "code",
   "execution_count": 46,
   "id": "7fabcbaf-4e13-48cb-84a6-86f357e1a7cb",
   "metadata": {},
   "outputs": [
    {
     "data": {
      "text/plain": [
       "{0: np.float64(-0.916290731874155),\n",
       " 1: np.float64(-0.8556661100577202),\n",
       " 2: np.float64(-0.6931471805599453)}"
      ]
     },
     "execution_count": 46,
     "metadata": {},
     "output_type": "execute_result"
    }
   ],
   "source": [
    "strain_growth_map"
   ]
  },
  {
   "cell_type": "markdown",
   "id": "3f958622-41c7-492b-a676-61f8466e15e8",
   "metadata": {},
   "source": [
    "# Confidence Interval"
   ]
  },
  {
   "cell_type": "code",
   "execution_count": 49,
   "id": "ac317643-3489-425f-aae7-34bb14b3d6cc",
   "metadata": {},
   "outputs": [
    {
     "data": {
      "text/html": [
       "<div><style>\n",
       ".dataframe > thead > tr,\n",
       ".dataframe > tbody > tr {\n",
       "  text-align: right;\n",
       "  white-space: pre-wrap;\n",
       "}\n",
       "</style>\n",
       "<small>shape: (3, 7)</small><table border=\"1\" class=\"dataframe\"><thead><tr><th>strain</th><th>mean</th><th>SEM</th><th>count</th><th>upp_ci</th><th>low_ci</th><th>true_protein</th></tr><tr><td>i64</td><td>f64</td><td>f64</td><td>u32</td><td>f64</td><td>f64</td><td>f64</td></tr></thead><tbody><tr><td>0</td><td>-0.928906</td><td>0.004705</td><td>8</td><td>-0.917779</td><td>-0.940033</td><td>-0.916291</td></tr><tr><td>2</td><td>-0.644822</td><td>0.003288</td><td>8</td><td>-0.637047</td><td>-0.652597</td><td>-0.693147</td></tr><tr><td>1</td><td>-0.877932</td><td>0.007293</td><td>8</td><td>-0.860688</td><td>-0.895176</td><td>-0.855666</td></tr></tbody></table></div>"
      ],
      "text/plain": [
       "shape: (3, 7)\n",
       "┌────────┬───────────┬──────────┬───────┬───────────┬───────────┬──────────────┐\n",
       "│ strain ┆ mean      ┆ SEM      ┆ count ┆ upp_ci    ┆ low_ci    ┆ true_protein │\n",
       "│ ---    ┆ ---       ┆ ---      ┆ ---   ┆ ---       ┆ ---       ┆ ---          │\n",
       "│ i64    ┆ f64       ┆ f64      ┆ u32   ┆ f64       ┆ f64       ┆ f64          │\n",
       "╞════════╪═══════════╪══════════╪═══════╪═══════════╪═══════════╪══════════════╡\n",
       "│ 0      ┆ -0.928906 ┆ 0.004705 ┆ 8     ┆ -0.917779 ┆ -0.940033 ┆ -0.916291    │\n",
       "│ 2      ┆ -0.644822 ┆ 0.003288 ┆ 8     ┆ -0.637047 ┆ -0.652597 ┆ -0.693147    │\n",
       "│ 1      ┆ -0.877932 ┆ 0.007293 ┆ 8     ┆ -0.860688 ┆ -0.895176 ┆ -0.855666    │\n",
       "└────────┴───────────┴──────────┴───────┴───────────┴───────────┴──────────────┘"
      ]
     },
     "execution_count": 49,
     "metadata": {},
     "output_type": "execute_result"
    }
   ],
   "source": [
    "alpha = 0.05\n",
    "summary_stats = data.group_by(\"strain\").agg(\n",
    "    mean = pl.mean(\"prot\"),\n",
    "    SEM = pl.std(\"prot\") / pl.col(\"prot\").count(),\n",
    "    count = pl.col(\"prot\").count(),\n",
    ")\n",
    "summary_stats = summary_stats.with_columns(\n",
    "    (\n",
    "        pl.col(\"mean\") + \n",
    "        (pl.col(\"count\") - 1).map_elements(lambda df: sp.stats.t.ppf(1 - alpha / 2, df), return_dtype=pl.Float64) * pl.col(\"SEM\")\n",
    "    ).alias(\"upp_ci\"),\n",
    "    (\n",
    "        pl.col(\"mean\") - \n",
    "        (pl.col(\"count\") - 1).map_elements(lambda df: sp.stats.t.ppf(1 - alpha / 2, df), return_dtype=pl.Float64) * pl.col(\"SEM\")\n",
    "    ).alias(\"low_ci\"),\n",
    "    pl.col(\"strain\").replace_strict(strain_growth_map).alias(\"true_protein\")\n",
    ")\n",
    "summary_stats"
   ]
  },
  {
   "cell_type": "code",
   "execution_count": 6,
   "id": "62ad744f-3078-48f4-b193-203431b489f2",
   "metadata": {},
   "outputs": [
    {
     "data": {
      "text/plain": [
       "TtestResult(statistic=np.float64(-3.5517718345604115), pvalue=np.float64(0.003189683995315531), df=np.float64(14.0))"
      ]
     },
     "execution_count": 6,
     "metadata": {},
     "output_type": "execute_result"
    }
   ],
   "source": [
    "sp.stats.ttest_ind(data.filter(pl.col(\"strain\")==0)[\"prot\"], data.filter(pl.col(\"strain\")==1)[\"prot\"], equal_var=True)"
   ]
  },
  {
   "cell_type": "markdown",
   "id": "ff0582bb-2776-491d-ad58-86127e695248",
   "metadata": {},
   "source": [
    "# Statistical model\n",
    "The model we are trying to fit in this instance is as follows\n",
    "$$\\mu_{reactor} \\sim LogNormal(\\mu_{true, reactor}, \\sigma_{quant})$$\n",
    "$$\\mu_{true, reactor} \\sim LogNormal(\\mu_{true, strain}, \\sigma_{biological})$$\n",
    "\n",
    "With priors\n",
    "$$\\sigma_{quant} \\sim log_normal(log(0.01), 0.1)$$\n",
    "$$\\sigma_{biological} \\sim HalfNormal(0.03)$$\n"
   ]
  },
  {
   "cell_type": "code",
   "execution_count": 7,
   "id": "e97c13a3-1a5f-47ad-93d3-1bb868acab6d",
   "metadata": {
    "scrolled": true
   },
   "outputs": [
    {
     "name": "stderr",
     "output_type": "stream",
     "text": [
      "Initializing NUTS using jitter+adapt_diag...\n",
      "Multiprocess sampling (4 chains in 4 jobs)\n",
      "NUTS: [sigma, strain, 1|reactor_sigma, 1|reactor]\n"
     ]
    },
    {
     "data": {
      "application/vnd.jupyter.widget-view+json": {
       "model_id": "4cb1e0ba5a784d1f89a227f1b5e03d77",
       "version_major": 2,
       "version_minor": 0
      },
      "text/plain": [
       "Output()"
      ]
     },
     "metadata": {},
     "output_type": "display_data"
    },
    {
     "data": {
      "text/html": [
       "<pre style=\"white-space:pre;overflow-x:auto;line-height:normal;font-family:Menlo,'DejaVu Sans Mono',consolas,'Courier New',monospace\"></pre>\n"
      ],
      "text/plain": []
     },
     "metadata": {},
     "output_type": "display_data"
    },
    {
     "name": "stderr",
     "output_type": "stream",
     "text": [
      "Sampling 4 chains for 2_000 tune and 1_000 draw iterations (8_000 + 4_000 draws total) took 3 seconds.\n"
     ]
    }
   ],
   "source": [
    "priors1 = {\n",
    "    \"strain\": bmb.Prior(\"Normal\", mu=-0.7, sigma=1),\n",
    "    \"sigma\": bmb.Prior(\"LogNormal\", mu=np.log(sigma_quant), sigma=0.2),       # measurement error\n",
    "    \"1|reactor_sigma\": bmb.Prior(\"HalfNormal\", sigma=sigma_reactor_effect),\n",
    "}\n",
    "\n",
    "model1 = bmb.Model(\n",
    "    \"prot ~ 0 + strain + (1|reactor)\",\n",
    "    data=data.to_pandas(),\n",
    "    categorical=[\"strain\", \"reactor\"],\n",
    "    priors=priors1,\n",
    "    noncentered=False\n",
    ")\n",
    "results1 = model1.fit(tune=2000, nuts_sampler_kwargs={\"target_accept\": 0.99}, idata_kwargs={\"log_likelihood\": True})"
   ]
  },
  {
   "cell_type": "code",
   "execution_count": 51,
   "id": "ae723a58-a942-42c2-875d-c85cea62f7bb",
   "metadata": {},
   "outputs": [
    {
     "data": {
      "text/plain": [
       "{0: np.float64(-0.916290731874155),\n",
       " 1: np.float64(-0.8556661100577202),\n",
       " 2: np.float64(-0.6931471805599453)}"
      ]
     },
     "execution_count": 51,
     "metadata": {},
     "output_type": "execute_result"
    }
   ],
   "source": [
    "strain_growth_map\n"
   ]
  },
  {
   "cell_type": "code",
   "execution_count": 8,
   "id": "7c27fd56-26ba-4032-bfb6-3d7b91691ba3",
   "metadata": {},
   "outputs": [
    {
     "data": {
      "text/plain": [
       "array([<Axes: title={'center': '94.0% HDI'}>], dtype=object)"
      ]
     },
     "execution_count": 8,
     "metadata": {},
     "output_type": "execute_result"
    },
    {
     "data": {
      "image/png": "[encoded data removed]",
      "text/plain": [
       "<Figure size 600x430 with 1 Axes>"
      ]
     },
     "metadata": {},
     "output_type": "display_data"
    }
   ],
   "source": [
    "az.plot_forest(results1, var_names=[\"strain\"], combined=True)"
   ]
  },
  {
   "cell_type": "code",
   "execution_count": 10,
   "id": "a98238d1-45d3-45d6-a9f8-c4f5d19b244b",
   "metadata": {},
   "outputs": [
    {
     "name": "stderr",
     "output_type": "stream",
     "text": [
      "Initializing NUTS using jitter+adapt_diag...\n",
      "Multiprocess sampling (4 chains in 4 jobs)\n",
      "NUTS: [sigma, strain]\n"
     ]
    },
    {
     "data": {
      "application/vnd.jupyter.widget-view+json": {
       "model_id": "9cfd4302093e41668d5ce74c0c00b195",
       "version_major": 2,
       "version_minor": 0
      },
      "text/plain": [
       "Output()"
      ]
     },
     "metadata": {},
     "output_type": "display_data"
    },
    {
     "data": {
      "text/html": [
       "<pre style=\"white-space:pre;overflow-x:auto;line-height:normal;font-family:Menlo,'DejaVu Sans Mono',consolas,'Courier New',monospace\"></pre>\n"
      ],
      "text/plain": []
     },
     "metadata": {},
     "output_type": "display_data"
    },
    {
     "name": "stderr",
     "output_type": "stream",
     "text": [
      "Sampling 4 chains for 2_000 tune and 1_000 draw iterations (8_000 + 4_000 draws total) took 1 seconds.\n"
     ]
    }
   ],
   "source": [
    "priors2 = {\n",
    "    \"strain\": bmb.Prior(\"Normal\", mu=-0.7, sigma=1),\n",
    "    \"sigma\": bmb.Prior(\"LogNormal\", mu=np.log((1/((1/sigma_quant)+(1/(sigma_reactor_effect))))), sigma=0.1),       # measurement error\n",
    "}\n",
    "model2 = bmb.Model(\n",
    "    \"prot ~ 0 + strain\",\n",
    "    data=data.to_pandas(),\n",
    "    categorical=[\"strain\", \"reactor\"],\n",
    "    priors=priors2,\n",
    "    noncentered=False\n",
    ")\n",
    "results2 = model2.fit(tune=2000, nuts_sampler_kwargs={\"target_accept\": 0.99}, idata_kwargs={\"log_likelihood\": True})"
   ]
  },
  {
   "cell_type": "code",
   "execution_count": 13,
   "id": "cda95ebb-0a10-415f-9cad-fed1058ad278",
   "metadata": {},
   "outputs": [
    {
     "data": {
      "text/plain": [
       "array([-0.91629073, -0.85566611, -0.69314718])"
      ]
     },
     "execution_count": 13,
     "metadata": {},
     "output_type": "execute_result"
    }
   ],
   "source": [
    "np.log(strain_growth_array)"
   ]
  },
  {
   "cell_type": "code",
   "execution_count": 11,
   "id": "e0c2468a-29c0-4f1e-898f-3d46d977fe12",
   "metadata": {},
   "outputs": [
    {
     "data": {
      "text/plain": [
       "array([<Axes: title={'center': '94.0% HDI'}>], dtype=object)"
      ]
     },
     "execution_count": 11,
     "metadata": {},
     "output_type": "execute_result"
    },
    {
     "data": {
      "image/png": "[encoded data removed]",
      "text/plain": [
       "<Figure size 600x430 with 1 Axes>"
      ]
     },
     "metadata": {},
     "output_type": "display_data"
    }
   ],
   "source": [
    "az.plot_forest(results2, var_names=[\"strain\"], combined=True)"
   ]
  },
  {
   "cell_type": "code",
   "execution_count": 12,
   "id": "318bbb8c-7f92-4680-9197-dc0aeb222c80",
   "metadata": {},
   "outputs": [
    {
     "name": "stderr",
     "output_type": "stream",
     "text": [
      "/home/nicholas/projects/bayesian_statistics_for_computational_biology/.venv/lib/python3.12/site-packages/arviz/stats/stats.py:830: UserWarning: Estimated shape parameter of Pareto distribution is greater than 0.70 for one or more samples. You should consider using a more robust model, this is because importance sampling is less likely to work well if the marginal posterior and LOO posterior are very different. This is more likely to happen with a non-robust model and highly influential observations.\n"
     ]
    },
    {
     "data": {
      "text/html": [
       "<div>\n",
       "<style scoped>\n",
       "    .dataframe tbody tr th:only-of-type {\n",
       "        vertical-align: middle;\n",
       "    }\n",
       "\n",
       "    .dataframe tbody tr th {\n",
       "        vertical-align: top;\n",
       "    }\n",
       "\n",
       "    .dataframe thead th {\n",
       "        text-align: right;\n",
       "    }\n",
       "</style>\n",
       "<table border=\"1\" class=\"dataframe\">\n",
       "  <thead>\n",
       "    <tr style=\"text-align: right;\">\n",
       "      <th></th>\n",
       "      <th>rank</th>\n",
       "      <th>elpd_loo</th>\n",
       "      <th>p_loo</th>\n",
       "      <th>elpd_diff</th>\n",
       "      <th>weight</th>\n",
       "      <th>se</th>\n",
       "      <th>dse</th>\n",
       "      <th>warning</th>\n",
       "      <th>scale</th>\n",
       "    </tr>\n",
       "  </thead>\n",
       "  <tbody>\n",
       "    <tr>\n",
       "      <th>model1</th>\n",
       "      <td>0</td>\n",
       "      <td>43.990324</td>\n",
       "      <td>6.317852</td>\n",
       "      <td>0.000000</td>\n",
       "      <td>1.000000e+00</td>\n",
       "      <td>4.077870</td>\n",
       "      <td>0.000000</td>\n",
       "      <td>False</td>\n",
       "      <td>log</td>\n",
       "    </tr>\n",
       "    <tr>\n",
       "      <th>model2</th>\n",
       "      <td>1</td>\n",
       "      <td>25.383249</td>\n",
       "      <td>10.043843</td>\n",
       "      <td>18.607074</td>\n",
       "      <td>1.953993e-14</td>\n",
       "      <td>12.545958</td>\n",
       "      <td>10.079173</td>\n",
       "      <td>True</td>\n",
       "      <td>log</td>\n",
       "    </tr>\n",
       "  </tbody>\n",
       "</table>\n",
       "</div>"
      ],
      "text/plain": [
       "        rank   elpd_loo      p_loo  elpd_diff        weight         se  \\\n",
       "model1     0  43.990324   6.317852   0.000000  1.000000e+00   4.077870   \n",
       "model2     1  25.383249  10.043843  18.607074  1.953993e-14  12.545958   \n",
       "\n",
       "              dse  warning scale  \n",
       "model1   0.000000    False   log  \n",
       "model2  10.079173     True   log  "
      ]
     },
     "execution_count": 12,
     "metadata": {},
     "output_type": "execute_result"
    }
   ],
   "source": [
    "models_dict = {\n",
    "    \"model1\": results1,\n",
    "    \"model2\": results2,\n",
    "}\n",
    "df_compare = az.compare(models_dict)\n",
    "df_compare"
   ]
  }
 ],
 "metadata": {
  "kernelspec": {
   "display_name": "Python 3 (ipykernel)",
   "language": "python",
   "name": "python3"
  },
  "language_info": {
   "codemirror_mode": {
    "name": "ipython",
    "version": 3
   },
   "file_extension": ".py",
   "mimetype": "text/x-python",
   "name": "python",
   "nbconvert_exporter": "python",
   "pygments_lexer": "ipython3",
   "version": "3.12.7"
  }
 },
 "nbformat": 4,
 "nbformat_minor": 5
}
