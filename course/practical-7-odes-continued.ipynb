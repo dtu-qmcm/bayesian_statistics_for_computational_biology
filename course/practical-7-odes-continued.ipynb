{
 "cells": [
  {
   "cell_type": "markdown",
   "metadata": {},
   "source": [
    "# ODEs continued\n",
    " \n",
    "In the previous practical about ODEs we investigated a small biochemical network. For the example our goal is to define the system of ODEs and fit it to some data. For this example we will focus on a continuous stirred tank reactor where we are supplying some feed stock to a bioreactor, which consumes the feed supplying its biomass. Our goal is to characterise the growth rate and perform a simulation study about what happens under increasing flow rates.\n",
    "\n",
    "## Defining the model system\n",
    "\n",
    "There are three what are referred to as states in this system: the volume (V), the biomass (X), and substrate (S).\n",
    "\n",
    "![CSTR](course/img/cstr.svg)\n",
    "\n",
    "These processes are generally well defined. By listing out each of the processes and their rates we should be able to defined\n",
    "the system of ordinary differential equations in order to simulate this system. The most simple process is the volume and is \n",
    "determined by how much is entering the system vs how fast the water can leave the system. We can be fairly sure about how much\n",
    "water is entering the system as it is constant and we control it and we can derive the flow through a pipe using the following equation:\n",
    "\n",
    "$$\n",
    "F_{out} = C \\times \\sqrt{V}\n",
    "$$\n",
    "\n",
    "This is a simplification as the volume should be height, however, considering we are assume our reactor has a constant cross-section\n",
    "we can bundle all of the constants into $C$ and treat them as a single parameter (by: $\\sqrt{a\\times b} = \\sqrt{a}\\times\\sqrt{b}$).\n",
    "Following this we can assume the same growth kinetics and substrate consumption that we assumed in the previous model:\n",
    "\n",
    "\\begin{align*}\n",
    "\\mu &= \\frac{\\mu_{max}\\cdot S(t)}{K_{S} + S(t)}\\cdot \\\\\n",
    "q_s &= -\\gamma \\cdot \\frac{\\mu_{max}\\cdot S(t)}{K_{s} + S(t)}\n",
    "\\end{align*}\n",
    "$$\n",
    "\n",
    "where $K_S$ is the monod constant for the substrate concentration, $X(t)$ is the concentration\n",
    "of $X$ at time $t$, $S(t)$ is the concentration of $S$ at time $t$, $\\mu_{max}$ is the maximum\n",
    "growth rate, and $\\gamma$ is the yield of $S$ per amount of $X$ (This assumes it is growth coupled).\n",
    "\n",
    "One thing to note about this system is that even though the rates are a function of concentrations\n",
    "the states should be solved as what we call _extrinsic_ values, meaning we should focus on the absolute\n",
    "amount of those values. This is in opposition to _intrinsic_ values, these can be though of as densities such\n",
    "as concentration. As a hint, the final mass balances sould have this form:\n",
    "\n",
    "$$\n",
    "\\begin{align*}\n",
    "\\frac{dV}{dt} &= ...\n",
    "\\frac{dXV}{dt} &= ...\n",
    "\\frac{dSV}{dt} &= ...\n",
    "\\end{align*}\n",
    "$$\n",
    "\n",
    "and the list of parameters is as follows:\n",
    "- $K_S$\n",
    "- $\\mu_{max}$\n",
    "- $\\gamma$\n",
    "- $C$\n",
    "- $F_{in}$\n",
    "- $S_F$\n"
   ]
  },
  {
   "cell_type": "code",
   "execution_count": 2,
   "metadata": {},
   "outputs": [],
   "source": [
    "from functools import partial\n",
    "\n",
    "import operator\n",
    "import arviz as az\n",
    "import diffrax\n",
    "import numpy as np\n",
    "import jax\n",
    "\n",
    "from jax import numpy as jnp\n",
    "from jax import scipy as jsp\n",
    "from matplotlib import pyplot as plt"
   ]
  },
  {
   "cell_type": "markdown",
   "metadata": {},
   "source": [
    "### Specify true parameters\n",
    "\n",
    "This code specifies the dimensions of our problem."
   ]
  },
  {
   "cell_type": "code",
   "execution_count": 27,
   "metadata": {},
   "outputs": [],
   "source": [
    "N_reactors= 4\n",
    "N_timepoint = 50\n",
    "N_meas = 5\n",
    "duration = 10\n",
    "reactors = [i + 1 for i in range(N_reactors)]\n",
    "species = [\"biomass\", \"substrate\"]\n",
    "measurement_times = jnp.linspace(0.01, duration, N_meas)\n",
    "timepoints = jnp.linspace(0.01, duration, N_timepoint)"
   ]
  },
  {
   "cell_type": "markdown",
   "metadata": {},
   "source": [
    "Similar to before we are going to initialise the random number generators"
   ]
  },
  {
   "cell_type": "code",
   "execution_count": 28,
   "metadata": {},
   "outputs": [],
   "source": [
    "SEED = 12345\n",
    "key = jax.random.key(seed=SEED)\n",
    "rng_key, key = jax.random.split(key)"
   ]
  },
  {
   "cell_type": "markdown",
   "metadata": {},
   "source": [
    "We know that all of the parameters are going to be positively constrained so we should\n",
    "work with log values and secondly, we are assuming that this is going to be a large bioreactor\n",
    "and that there will be minimal reactor-to-reactor differences, therefore, we can assume a pooled\n",
    "model for the strain behaviour"
   ]
  },
  {
   "cell_type": "code",
   "execution_count": 68,
   "metadata": {},
   "outputs": [
    {
     "data": {
      "text/plain": [
       "{'log_mu_max': Array(1.609438, dtype=float32, weak_type=True),\n",
       " 'log_ks': Array(0.6931472, dtype=float32, weak_type=True),\n",
       " 'log_C': Array(-0.6931472, dtype=float32, weak_type=True),\n",
       " 'log_S_F': Array(1.609438, dtype=float32, weak_type=True),\n",
       " 'log_D': Array(0.6931472, dtype=float32, weak_type=True),\n",
       " 'log_gamma': Array(-0.35667497, dtype=float32, weak_type=True),\n",
       " 'log_conc_init': Array([-2.9957323,  0.6931472], dtype=float32),\n",
       " 'log_sigma': Array([-2.9957323, -2.3025851], dtype=float32)}"
      ]
     },
     "execution_count": 68,
     "metadata": {},
     "output_type": "execute_result"
    }
   ],
   "source": [
    "mu_max = 5\n",
    "C = 0.5\n",
    "S_F = 5\n",
    "D = 2\n",
    "ks = 2\n",
    "gamma = 0.7\n",
    "V_0 = 1\n",
    "X_0 = 0.05\n",
    "S_0 = 2\n",
    "\n",
    "\n",
    "\n",
    "true_params = {\n",
    "    \"log_mu_max\": jnp.log(mu_max),\n",
    "    \"log_ks\": jnp.log(ks),\n",
    "    \"log_C\": jnp.log(C),\n",
    "    \"log_S_F\": jnp.log(S_F),\n",
    "    \"log_D\": jnp.log(D),\n",
    "    \"log_gamma\": jnp.log(gamma),\n",
    "    \"log_conc_init\": jnp.log(jnp.array([X_0, S_0])),\n",
    "    \"log_sigma\": jnp.log(jnp.array([0.05, 0.1])),\n",
    "}\n",
    "true_params"
   ]
  },
  {
   "cell_type": "markdown",
   "metadata": {},
   "source": [
    "### Defining the dynamics\n",
    "Much like before we will need to define the RHS of our system of differential equations, this is also\n",
    "referred to as the term in diffrax."
   ]
  },
  {
   "cell_type": "code",
   "execution_count": 91,
   "metadata": {},
   "outputs": [],
   "source": [
    "def get_mu(S, mu_max, ks):\n",
    "    return mu_max * (S)/(ks + S)\n",
    "    \n",
    "@jax.jit\n",
    "def reactor_kinetics(t, y, args):\n",
    "    X, S = y\n",
    "    C = jnp.exp(args[\"log_C\"])\n",
    "    S_F = jnp.exp(args[\"log_S_F\"])\n",
    "    D = jnp.exp(args[\"log_D\"])\n",
    "    mu_max = jnp.exp(args[\"log_mu_max\"])\n",
    "    ks = jnp.exp(args[\"log_ks\"])\n",
    "    gamma = jnp.exp(args[\"log_gamma\"])\n",
    "    mu = get_mu(S, mu_max, ks)\n",
    "    return jnp.array([mu * X - D*X, D*(S_F-S) - gamma * mu * X])"
   ]
  },
  {
   "cell_type": "markdown",
   "metadata": {},
   "source": [
    "### Solving the initial value problem\n",
    "\n",
    "The next step is to wrap this function using the diffrax class `ODETerm`"
   ]
  },
  {
   "cell_type": "code",
   "execution_count": 92,
   "metadata": {},
   "outputs": [],
   "source": [
    "reactor_term = diffrax.ODETerm(reactor_kinetics)"
   ]
  },
  {
   "cell_type": "markdown",
   "metadata": {},
   "source": [
    "Now we can choose a solver, stepsize controller and initial sensitivity"
   ]
  },
  {
   "cell_type": "code",
   "execution_count": 93,
   "metadata": {},
   "outputs": [],
   "source": [
    "solver = diffrax.Kvaerno5()\n",
    "stepsize_controller = diffrax.PIDController(rtol=1e-8, atol=1e-8)\n",
    "dt0 = 0.001\n"
   ]
  },
  {
   "cell_type": "markdown",
   "metadata": {},
   "source": [
    "Now we can make a function for solving our initial value problem"
   ]
  },
  {
   "cell_type": "code",
   "execution_count": 103,
   "metadata": {},
   "outputs": [],
   "source": [
    "@jax.jit\n",
    "def solve_reactor(args, timepoints):\n",
    "    t0 = 0.0\n",
    "    tf = timepoints[-1]\n",
    "    y0 = jnp.exp(args[\"log_conc_init\"])\n",
    "    saveat = diffrax.SaveAt(ts=timepoints)\n",
    "    return diffrax.diffeqsolve(\n",
    "        reactor_term,\n",
    "        solver,\n",
    "        t0=t0,\n",
    "        t1=tf,\n",
    "        dt0=dt0,\n",
    "        y0=y0,\n",
    "        saveat=saveat,\n",
    "        args=args,\n",
    "        stepsize_controller=stepsize_controller,\n",
    "        max_steps=int(1e7)\n",
    "    )\n",
    "\n",
    "solution = solve_reactor(args=true_params, timepoints=timepoints)"
   ]
  },
  {
   "cell_type": "code",
   "execution_count": 104,
   "metadata": {},
   "outputs": [
    {
     "data": {
      "text/plain": [
       "<matplotlib.legend.Legend at 0x7f07c845cb90>"
      ]
     },
     "execution_count": 104,
     "metadata": {},
     "output_type": "execute_result"
    },
    {
     "data": {
      "image/png": "[encoded data removed]",
      "text/plain": [
       "<Figure size 640x480 with 1 Axes>"
      ]
     },
     "metadata": {},
     "output_type": "display_data"
    }
   ],
   "source": [
    "f, ax = plt.subplots()\n",
    "for yi, label in zip(solution.ys.T, species):\n",
    "    ax.plot(timepoints, yi, label=label)\n",
    "ax.legend()"
   ]
  },
  {
   "cell_type": "markdown",
   "metadata": {},
   "source": [
    "## Defining a model\n",
    "\n",
    "### Joint log density function\n",
    "\n",
    "We can use similar log-density functions as before due to the ability to operate over PyTrees"
   ]
  },
  {
   "cell_type": "code",
   "execution_count": 105,
   "metadata": {},
   "outputs": [
    {
     "data": {
      "text/plain": [
       "{'log_C': Array(1.3836465, dtype=float32, weak_type=True),\n",
       " 'log_D': Array(1.3836465, dtype=float32, weak_type=True),\n",
       " 'log_S_F': Array(1.3836465, dtype=float32, weak_type=True),\n",
       " 'log_conc_init': Array([1.3836465, 1.3836465], dtype=float32),\n",
       " 'log_gamma': Array(1.3836465, dtype=float32, weak_type=True),\n",
       " 'log_ks': Array(1.3836465, dtype=float32, weak_type=True),\n",
       " 'log_mu_max': Array(1.3836465, dtype=float32, weak_type=True),\n",
       " 'log_sigma': Array([1.3836465, 1.3836465], dtype=float32)}"
      ]
     },
     "execution_count": 105,
     "metadata": {},
     "output_type": "execute_result"
    }
   ],
   "source": [
    "def prior_log_density(params, prior):\n",
    "    loc, scale = prior\n",
    "    return jax.tree.map(jsp.stats.norm.logpdf, params, loc, scale)\n",
    "\n",
    "example_prior_loc = jax.tree.map(jnp.array, true_params)\n",
    "example_prior_scale = jax.tree.map(\n",
    "    lambda x: jnp.full_like(x, 0.1),\n",
    "    true_params,\n",
    ")\n",
    "example_prior = (example_prior_loc, example_prior_scale)\n",
    "example_log_prior = prior_log_density(true_params, example_prior)\n",
    "example_log_prior"
   ]
  },
  {
   "cell_type": "markdown",
   "metadata": {},
   "source": [
    "now the likelihood:"
   ]
  },
  {
   "cell_type": "code",
   "execution_count": 106,
   "metadata": {},
   "outputs": [
    {
     "data": {
      "text/plain": [
       "Array([[0.04910924, 2.409472  ],\n",
       "       [1.559545  , 4.130323  ],\n",
       "       [5.0280557 , 1.513581  ],\n",
       "       [5.343503  , 1.4124857 ],\n",
       "       [5.279102  , 1.568397  ]], dtype=float32)"
      ]
     },
     "execution_count": 106,
     "metadata": {},
     "output_type": "execute_result"
    }
   ],
   "source": [
    "def likelihood_log_density(obs, params, measurement_times):\n",
    "    yhat = solve_reactor(params, measurement_times).ys\n",
    "    log_yhat = jnp.log(jnp.maximum(yhat, jnp.full_like(yhat, 1e-9)))\n",
    "    sigma = jnp.exp(params[\"log_sigma\"])\n",
    "    log_obs = jnp.log(obs)\n",
    "    return jsp.stats.norm.logpdf(log_obs, log_yhat, sigma)\n",
    "\n",
    "\n",
    "def simulate_measurements(key, params, measurement_times):\n",
    "    yhat = solve_reactor(params, measurement_times).ys\n",
    "    sigma = jnp.exp(params[\"log_sigma\"])\n",
    "    noise = jax.random.normal(key, shape=yhat.shape) * sigma\n",
    "    return jnp.exp(jnp.log(yhat) + noise)\n",
    "\n",
    "\n",
    "sim_key, key = jax.random.split(key)\n",
    "example_obs = simulate_measurements(sim_key, true_params, measurement_times)\n",
    "example_obs"
   ]
  },
  {
   "cell_type": "code",
   "execution_count": 107,
   "metadata": {},
   "outputs": [
    {
     "data": {
      "text/plain": [
       "Array([[1.9695388 , 0.14465964],\n",
       "       [1.427151  , 1.2830095 ],\n",
       "       [1.786299  , 0.67321604],\n",
       "       [1.9973935 , 1.2173779 ],\n",
       "       [2.0646305 , 0.06542051]], dtype=float32)"
      ]
     },
     "execution_count": 107,
     "metadata": {},
     "output_type": "execute_result"
    }
   ],
   "source": [
    "likelihood_log_density(example_obs, true_params, measurement_times)"
   ]
  },
  {
   "cell_type": "markdown",
   "metadata": {},
   "source": [
    "And finally we can write down a joint log density function\n"
   ]
  },
  {
   "cell_type": "code",
   "execution_count": 108,
   "metadata": {},
   "outputs": [
    {
     "data": {
      "text/plain": [
       "Array(26.46516, dtype=float32)"
      ]
     },
     "execution_count": 108,
     "metadata": {},
     "output_type": "execute_result"
    }
   ],
   "source": [
    "def joint_log_density(params, obs, prior, measurement_times):\n",
    "    lprior = prior_log_density(params, prior)\n",
    "    llik = likelihood_log_density(obs, params, measurement_times)\n",
    "    lprior_sum = jax.tree.reduce(operator.add, jax.tree.map(jnp.sum, lprior))\n",
    "    llik_sum = jax.tree.reduce(operator.add, jax.tree.map(jnp.sum, llik))\n",
    "    return lprior_sum + llik_sum\n",
    "\n",
    "\n",
    "joint_log_density(true_params, example_obs,  example_prior, measurement_times)"
   ]
  },
  {
   "cell_type": "markdown",
   "metadata": {},
   "source": [
    "### Posterior\n",
    "\n",
    "When we have concrete values for observations, prior and measurement times, we want a new function based on the joint log density, where these values are fixed. This is an ideal job for the Python standard library function `partial`. The resulting posterior log density function has only one argument for parameters."
   ]
  },
  {
   "cell_type": "code",
   "execution_count": 109,
   "metadata": {},
   "outputs": [
    {
     "data": {
      "text/plain": [
       "Array(26.46516, dtype=float32)"
      ]
     },
     "execution_count": 109,
     "metadata": {},
     "output_type": "execute_result"
    }
   ],
   "source": [
    "posterior_log_density = partial(\n",
    "    joint_log_density,\n",
    "    obs=example_obs,\n",
    "    prior=example_prior,\n",
    "    measurement_times=measurement_times\n",
    ")\n",
    "posterior_log_density(true_params)"
   ]
  },
  {
   "cell_type": "markdown",
   "metadata": {},
   "source": [
    "## MCMC\n",
    "\n",
    "Now we can generate posterior samples using adaptive Hamiltonian Monte Carlo via the library [blackjax](https://blackjax-devs.github.io/blackjax/).\n",
    "\n",
    "::: {.callout-note}\n",
    "\n",
    "Multi-chain MCMC with Blackjax is a bit annoying to do manually so I made some convenience functions `run_nuts` and `get_idata`. These should probably already be installed - if not just run `uv sync` from the project root.\n",
    "\n",
    ":::"
   ]
  },
  {
   "cell_type": "code",
   "execution_count": 110,
   "metadata": {},
   "outputs": [
    {
     "name": "stderr",
     "output_type": "stream",
     "text": [
      "ERROR:2025-08-13 09:22:36,833:jax._src.callback:95: jax.pure_callback failed\n",
      "Traceback (most recent call last):\n",
      "  File \"/home/nicholas/projects/bayesian_statistics_for_computational_biology/.venv/lib/python3.13/site-packages/jax/_src/callback.py\", line 93, in pure_callback_impl\n",
      "    return tree_util.tree_map(np.asarray, callback(*args))\n",
      "                                          ~~~~~~~~^^^^^^^\n",
      "  File \"/home/nicholas/projects/bayesian_statistics_for_computational_biology/.venv/lib/python3.13/site-packages/jax/_src/callback.py\", line 71, in __call__\n",
      "    return tree_util.tree_leaves(self.callback_func(*args, **kwargs))\n",
      "                                 ~~~~~~~~~~~~~~~~~~^^^^^^^^^^^^^^^^^\n",
      "  File \"/home/nicholas/projects/bayesian_statistics_for_computational_biology/.venv/lib/python3.13/site-packages/equinox/_errors.py\", line 89, in raises\n",
      "    raise _EquinoxRuntimeError(\n",
      "    ...<9 lines>...\n",
      "    )\n",
      "equinox._errors._EquinoxRuntimeError: The maximum number of solver steps was reached. Try increasing `max_steps`.\n",
      "\n",
      "\n",
      "--------------------\n",
      "An error occurred during the runtime of your JAX program! Unfortunately you do not appear to be using `equinox.filter_jit` (perhaps you are using `jax.jit` instead?) and so further information about the error cannot be displayed. (Probably you are seeing a very large but uninformative error message right now.) Please wrap your program with `equinox.filter_jit`.\n",
      "--------------------\n",
      "\n"
     ]
    },
    {
     "ename": "XlaRuntimeError",
     "evalue": "INTERNAL: CpuCallback error calling callback: Traceback (most recent call last):\n  File \"/home/nicholas/projects/bayesian_statistics_for_computational_biology/.venv/lib/python3.13/site-packages/jax/_src/callback.py\", line 782, in _wrapped_callback\n  File \"/home/nicholas/projects/bayesian_statistics_for_computational_biology/.venv/lib/python3.13/site-packages/jax/_src/callback.py\", line 222, in _callback\n  File \"/home/nicholas/projects/bayesian_statistics_for_computational_biology/.venv/lib/python3.13/site-packages/jax/_src/callback.py\", line 96, in pure_callback_impl\n  File \"/home/nicholas/projects/bayesian_statistics_for_computational_biology/.venv/lib/python3.13/site-packages/jax/_src/callback.py\", line 71, in __call__\n  File \"/home/nicholas/projects/bayesian_statistics_for_computational_biology/.venv/lib/python3.13/site-packages/equinox/_errors.py\", line 89, in raises\n_EquinoxRuntimeError: The maximum number of solver steps was reached. Try increasing `max_steps`.\n\n\n--------------------\nAn error occurred during the runtime of your JAX program! Unfortunately you do not appear to be using `equinox.filter_jit` (perhaps you are using `jax.jit` instead?) and so further information about the error cannot be displayed. (Probably you are seeing a very large but uninformative error message right now.) Please wrap your program with `equinox.filter_jit`.\n--------------------\n",
     "output_type": "error",
     "traceback": [
      "\u001b[31m---------------------------------------------------------------------------\u001b[39m",
      "\u001b[31mXlaRuntimeError\u001b[39m                           Traceback (most recent call last)",
      "\u001b[36mCell\u001b[39m\u001b[36m \u001b[39m\u001b[32mIn[110]\u001b[39m\u001b[32m, line 2\u001b[39m\n\u001b[32m      1\u001b[39m \u001b[38;5;28;01mfrom\u001b[39;00m\u001b[38;5;250m \u001b[39m\u001b[34;01mblackjax_utils\u001b[39;00m\u001b[38;5;250m \u001b[39m\u001b[38;5;28;01mimport\u001b[39;00m run_nuts, get_idata\n\u001b[32m----> \u001b[39m\u001b[32m2\u001b[39m states, info = \u001b[43mrun_nuts\u001b[49m\u001b[43m(\u001b[49m\n\u001b[32m      3\u001b[39m \u001b[43m    \u001b[49m\u001b[43mkey\u001b[49m\u001b[43m,\u001b[49m\n\u001b[32m      4\u001b[39m \u001b[43m    \u001b[49m\u001b[43mjax\u001b[49m\u001b[43m.\u001b[49m\u001b[43mjit\u001b[49m\u001b[43m(\u001b[49m\u001b[43mposterior_log_density\u001b[49m\u001b[43m)\u001b[49m\u001b[43m,\u001b[49m\n\u001b[32m      5\u001b[39m \u001b[43m    \u001b[49m\u001b[43minit_params\u001b[49m\u001b[43m=\u001b[49m\u001b[43mexample_prior_loc\u001b[49m\u001b[43m,\u001b[49m\n\u001b[32m      6\u001b[39m \u001b[43m    \u001b[49m\u001b[43mn_chain\u001b[49m\u001b[43m=\u001b[49m\u001b[32;43m4\u001b[39;49m\u001b[43m,\u001b[49m\n\u001b[32m      7\u001b[39m \u001b[43m    \u001b[49m\u001b[43mn_warmup\u001b[49m\u001b[43m=\u001b[49m\u001b[32;43m200\u001b[39;49m\u001b[43m,\u001b[49m\n\u001b[32m      8\u001b[39m \u001b[43m    \u001b[49m\u001b[43mn_sample\u001b[49m\u001b[43m=\u001b[49m\u001b[32;43m200\u001b[39;49m\u001b[43m,\u001b[49m\n\u001b[32m      9\u001b[39m \u001b[43m    \u001b[49m\u001b[43mtarget_acceptance_rate\u001b[49m\u001b[43m=\u001b[49m\u001b[32;43m0.9\u001b[39;49m\u001b[43m,\u001b[49m\n\u001b[32m     10\u001b[39m \u001b[43m    \u001b[49m\u001b[43minitial_step_size\u001b[49m\u001b[43m=\u001b[49m\u001b[32;43m0.001\u001b[39;49m\u001b[43m,\u001b[49m\n\u001b[32m     11\u001b[39m \u001b[43m)\u001b[49m\n\u001b[32m     13\u001b[39m coords = {\n\u001b[32m     14\u001b[39m     \u001b[33m\"\u001b[39m\u001b[33mreactor\u001b[39m\u001b[33m\"\u001b[39m: reactors,\n\u001b[32m     15\u001b[39m     \u001b[33m\"\u001b[39m\u001b[33mspecies\u001b[39m\u001b[33m\"\u001b[39m: species,\n\u001b[32m     16\u001b[39m     \u001b[33m\"\u001b[39m\u001b[33mtimepoint\u001b[39m\u001b[33m\"\u001b[39m: timepoints,\n\u001b[32m     17\u001b[39m }\n\u001b[32m     18\u001b[39m dims = {\n\u001b[32m     19\u001b[39m     \u001b[33m\"\u001b[39m\u001b[33mlog_conc_init\u001b[39m\u001b[33m\"\u001b[39m: [\u001b[33m\"\u001b[39m\u001b[33mspecies\u001b[39m\u001b[33m\"\u001b[39m],\n\u001b[32m     20\u001b[39m     \u001b[33m\"\u001b[39m\u001b[33mlog_sigma\u001b[39m\u001b[33m\"\u001b[39m: [\u001b[33m\"\u001b[39m\u001b[33mspecies\u001b[39m\u001b[33m\"\u001b[39m]\n\u001b[32m     21\u001b[39m }\n",
      "\u001b[36mFile \u001b[39m\u001b[32m~/projects/bayesian_statistics_for_computational_biology/src/blackjax_utils/nuts.py:94\u001b[39m, in \u001b[36mrun_nuts\u001b[39m\u001b[34m(key, log_posterior, init_params, init_sd, n_chain, n_warmup, n_sample, **warmup_kwargs)\u001b[39m\n\u001b[32m     92\u001b[39m get_init_params_vmap = jax.vmap(get_init_params, in_axes=(\u001b[32m0\u001b[39m, \u001b[38;5;28;01mNone\u001b[39;00m, \u001b[38;5;28;01mNone\u001b[39;00m))\n\u001b[32m     93\u001b[39m init_params = get_init_params_vmap(init_keys, init_params, init_sd)\n\u001b[32m---> \u001b[39m\u001b[32m94\u001b[39m initial_states, tuned_params = \u001b[43mwarmup_func\u001b[49m\u001b[43m(\u001b[49m\n\u001b[32m     95\u001b[39m \u001b[43m    \u001b[49m\u001b[43mwarmup_keys\u001b[49m\u001b[43m,\u001b[49m\n\u001b[32m     96\u001b[39m \u001b[43m    \u001b[49m\u001b[43minit_params\u001b[49m\u001b[43m,\u001b[49m\n\u001b[32m     97\u001b[39m \u001b[43m    \u001b[49m\u001b[43mlog_posterior\u001b[49m\u001b[43m,\u001b[49m\n\u001b[32m     98\u001b[39m \u001b[43m    \u001b[49m\u001b[43mn_warmup\u001b[49m\u001b[43m,\u001b[49m\n\u001b[32m     99\u001b[39m \u001b[43m\u001b[49m\u001b[43m)\u001b[49m\n\u001b[32m    100\u001b[39m states, info = sample_func(\n\u001b[32m    101\u001b[39m     sample_keys,\n\u001b[32m    102\u001b[39m     initial_states,\n\u001b[32m   (...)\u001b[39m\u001b[32m    105\u001b[39m     n_sample,\n\u001b[32m    106\u001b[39m )\n\u001b[32m    107\u001b[39m \u001b[38;5;28;01mreturn\u001b[39;00m states, info\n",
      "    \u001b[31m[... skipping hidden 7 frame]\u001b[39m\n",
      "\u001b[36mFile \u001b[39m\u001b[32m~/projects/bayesian_statistics_for_computational_biology/src/blackjax_utils/nuts.py:27\u001b[39m, in \u001b[36mrun_warmup\u001b[39m\u001b[34m(key, params, target_density, draws, warmup_kwargs)\u001b[39m\n\u001b[32m     21\u001b[39m \u001b[38;5;28;01mdef\u001b[39;00m\u001b[38;5;250m \u001b[39m\u001b[34mrun_warmup\u001b[39m(key, params, target_density, draws, warmup_kwargs):\n\u001b[32m     22\u001b[39m     warmup = blackjax.window_adaptation(\n\u001b[32m     23\u001b[39m         blackjax.nuts,\n\u001b[32m     24\u001b[39m         target_density,\n\u001b[32m     25\u001b[39m         **warmup_kwargs,\n\u001b[32m     26\u001b[39m     )\n\u001b[32m---> \u001b[39m\u001b[32m27\u001b[39m     (initial_states, tuned_params), _ = \u001b[43mwarmup\u001b[49m\u001b[43m.\u001b[49m\u001b[43mrun\u001b[49m\u001b[43m(\u001b[49m\u001b[43mkey\u001b[49m\u001b[43m,\u001b[49m\u001b[43m \u001b[49m\u001b[43mparams\u001b[49m\u001b[43m,\u001b[49m\u001b[43m \u001b[49m\u001b[43mdraws\u001b[49m\u001b[43m)\u001b[49m  \u001b[38;5;66;03m# type: ignore\u001b[39;00m\n\u001b[32m     28\u001b[39m     \u001b[38;5;28;01mreturn\u001b[39;00m initial_states, tuned_params\n",
      "\u001b[36mFile \u001b[39m\u001b[32m~/projects/bayesian_statistics_for_computational_biology/.venv/lib/python3.13/site-packages/blackjax/adaptation/window_adaptation.py:340\u001b[39m, in \u001b[36mwindow_adaptation.<locals>.run\u001b[39m\u001b[34m(rng_key, position, num_steps)\u001b[39m\n\u001b[32m    338\u001b[39m keys = jax.random.split(rng_key, num_steps)\n\u001b[32m    339\u001b[39m schedule = build_schedule(num_steps)\n\u001b[32m--> \u001b[39m\u001b[32m340\u001b[39m last_state, info = \u001b[43mscan_fn\u001b[49m\u001b[43m(\u001b[49m\n\u001b[32m    341\u001b[39m \u001b[43m    \u001b[49m\u001b[43mone_step\u001b[49m\u001b[43m,\u001b[49m\n\u001b[32m    342\u001b[39m \u001b[43m    \u001b[49m\u001b[43mstart_state\u001b[49m\u001b[43m,\u001b[49m\n\u001b[32m    343\u001b[39m \u001b[43m    \u001b[49m\u001b[43m(\u001b[49m\u001b[43mjnp\u001b[49m\u001b[43m.\u001b[49m\u001b[43marange\u001b[49m\u001b[43m(\u001b[49m\u001b[43mnum_steps\u001b[49m\u001b[43m)\u001b[49m\u001b[43m,\u001b[49m\u001b[43m \u001b[49m\u001b[43mkeys\u001b[49m\u001b[43m,\u001b[49m\u001b[43m \u001b[49m\u001b[43mschedule\u001b[49m\u001b[43m)\u001b[49m\u001b[43m,\u001b[49m\n\u001b[32m    344\u001b[39m \u001b[43m\u001b[49m\u001b[43m)\u001b[49m\n\u001b[32m    346\u001b[39m last_chain_state, last_warmup_state, *_ = last_state\n\u001b[32m    348\u001b[39m step_size, inverse_mass_matrix = adapt_final(last_warmup_state)\n",
      "    \u001b[31m[... skipping hidden 23 frame]\u001b[39m\n",
      "\u001b[36mFile \u001b[39m\u001b[32m~/projects/bayesian_statistics_for_computational_biology/.venv/lib/python3.13/site-packages/jax/_src/interpreters/pxla.py:1297\u001b[39m, in \u001b[36mExecuteReplicated.__call__\u001b[39m\u001b[34m(self, *args)\u001b[39m\n\u001b[32m   1294\u001b[39m \u001b[38;5;28;01mif\u001b[39;00m (\u001b[38;5;28mself\u001b[39m.ordered_effects \u001b[38;5;129;01mor\u001b[39;00m \u001b[38;5;28mself\u001b[39m.has_unordered_effects\n\u001b[32m   1295\u001b[39m     \u001b[38;5;129;01mor\u001b[39;00m \u001b[38;5;28mself\u001b[39m.has_host_callbacks):\n\u001b[32m   1296\u001b[39m   input_bufs = \u001b[38;5;28mself\u001b[39m._add_tokens_to_inputs(input_bufs)\n\u001b[32m-> \u001b[39m\u001b[32m1297\u001b[39m   results = \u001b[38;5;28;43mself\u001b[39;49m\u001b[43m.\u001b[49m\u001b[43mxla_executable\u001b[49m\u001b[43m.\u001b[49m\u001b[43mexecute_sharded\u001b[49m\u001b[43m(\u001b[49m\n\u001b[32m   1298\u001b[39m \u001b[43m      \u001b[49m\u001b[43minput_bufs\u001b[49m\u001b[43m,\u001b[49m\u001b[43m \u001b[49m\u001b[43mwith_tokens\u001b[49m\u001b[43m=\u001b[49m\u001b[38;5;28;43;01mTrue\u001b[39;49;00m\n\u001b[32m   1299\u001b[39m \u001b[43m  \u001b[49m\u001b[43m)\u001b[49m\n\u001b[32m   1301\u001b[39m   result_token_bufs = results.disassemble_prefix_into_single_device_arrays(\n\u001b[32m   1302\u001b[39m       \u001b[38;5;28mlen\u001b[39m(\u001b[38;5;28mself\u001b[39m.ordered_effects))\n\u001b[32m   1303\u001b[39m   sharded_runtime_token = results.consume_token()\n",
      "\u001b[31mXlaRuntimeError\u001b[39m: INTERNAL: CpuCallback error calling callback: Traceback (most recent call last):\n  File \"/home/nicholas/projects/bayesian_statistics_for_computational_biology/.venv/lib/python3.13/site-packages/jax/_src/callback.py\", line 782, in _wrapped_callback\n  File \"/home/nicholas/projects/bayesian_statistics_for_computational_biology/.venv/lib/python3.13/site-packages/jax/_src/callback.py\", line 222, in _callback\n  File \"/home/nicholas/projects/bayesian_statistics_for_computational_biology/.venv/lib/python3.13/site-packages/jax/_src/callback.py\", line 96, in pure_callback_impl\n  File \"/home/nicholas/projects/bayesian_statistics_for_computational_biology/.venv/lib/python3.13/site-packages/jax/_src/callback.py\", line 71, in __call__\n  File \"/home/nicholas/projects/bayesian_statistics_for_computational_biology/.venv/lib/python3.13/site-packages/equinox/_errors.py\", line 89, in raises\n_EquinoxRuntimeError: The maximum number of solver steps was reached. Try increasing `max_steps`.\n\n\n--------------------\nAn error occurred during the runtime of your JAX program! Unfortunately you do not appear to be using `equinox.filter_jit` (perhaps you are using `jax.jit` instead?) and so further information about the error cannot be displayed. (Probably you are seeing a very large but uninformative error message right now.) Please wrap your program with `equinox.filter_jit`.\n--------------------\n"
     ]
    }
   ],
   "source": [
    "from blackjax_utils import run_nuts, get_idata\n",
    "states, info = run_nuts(\n",
    "    key,\n",
    "    jax.jit(posterior_log_density),\n",
    "    init_params=example_prior_loc,\n",
    "    n_chain=4,\n",
    "    n_warmup=200,\n",
    "    n_sample=200,\n",
    "    target_acceptance_rate=0.9,\n",
    "    initial_step_size=0.001,\n",
    ")\n",
    "\n",
    "coords = {\n",
    "    \"reactor\": reactors,\n",
    "    \"species\": species,\n",
    "    \"timepoint\": timepoints,\n",
    "}\n",
    "dims = {\n",
    "    \"log_conc_init\": [\"species\"],\n",
    "    \"log_sigma\": [\"species\"]\n",
    "}\n",
    "\n",
    "idata = get_idata(states, info, coords=coords, dims=dims)\n",
    "n_divergent = idata.sample_stats[\"is_divergent\"].sum().item()\n",
    "print(f\"Number of divergent transitions: {n_divergent}\")\n",
    "print(az.summary(idata))"
   ]
  },
  {
   "cell_type": "markdown",
   "metadata": {},
   "source": [
    "::: {.callout-tip}\n",
    "### Exercise\n",
    "\n",
    "How good was our model?\n",
    "\n",
    "To answer this question, try:\n",
    "\n",
    "- for each parameter, compare the true value with the model's marginal posterior distribution.\n",
    "- plot the timecourses for a sample of parameters and compare with the real timecourse\n",
    "\n",
    ":::"
   ]
  }
 ],
 "metadata": {
  "kernelspec": {
   "display_name": "Python 3 (ipykernel)",
   "language": "python",
   "name": "python3"
  },
  "language_info": {
   "codemirror_mode": {
    "name": "ipython",
    "version": 3
   },
   "file_extension": ".py",
   "mimetype": "text/x-python",
   "name": "python",
   "nbconvert_exporter": "python",
   "pygments_lexer": "ipython3",
   "version": "3.13.5"
  }
 },
 "nbformat": 4,
 "nbformat_minor": 4
}
