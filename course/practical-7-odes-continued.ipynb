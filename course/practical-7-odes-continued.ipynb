{
 "cells": [
  {
   "cell_type": "markdown",
   "metadata": {},
   "source": [
    "# ODEs continued\n",
    " \n",
    "In the previous practical about ODEs we investigated a small biochemical network. For the example our goal is to define the system of ODEs and fit it to some data. For this example we will focus on a continuous stirred tank reactor where we are supplying some feed stock to a bioreactor, which consumes the feed supplying its biomass. Our goal is to characterise the growth rate and perform a simulation study about what happens under increasing flow rates.\n",
    "\n",
    "## Defining the model system\n",
    "\n",
    "There are three what are referred to as states in this system: the volume (V), the biomass (X), and substrate (S).\n",
    "\n",
    "![CSTR](img/cstr.svg)\n",
    "\n",
    "These processes are generally well defined. By listing out each of the processes and their rates we should be able to defined\n",
    "the system of ordinary differential equations in order to simulate this system. The most simple process is the volume and is \n",
    "determined by how much is entering the system vs how fast the water can leave the system. We can be fairly sure about how much\n",
    "water is entering and leaving the system and can ensure that the volume remains constant. This means that:\n",
    "\n",
    "$$\n",
    "F_{out} = F_{in}\n",
    "$$\n",
    "\n",
    "This is a simplification as the volume should be height, however, considering we are assume our reactor has a constant cross-section\n",
    "we can bundle all of the constants into $C$ and treat them as a single parameter (by: $\\sqrt{a\\times b} = \\sqrt{a}\\times\\sqrt{b}$).\n",
    "Following this we can assume the same growth kinetics and substrate consumption that we assumed in the previous model:\n",
    "\n",
    "\\begin{align*}\n",
    "\\mu &= \\frac{\\mu_{max}\\cdot S(t)}{K_{S} + S(t)}\\cdot \\\\\n",
    "q_s &= -\\gamma \\cdot \\frac{\\mu_{max}\\cdot S(t)}{K_{s} + S(t)}\n",
    "\\end{align*}\n",
    "$$\n",
    "\n",
    "where $K_S$ is the monod constant for the substrate concentration, $X(t)$ is the concentration\n",
    "of $X$ at time $t$, $S(t)$ is the concentration of $S$ at time $t$, $\\mu_{max}$ is the maximum\n",
    "growth rate, and $\\gamma$ is the yield of $S$ per amount of $X$ (This assumes it is growth coupled).\n",
    "\n",
    "One thing to note about this system is that even though the rates are a function of concentrations\n",
    "the states should be solved as what we call _extrinsic_ values, meaning we should focus on the absolute\n",
    "amount of those values. This is in opposition to _intrinsic_ values, these can be though of as densities such\n",
    "as concentration. As a hint, the mass balances sould have this form:\n",
    "\n",
    "$$\n",
    "\\begin{align*}\n",
    "\\frac{dXV}{dt} &= ... \\\\\n",
    "\\frac{dSV}{dt} &= ... \\\\\n",
    "\\end{align*}\n",
    "$$\n",
    "\n",
    "And because we do not have to solve for the extrinsic values and solve it for dimensionless properties we can instead write it as:\n",
    "\n",
    "$$\n",
    "\\begin{align*}\n",
    "\\frac{dX}{dt} &= ... \\\\\n",
    "\\frac{dS}{dt} &= ... \\\\\n",
    "\\end{align*}\n",
    "$$\n",
    "\n",
    "Where rather than being a function of $F_{in}$ and $V$, we can write it as a function of $D = \\frac{F_{in}}{V}$\n",
    "\n",
    "and the list of parameters is as follows:\n",
    "- $K_S$\n",
    "- $\\mu_{max}$\n",
    "- $\\gamma$\n",
    "- $D$\n",
    "- $S_F$\n"
   ]
  },
  {
   "cell_type": "code",
   "execution_count": 1,
   "metadata": {},
   "outputs": [],
   "source": [
    "from functools import partial\n",
    "\n",
    "import operator\n",
    "import arviz as az\n",
    "import diffrax\n",
    "import numpy as np\n",
    "import jax\n",
    "\n",
    "from jax import numpy as jnp\n",
    "from jax import scipy as jsp\n",
    "from matplotlib import pyplot as plt"
   ]
  },
  {
   "cell_type": "markdown",
   "metadata": {},
   "source": [
    "### Specify true parameters\n",
    "\n",
    "This code specifies the dimensions of our problem."
   ]
  },
  {
   "cell_type": "code",
   "execution_count": 2,
   "metadata": {},
   "outputs": [
    {
     "name": "stderr",
     "output_type": "stream",
     "text": [
      "WARNING:2025-08-13 12:05:06,171:jax._src.xla_bridge:794: An NVIDIA GPU may be present on this machine, but a CUDA-enabled jaxlib is not installed. Falling back to cpu.\n"
     ]
    }
   ],
   "source": [
    "N_reactors= 4\n",
    "N_timepoint = 50\n",
    "N_meas = 5\n",
    "duration = 50\n",
    "reactors = [i + 1 for i in range(N_reactors)]\n",
    "species = [\"biomass\", \"substrate\"]\n",
    "measurement_times = jnp.linspace(0.01, duration, N_meas)\n",
    "timepoints = jnp.linspace(0.01, duration, N_timepoint)"
   ]
  },
  {
   "cell_type": "markdown",
   "metadata": {},
   "source": [
    "Similar to before we are going to initialise the random number generators"
   ]
  },
  {
   "cell_type": "code",
   "execution_count": 3,
   "metadata": {},
   "outputs": [],
   "source": [
    "SEED = 12345\n",
    "key = jax.random.key(seed=SEED)\n",
    "rng_key, key = jax.random.split(key)"
   ]
  },
  {
   "cell_type": "markdown",
   "metadata": {},
   "source": [
    "We know that all of the parameters are going to be positively constrained so we should\n",
    "work with log values and secondly, we are assuming that this is going to be a large bioreactor\n",
    "and that there will be minimal reactor-to-reactor differences, therefore, we can assume a pooled\n",
    "model for the strain behaviour"
   ]
  },
  {
   "cell_type": "code",
   "execution_count": 4,
   "metadata": {},
   "outputs": [
    {
     "data": {
      "text/plain": [
       "{'log_D': Array(1.0986123, dtype=float32),\n",
       " 'log_S_F': Array(1.609438, dtype=float32, weak_type=True),\n",
       " 'log_conc_init': Array([-2.9957323,  0.6931472], dtype=float32),\n",
       " 'log_gamma': Array(-0.35667497, dtype=float32, weak_type=True),\n",
       " 'log_ks': Array(0.6931472, dtype=float32, weak_type=True),\n",
       " 'log_mu_max': Array(1.609438, dtype=float32, weak_type=True),\n",
       " 'log_sigma': Array([-2.9957323, -2.3025851], dtype=float32)}"
      ]
     },
     "execution_count": 4,
     "metadata": {},
     "output_type": "execute_result"
    }
   ],
   "source": [
    "mu_max = 5\n",
    "S_F = 5\n",
    "D = jnp.linspace(0.5, 3, N_reactors)\n",
    "ks = 2\n",
    "gamma = 0.7\n",
    "V_0 = 1\n",
    "X_0 = 0.05\n",
    "S_0 = 2\n",
    "\n",
    "\n",
    "\n",
    "true_params = {\n",
    "    \"log_mu_max\": jnp.log(mu_max),\n",
    "    \"log_ks\": jnp.log(ks),\n",
    "    \"log_S_F\": jnp.log(S_F),\n",
    "    \"log_D\": jnp.log(D),\n",
    "    \"log_gamma\": jnp.log(gamma),\n",
    "    \"log_conc_init\": jnp.log(jnp.array([X_0, S_0])),\n",
    "    \"log_sigma\": jnp.log(jnp.array([0.05, 0.1])),\n",
    "}\n",
    "\n",
    "def get_reactor_params(reactor_ix, params):\n",
    "    def slice(leaf):\n",
    "        return (\n",
    "            leaf[reactor_ix]\n",
    "            if (hasattr(leaf, \"shape\") and leaf.ndim > 0 and leaf.shape[0] == N_reactors)\n",
    "            else leaf\n",
    "        )\n",
    "\n",
    "    return jax.tree.map(slice, params)\n",
    "\n",
    "true_params_reactor_2 = get_reactor_params(3, true_params)\n",
    "true_params_reactor_2"
   ]
  },
  {
   "cell_type": "markdown",
   "metadata": {},
   "source": [
    "### Defining the dynamics\n",
    "Much like before we will need to define the RHS of our system of differential equations, this is also\n",
    "referred to as the term in diffrax."
   ]
  },
  {
   "cell_type": "code",
   "execution_count": 5,
   "metadata": {},
   "outputs": [],
   "source": [
    "def get_mu(S, mu_max, ks):\n",
    "    return mu_max * (S)/(ks + S)\n",
    "    \n",
    "@jax.jit\n",
    "def reactor_kinetics(t, y, args):\n",
    "    X, S = y\n",
    "    S_F = jnp.exp(args[\"log_S_F\"])\n",
    "    D = jnp.exp(args[\"log_D\"])\n",
    "    mu_max = jnp.exp(args[\"log_mu_max\"])\n",
    "    ks = jnp.exp(args[\"log_ks\"])\n",
    "    gamma = jnp.exp(args[\"log_gamma\"])\n",
    "    mu = get_mu(S, mu_max, ks)\n",
    "    return jnp.array([mu * X - D*X, D*(S_F-S) - gamma * mu * X])"
   ]
  },
  {
   "cell_type": "markdown",
   "metadata": {},
   "source": [
    "### Solving the initial value problem\n",
    "\n",
    "The next step is to wrap this function using the diffrax class `ODETerm`"
   ]
  },
  {
   "cell_type": "code",
   "execution_count": 6,
   "metadata": {},
   "outputs": [],
   "source": [
    "reactor_term = diffrax.ODETerm(reactor_kinetics)"
   ]
  },
  {
   "cell_type": "markdown",
   "metadata": {},
   "source": [
    "Now we can choose a solver, stepsize controller and initial sensitivity"
   ]
  },
  {
   "cell_type": "code",
   "execution_count": 7,
   "metadata": {},
   "outputs": [],
   "source": [
    "solver = diffrax.Kvaerno5()\n",
    "stepsize_controller = diffrax.PIDController(rtol=1e-8, atol=1e-8)\n",
    "dt0 = 0.001\n"
   ]
  },
  {
   "cell_type": "markdown",
   "metadata": {},
   "source": [
    "Now we can make a function for solving our initial value problem"
   ]
  },
  {
   "cell_type": "code",
   "execution_count": 8,
   "metadata": {},
   "outputs": [],
   "source": [
    "@jax.jit\n",
    "def solve_reactor(args, timepoints):\n",
    "    t0 = 0.0\n",
    "    tf = timepoints[-1]\n",
    "    y0 = jnp.exp(args[\"log_conc_init\"])\n",
    "    saveat = diffrax.SaveAt(ts=timepoints)\n",
    "    return diffrax.diffeqsolve(\n",
    "        reactor_term,\n",
    "        solver,\n",
    "        t0=t0,\n",
    "        t1=tf,\n",
    "        dt0=dt0,\n",
    "        y0=y0,\n",
    "        saveat=saveat,\n",
    "        args=args,\n",
    "        stepsize_controller=stepsize_controller,\n",
    "        max_steps=int(1e5)\n",
    "    )\n",
    "\n",
    "solution = solve_reactor(args=true_params_reactor_2, timepoints=timepoints)"
   ]
  },
  {
   "cell_type": "code",
   "execution_count": 9,
   "metadata": {},
   "outputs": [
    {
     "data": {
      "text/plain": [
       "<matplotlib.legend.Legend at 0x7fc91434c050>"
      ]
     },
     "execution_count": 9,
     "metadata": {},
     "output_type": "execute_result"
    },
    {
     "data": {
      "image/png": "[encoded data removed]",
      "text/plain": [
       "<Figure size 640x480 with 1 Axes>"
      ]
     },
     "metadata": {},
     "output_type": "display_data"
    }
   ],
   "source": [
    "f, ax = plt.subplots()\n",
    "for yi, label in zip(solution.ys.T, species):\n",
    "    ax.plot(timepoints, yi, label=label)\n",
    "ax.legend()"
   ]
  },
  {
   "cell_type": "markdown",
   "metadata": {},
   "source": [
    "## Defining a model\n",
    "\n",
    "### Joint log density function\n",
    "\n",
    "We can use similar log-density functions as before due to the ability to operate over PyTrees"
   ]
  },
  {
   "cell_type": "code",
   "execution_count": 10,
   "metadata": {},
   "outputs": [
    {
     "data": {
      "text/plain": [
       "{'log_D': Array([3.6862316, 3.6862316, 3.6862316, 3.6862316], dtype=float32),\n",
       " 'log_S_F': Array(1.3836465, dtype=float32, weak_type=True),\n",
       " 'log_conc_init': Array([1.3836465, 1.3836465], dtype=float32),\n",
       " 'log_gamma': Array(1.3836465, dtype=float32, weak_type=True),\n",
       " 'log_ks': Array(1.3836465, dtype=float32, weak_type=True),\n",
       " 'log_mu_max': Array(1.3836465, dtype=float32, weak_type=True),\n",
       " 'log_sigma': Array([1.3836465, 1.3836465], dtype=float32)}"
      ]
     },
     "execution_count": 10,
     "metadata": {},
     "output_type": "execute_result"
    }
   ],
   "source": [
    "def prior_log_density(params, prior):\n",
    "    loc, scale = prior\n",
    "    return jax.tree.map(jsp.stats.norm.logpdf, params, loc, scale)\n",
    "\n",
    "example_prior_loc = jax.tree.map(jnp.array, true_params)\n",
    "example_prior_scale = jax.tree.map(\n",
    "    lambda x: jnp.full_like(x, 0.1),\n",
    "    true_params,\n",
    ")\n",
    "example_prior_scale[\"log_D\"] = jnp.full_like(example_prior_scale[\"log_D\"], 0.01)\n",
    "example_prior = (example_prior_loc, example_prior_scale)\n",
    "example_log_prior = prior_log_density(true_params, example_prior)\n",
    "example_log_prior"
   ]
  },
  {
   "cell_type": "markdown",
   "metadata": {},
   "source": [
    "now the likelihood:"
   ]
  },
  {
   "cell_type": "code",
   "execution_count": 11,
   "metadata": {},
   "outputs": [
    {
     "data": {
      "text/plain": [
       "Array([[[0.05460515, 1.7285826 ],\n",
       "        [6.5201435 , 0.247178  ],\n",
       "        [7.1908994 , 0.23406819],\n",
       "        [6.794568  , 0.25228143],\n",
       "        [6.7602806 , 0.20422715]],\n",
       "\n",
       "       [[0.05577717, 1.5933104 ],\n",
       "        [6.0378776 , 0.84892285],\n",
       "        [6.139068  , 0.70609045],\n",
       "        [6.25339   , 0.97008973],\n",
       "        [6.2858114 , 0.7858339 ]],\n",
       "\n",
       "       [[0.05402158, 2.4463778 ],\n",
       "        [4.919155  , 1.2132941 ],\n",
       "        [4.6876535 , 1.7548411 ],\n",
       "        [4.486596  , 1.1044122 ],\n",
       "        [4.390065  , 1.6624737 ]],\n",
       "\n",
       "       [[0.04971911, 2.0664577 ],\n",
       "        [2.766059  , 2.752897  ],\n",
       "        [2.8167205 , 2.446795  ],\n",
       "        [3.045614  , 3.5065937 ],\n",
       "        [2.7387676 , 3.0357141 ]]], dtype=float32)"
      ]
     },
     "execution_count": 11,
     "metadata": {},
     "output_type": "execute_result"
    }
   ],
   "source": [
    "def likelihood_log_density(obs, params, measurement_times):\n",
    "    n_reactor = params[\"log_D\"].shape[0]\n",
    "    reactors = jnp.arange(n_reactor)\n",
    "    yhat = jax.vmap(\n",
    "        lambda i: solve_reactor(get_reactor_params(i, params), measurement_times).ys,\n",
    "    )(reactors)\n",
    "    log_yhat = jnp.log(jnp.maximum(yhat, jnp.full_like(yhat, 1e-9)))\n",
    "    sigma = jnp.exp(params[\"log_sigma\"])\n",
    "    log_obs = jnp.log(obs)\n",
    "    return jsp.stats.norm.logpdf(log_obs, log_yhat, sigma)\n",
    "\n",
    "\n",
    "def simulate_measurements(key, params, measurement_times):\n",
    "    n_reactor = params[\"log_D\"].shape[0]\n",
    "    reactors = jnp.arange(n_reactor)\n",
    "    yhat = jax.vmap(\n",
    "        lambda i: solve_reactor(get_reactor_params(i, params), measurement_times).ys,\n",
    "    )(reactors)\n",
    "    sigma = jnp.exp(params[\"log_sigma\"])\n",
    "    noise = jax.random.normal(key, shape=yhat.shape) * sigma\n",
    "    return jnp.exp(jnp.log(yhat) + noise)\n",
    "\n",
    "\n",
    "sim_key, key = jax.random.split(key)\n",
    "example_obs = simulate_measurements(sim_key, true_params, measurement_times)\n",
    "example_obs"
   ]
  },
  {
   "cell_type": "code",
   "execution_count": 12,
   "metadata": {},
   "outputs": [
    {
     "data": {
      "text/plain": [
       "Array([[[ 1.1503241 ,  0.21532953],\n",
       "        [ 1.6808413 ,  0.8320696 ],\n",
       "        [ 1.5324833 ,  1.2488014 ],\n",
       "        [ 2.0726962 ,  0.57889   ],\n",
       "        [ 2.0584168 ,  1.0270905 ]],\n",
       "\n",
       "       [[ 0.17343819, -1.6563159 ],\n",
       "        [ 2.053142  ,  0.18755579],\n",
       "        [ 2.070191  ,  1.3399621 ],\n",
       "        [ 1.9596995 , -2.7660604 ],\n",
       "        [ 1.9042987 ,  1.083769  ]],\n",
       "\n",
       "       [[ 0.986609  , -0.0654403 ],\n",
       "        [ 2.0644312 , -1.2969908 ],\n",
       "        [ 1.4480975 ,  0.43840384],\n",
       "        [ 0.08061004, -3.9161468 ],\n",
       "        [-0.8831823 ,  1.0356755 ]],\n",
       "\n",
       "       [[ 2.0766299 ,  1.3783708 ],\n",
       "        [ 2.0371568 ,  0.9035593 ],\n",
       "        [ 2.0361912 , -0.69376504],\n",
       "        [ 1.2606423 ,  0.16633844],\n",
       "        [ 1.7187018 ,  1.3766443 ]]], dtype=float32)"
      ]
     },
     "execution_count": 12,
     "metadata": {},
     "output_type": "execute_result"
    }
   ],
   "source": [
    "likelihood_log_density(example_obs, true_params, measurement_times)"
   ]
  },
  {
   "cell_type": "markdown",
   "metadata": {},
   "source": [
    "And finally we can write down a joint log density function\n"
   ]
  },
  {
   "cell_type": "code",
   "execution_count": 15,
   "metadata": {},
   "outputs": [
    {
     "data": {
      "text/plain": [
       "Array(56.713253, dtype=float32)"
      ]
     },
     "execution_count": 15,
     "metadata": {},
     "output_type": "execute_result"
    }
   ],
   "source": [
    "def joint_log_density(params, obs, prior, measurement_times):\n",
    "    lprior = prior_log_density(params, prior)\n",
    "    llik = likelihood_log_density(obs, params, measurement_times)\n",
    "    lprior_sum = jax.tree.reduce(operator.add, jax.tree.map(jnp.sum, lprior))\n",
    "    llik_sum = jax.tree.reduce(operator.add, jax.tree.map(jnp.sum, llik))\n",
    "    return lprior_sum + llik_sum\n",
    "\n",
    "\n",
    "joint_log_density(true_params, example_obs,  example_prior, measurement_times)"
   ]
  },
  {
   "cell_type": "markdown",
   "metadata": {},
   "source": [
    "### Posterior\n",
    "\n",
    "When we have concrete values for observations, prior and measurement times, we want a new function based on the joint log density, where these values are fixed. This is an ideal job for the Python standard library function `partial`. The resulting posterior log density function has only one argument for parameters."
   ]
  },
  {
   "cell_type": "code",
   "execution_count": 16,
   "metadata": {},
   "outputs": [
    {
     "data": {
      "text/plain": [
       "Array(56.713253, dtype=float32)"
      ]
     },
     "execution_count": 16,
     "metadata": {},
     "output_type": "execute_result"
    }
   ],
   "source": [
    "posterior_log_density = partial(\n",
    "    joint_log_density,\n",
    "    obs=example_obs,\n",
    "    prior=example_prior,\n",
    "    measurement_times=measurement_times\n",
    ")\n",
    "posterior_log_density(true_params)"
   ]
  },
  {
   "cell_type": "markdown",
   "metadata": {},
   "source": [
    "## MCMC\n",
    "\n",
    "Now we can generate posterior samples using adaptive Hamiltonian Monte Carlo via the library [blackjax](https://blackjax-devs.github.io/blackjax/).\n",
    "\n",
    "::: {.callout-note}\n",
    "\n",
    "Multi-chain MCMC with Blackjax is a bit annoying to do manually so I made some convenience functions `run_nuts` and `get_idata`. These should probably already be installed - if not just run `uv sync` from the project root.\n",
    "\n",
    ":::"
   ]
  },
  {
   "cell_type": "code",
   "execution_count": null,
   "metadata": {},
   "outputs": [],
   "source": [
    "from blackjax_utils import run_nuts, get_idata\n",
    "states, info = run_nuts(\n",
    "    key,\n",
    "    jax.jit(posterior_log_density),\n",
    "    init_params=example_prior_loc,\n",
    "    n_chain=4,\n",
    "    n_warmup=50,\n",
    "    n_sample=50,\n",
    "    target_acceptance_rate=0.8,\n",
    "    initial_step_size=0.001,\n",
    ")\n",
    "\n",
    "coords = {\n",
    "    \"reactor\": reactors,\n",
    "    \"species\": species,\n",
    "    \"timepoint\": timepoints,\n",
    "}\n",
    "dims = {\n",
    "    \"log_conc_init\": [\"species\"],\n",
    "    \"log_sigma\": [\"species\"]\n",
    "}\n",
    "\n",
    "idata = get_idata(states, info, coords=coords, dims=dims)\n",
    "n_divergent = idata.sample_stats[\"is_divergent\"].sum().item()\n",
    "print(f\"Number of divergent transitions: {n_divergent}\")\n",
    "print(az.summary(idata))"
   ]
  },
  {
   "cell_type": "markdown",
   "metadata": {},
   "source": [
    "::: {.callout-tip}\n",
    "### Exercise\n",
    "\n",
    "How good was our model?\n",
    "\n",
    "To answer this question, try:\n",
    "\n",
    "- for each parameter, compare the true value with the model's marginal posterior distribution.\n",
    "- plot the timecourses for a sample of parameters and compare with the real timecourse\n",
    "\n",
    "If you are finished with those investigations try and do a case study about what happens as the dilution rate increases, approaching and then exceeding $\\mu_{max}$.\n",
    "\n",
    ":::"
   ]
  },
  {
   "cell_type": "code",
   "execution_count": null,
   "metadata": {},
   "outputs": [],
   "source": []
  }
 ],
 "metadata": {
  "kernelspec": {
   "display_name": "Python 3 (ipykernel)",
   "language": "python",
   "name": "python3"
  },
  "language_info": {
   "codemirror_mode": {
    "name": "ipython",
    "version": 3
   },
   "file_extension": ".py",
   "mimetype": "text/x-python",
   "name": "python",
   "nbconvert_exporter": "python",
   "pygments_lexer": "ipython3",
   "version": "3.13.5"
  }
 },
 "nbformat": 4,
 "nbformat_minor": 4
}
