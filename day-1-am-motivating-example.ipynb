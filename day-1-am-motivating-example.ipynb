{
 "cells": [
  {
   "cell_type": "code",
   "execution_count": 1,
   "id": "79a4419c-4df5-4db0-81df-c66b909d2281",
   "metadata": {},
   "outputs": [],
   "source": [
    "# Loading required packages\n",
    "import bambi as bmb\n",
    "import scipy as sp\n",
    "import numpy as np\n",
    "import arviz as az\n",
    "import polars as pl\n",
    "import plotnine as p9\n",
    "import matplotlib.pyplot as plt"
   ]
  },
  {
   "cell_type": "code",
   "execution_count": 20,
   "id": "5bb8e913-8164-4250-9cf2-43f60b3263f5",
   "metadata": {},
   "outputs": [
    {
     "data": {
      "text/plain": [
       "Generator(PCG64) at 0x11DD3BE60"
      ]
     },
     "execution_count": 20,
     "metadata": {},
     "output_type": "execute_result"
    }
   ],
   "source": [
    "az.style.use(\"arviz-darkgrid\")\n",
    "np.random.default_rng(8924)"
   ]
  },
  {
   "cell_type": "markdown",
   "id": "06010e30-9568-4592-b3af-b239beabe538",
   "metadata": {},
   "source": [
    "# Simulating data\n",
    "\n",
    "One method for validating proposed models is to generate a known dataset and then fit your model to the given dataset. If we observe difficulties fitting the model we need to reconsider the parameterisation or the priors.\n",
    "\n",
    "## Experiment\n",
    "Given that there are two strains we want characterise the amount of protein each cell line produced. We have access to sets of reactors to perform this experiment, and the protein concentrations will be measured using mass spectroscopy that has a log-normal measurement model.\n",
    "\n",
    "### Notes\n",
    "- Often we want to make statements about strains rather than reactors.\n",
    "- If we assume that the reactor to reactor variation is the same between strains then we are able to improve our fits using a heirarchical modelling approach called \"partial pooling\","
   ]
  },
  {
   "cell_type": "code",
   "execution_count": 523,
   "id": "a93f6ec8-0556-4815-8f06-7bb07fa2a99e",
   "metadata": {},
   "outputs": [],
   "source": [
    "# Generating the dataset\n",
    "strain_growth_array = [0.49, 0.51, 0.53, 0.55, 0.57]\n",
    "sigma_reactor_effect = 0.03\n",
    "sigma_quant = 0.01\n",
    "n_reactors = 4\n",
    "protein_measurements = { strain:\n",
    "    [float(np.exp(np.log(strain_growth_array[strain]) + np.random.normal(0, sigma_reactor_effect))) for _ in range(n_reactors)]\n",
    "                    for strain, _ in enumerate(strain_growth_array)\n",
    "}"
   ]
  },
  {
   "cell_type": "code",
   "execution_count": 538,
   "id": "c25b1ef2-31cd-4a97-95aa-551e9a12e0cd",
   "metadata": {},
   "outputs": [
    {
     "data": {
      "text/plain": [
       "{0: [0.47473160053777713,\n",
       "  0.5155596293913945,\n",
       "  0.48872967810845125,\n",
       "  0.46717435660797463],\n",
       " 1: [0.4921955163052041,\n",
       "  0.4894796958555226,\n",
       "  0.48893083375215024,\n",
       "  0.4999988155712595],\n",
       " 2: [0.53301473264724,\n",
       "  0.5386334786744309,\n",
       "  0.5385975589002475,\n",
       "  0.529187760792642],\n",
       " 3: [0.543502953972827,\n",
       "  0.55974907666733,\n",
       "  0.5498033054848962,\n",
       "  0.5637436207630534],\n",
       " 4: [0.5698282718432269,\n",
       "  0.5419945580231189,\n",
       "  0.5470631922017978,\n",
       "  0.5987330965059178]}"
      ]
     },
     "execution_count": 538,
     "metadata": {},
     "output_type": "execute_result"
    }
   ],
   "source": [
    "protein_measurements"
   ]
  },
  {
   "cell_type": "markdown",
   "id": "b69df00f-3eba-41b4-8368-d98c26ece13a",
   "metadata": {},
   "source": [
    "# Preprocessing Data"
   ]
  },
  {
   "cell_type": "code",
   "execution_count": 539,
   "id": "ba84d2fe-4a12-4e9a-80cb-212d1b821868",
   "metadata": {},
   "outputs": [],
   "source": [
    "reactor_count = 0\n",
    "raw_data = []\n",
    "for strain, _ in enumerate(strain_growth_array):\n",
    "    for reactor, _ in enumerate(protein_measurements[strain]):\n",
    "        raw_data.append(\n",
    "        {\n",
    "            \"strain\": strain,\n",
    "            \"reactor\": reactor_count,\n",
    "            \"prot\": np.log(protein_measurements[strain][reactor] + np.random.normal(0,1)*sigma_quant),\n",
    "        }\n",
    "            )\n",
    "        reactor_count+=1\n",
    "    "
   ]
  },
  {
   "cell_type": "code",
   "execution_count": 540,
   "id": "0329185d-b139-417f-b3f7-dd868289f191",
   "metadata": {},
   "outputs": [
    {
     "data": {
      "text/html": [
       "<div><style>\n",
       ".dataframe > thead > tr,\n",
       ".dataframe > tbody > tr {\n",
       "  text-align: right;\n",
       "  white-space: pre-wrap;\n",
       "}\n",
       "</style>\n",
       "<small>shape: (20, 3)</small><table border=\"1\" class=\"dataframe\"><thead><tr><th>strain</th><th>reactor</th><th>prot</th></tr><tr><td>i64</td><td>i64</td><td>f64</td></tr></thead><tbody><tr><td>0</td><td>0</td><td>-0.758058</td></tr><tr><td>0</td><td>1</td><td>-0.648138</td></tr><tr><td>0</td><td>2</td><td>-0.719155</td></tr><tr><td>0</td><td>3</td><td>-0.738148</td></tr><tr><td>1</td><td>4</td><td>-0.733641</td></tr><tr><td>&hellip;</td><td>&hellip;</td><td>&hellip;</td></tr><tr><td>3</td><td>15</td><td>-0.585648</td></tr><tr><td>4</td><td>16</td><td>-0.57612</td></tr><tr><td>4</td><td>17</td><td>-0.633572</td></tr><tr><td>4</td><td>18</td><td>-0.604499</td></tr><tr><td>4</td><td>19</td><td>-0.525879</td></tr></tbody></table></div>"
      ],
      "text/plain": [
       "shape: (20, 3)\n",
       "┌────────┬─────────┬───────────┐\n",
       "│ strain ┆ reactor ┆ prot      │\n",
       "│ ---    ┆ ---     ┆ ---       │\n",
       "│ i64    ┆ i64     ┆ f64       │\n",
       "╞════════╪═════════╪═══════════╡\n",
       "│ 0      ┆ 0       ┆ -0.758058 │\n",
       "│ 0      ┆ 1       ┆ -0.648138 │\n",
       "│ 0      ┆ 2       ┆ -0.719155 │\n",
       "│ 0      ┆ 3       ┆ -0.738148 │\n",
       "│ 1      ┆ 4       ┆ -0.733641 │\n",
       "│ …      ┆ …       ┆ …         │\n",
       "│ 3      ┆ 15      ┆ -0.585648 │\n",
       "│ 4      ┆ 16      ┆ -0.57612  │\n",
       "│ 4      ┆ 17      ┆ -0.633572 │\n",
       "│ 4      ┆ 18      ┆ -0.604499 │\n",
       "│ 4      ┆ 19      ┆ -0.525879 │\n",
       "└────────┴─────────┴───────────┘"
      ]
     },
     "execution_count": 540,
     "metadata": {},
     "output_type": "execute_result"
    }
   ],
   "source": [
    "data = pl.from_dicts(raw_data)\n",
    "data"
   ]
  },
  {
   "cell_type": "code",
   "execution_count": 544,
   "id": "b688faf1-e75a-4ae6-9af2-22c67a6b3540",
   "metadata": {},
   "outputs": [
    {
     "data": {
      "text/html": [
       "<div><style>\n",
       ".dataframe > thead > tr,\n",
       ".dataframe > tbody > tr {\n",
       "  text-align: right;\n",
       "  white-space: pre-wrap;\n",
       "}\n",
       "</style>\n",
       "<small>shape: (4, 3)</small><table border=\"1\" class=\"dataframe\"><thead><tr><th>strain</th><th>reactor</th><th>prot</th></tr><tr><td>i64</td><td>i64</td><td>f64</td></tr></thead><tbody><tr><td>0</td><td>0</td><td>-0.758058</td></tr><tr><td>0</td><td>1</td><td>-0.648138</td></tr><tr><td>0</td><td>2</td><td>-0.719155</td></tr><tr><td>0</td><td>3</td><td>-0.738148</td></tr></tbody></table></div>"
      ],
      "text/plain": [
       "shape: (4, 3)\n",
       "┌────────┬─────────┬───────────┐\n",
       "│ strain ┆ reactor ┆ prot      │\n",
       "│ ---    ┆ ---     ┆ ---       │\n",
       "│ i64    ┆ i64     ┆ f64       │\n",
       "╞════════╪═════════╪═══════════╡\n",
       "│ 0      ┆ 0       ┆ -0.758058 │\n",
       "│ 0      ┆ 1       ┆ -0.648138 │\n",
       "│ 0      ┆ 2       ┆ -0.719155 │\n",
       "│ 0      ┆ 3       ┆ -0.738148 │\n",
       "└────────┴─────────┴───────────┘"
      ]
     },
     "execution_count": 544,
     "metadata": {},
     "output_type": "execute_result"
    }
   ],
   "source": [
    "data.filter(pl.col(\"strain\")==0)"
   ]
  },
  {
   "cell_type": "markdown",
   "id": "3f958622-41c7-492b-a676-61f8466e15e8",
   "metadata": {},
   "source": [
    "# T-test"
   ]
  },
  {
   "cell_type": "code",
   "execution_count": 545,
   "id": "62ad744f-3078-48f4-b193-203431b489f2",
   "metadata": {},
   "outputs": [
    {
     "data": {
      "text/plain": [
       "TtestResult(statistic=np.float64(-0.18788528631771015), pvalue=np.float64(0.857159693180108), df=np.float64(6.0))"
      ]
     },
     "execution_count": 545,
     "metadata": {},
     "output_type": "execute_result"
    }
   ],
   "source": [
    "sp.stats.ttest_ind(data.filter(pl.col(\"strain\")==0)[\"prot\"], data.filter(pl.col(\"strain\")==1)[\"prot\"], equal_var=True)"
   ]
  },
  {
   "cell_type": "markdown",
   "id": "ff0582bb-2776-491d-ad58-86127e695248",
   "metadata": {},
   "source": [
    "# Statistical model\n",
    "The model we are trying to fit in this instance is as follows\n",
    "$$\\mu_{reactor} \\sim LogNormal(\\mu_{true, reactor}, \\sigma_{quant})$$\n",
    "$$\\mu_{true, reactor} \\sim LogNormal(\\mu_{true, strain}, \\sigma_{biological})$$\n",
    "\n",
    "With priors\n",
    "$$\\sigma_{quant} \\sim log_normal(log(0.01), 0.1)$$\n",
    "$$\\sigma_{biological} \\sim HalfNormal(0.03)$$\n"
   ]
  },
  {
   "cell_type": "code",
   "execution_count": 533,
   "id": "e97c13a3-1a5f-47ad-93d3-1bb868acab6d",
   "metadata": {},
   "outputs": [
    {
     "name": "stderr",
     "output_type": "stream",
     "text": [
      "Initializing NUTS using jitter+adapt_diag...\n",
      "Multiprocess sampling (4 chains in 4 jobs)\n",
      "NUTS: [sigma, strain, 1|reactor_sigma, 1|reactor_offset]\n"
     ]
    },
    {
     "data": {
      "application/vnd.jupyter.widget-view+json": {
       "model_id": "ebf03c1630784bfda31a567060c3e0a2",
       "version_major": 2,
       "version_minor": 0
      },
      "text/plain": [
       "Output()"
      ]
     },
     "metadata": {},
     "output_type": "display_data"
    },
    {
     "data": {
      "text/html": [
       "<pre style=\"white-space:pre;overflow-x:auto;line-height:normal;font-family:Menlo,'DejaVu Sans Mono',consolas,'Courier New',monospace\"></pre>\n"
      ],
      "text/plain": []
     },
     "metadata": {},
     "output_type": "display_data"
    },
    {
     "name": "stderr",
     "output_type": "stream",
     "text": [
      "Sampling 4 chains for 2_000 tune and 1_000 draw iterations (8_000 + 4_000 draws total) took 22 seconds.\n"
     ]
    }
   ],
   "source": [
    "priors = {\n",
    "    \"sigma\": bmb.Prior(\"LogNormal\", mu=np.log(sigma_od), sigma=0.1),       # measurement error\n",
    "    \"1|reactor_sigma\": bmb.Prior(\"HalfNormal\", sigma=sigma_reactor_effect),\n",
    "}\n",
    "\n",
    "model = bmb.Model(\n",
    "    \"prot ~ 0 + strain + (0 + 1|reactor)\",\n",
    "    data=data.to_pandas(),\n",
    "    categorical=[\"strain\", \"reactor\"],\n",
    "    priors=priors,\n",
    "    noncentered=True\n",
    ")\n",
    "model.build()\n",
    "model.graph()\n",
    "results = model.fit(tune=2000, nuts_sampler_kwargs={\"target_accept\": 0.9})"
   ]
  },
  {
   "cell_type": "code",
   "execution_count": 534,
   "id": "7c27fd56-26ba-4032-bfb6-3d7b91691ba3",
   "metadata": {},
   "outputs": [
    {
     "data": {
      "text/plain": [
       "array([<Axes: title={'center': '94.0% HDI'}>], dtype=object)"
      ]
     },
     "execution_count": 534,
     "metadata": {},
     "output_type": "execute_result"
    },
    {
     "data": {
      "image/png": "[encoded data removed]",
      "text/plain": [
       "<Figure size 600x970 with 1 Axes>"
      ]
     },
     "metadata": {},
     "output_type": "display_data"
    }
   ],
   "source": [
    "az.plot_forest(results.sel(data_var=[\"strain\"]), combined=True)"
   ]
  },
  {
   "cell_type": "code",
   "execution_count": 535,
   "id": "b7b67d61-348a-41ff-be08-e3a4b00d7a19",
   "metadata": {},
   "outputs": [
    {
     "data": {
      "text/plain": [
       "(array([1.000e+00, 1.000e+00, 1.600e+01, 1.250e+02, 7.180e+02, 1.764e+03,\n",
       "        1.106e+03, 2.370e+02, 3.000e+01, 2.000e+00]),\n",
       " array([-0.23563336, -0.21059634, -0.18555933, -0.16052231, -0.13548529,\n",
       "        -0.11044828, -0.08541126, -0.06037425, -0.03533723, -0.01030021,\n",
       "         0.0147368 ]),\n",
       " <BarContainer object of 10 artists>)"
      ]
     },
     "execution_count": 535,
     "metadata": {},
     "output_type": "execute_result"
    },
    {
     "data": {
      "image/png": "[encoded data removed]",
      "text/plain": [
       "<Figure size 720x480 with 1 Axes>"
      ]
     },
     "metadata": {},
     "output_type": "display_data"
    }
   ],
   "source": [
    "diff = results.posterior.strain.sel(strain_dim = [\"1\"]).values.flatten() - results.posterior.strain.sel(strain_dim = [\"2\"]).values.flatten()\n",
    "fig, ax = plt.subplots(1,1)\n",
    "ax.hist(diff)"
   ]
  },
  {
   "cell_type": "code",
   "execution_count": 531,
   "id": "32b54e50-90f3-4e8a-9828-88770686c7e2",
   "metadata": {},
   "outputs": [
    {
     "data": {
      "image/svg+xml": [
       "<?xml version=\"1.0\" encoding=\"UTF-8\" standalone=\"no\"?>\n",
       "<!DOCTYPE svg PUBLIC \"-//W3C//DTD SVG 1.1//EN\"\n",
       " \"http://www.w3.org/Graphics/SVG/1.1/DTD/svg11.dtd\">\n",
       "<!-- Generated by graphviz version 12.1.2 (20240928.0832)\n",
       " -->\n",
       "<!-- Pages: 1 -->\n",
       "<svg width=\"485pt\" height=\"502pt\"\n",
       " viewBox=\"0.00 0.00 485.22 502.27\" xmlns=\"http://www.w3.org/2000/svg\" xmlns:xlink=\"http://www.w3.org/1999/xlink\">\n",
       "<g id=\"graph0\" class=\"graph\" transform=\"scale(1 1) rotate(0) translate(4 498.27)\">\n",
       "<polygon fill=\"white\" stroke=\"none\" points=\"-4,4 -4,-498.27 481.22,-498.27 481.22,4 -4,4\"/>\n",
       "<g id=\"clust1\" class=\"cluster\">\n",
       "<title>clusterstrain_dim (5)</title>\n",
       "<path fill=\"none\" stroke=\"black\" d=\"M333.83,-247.13C333.83,-247.13 407.83,-247.13 407.83,-247.13 413.83,-247.13 419.83,-253.13 419.83,-259.13 419.83,-259.13 419.83,-356.95 419.83,-356.95 419.83,-362.95 413.83,-368.95 407.83,-368.95 407.83,-368.95 333.83,-368.95 333.83,-368.95 327.83,-368.95 321.83,-362.95 321.83,-356.95 321.83,-356.95 321.83,-259.13 321.83,-259.13 321.83,-253.13 327.83,-247.13 333.83,-247.13\"/>\n",
       "<text text-anchor=\"middle\" x=\"372.83\" y=\"-254.33\" font-family=\"Times,serif\" font-size=\"14.00\">strain_dim (5)</text>\n",
       "</g>\n",
       "<g id=\"clust2\" class=\"cluster\">\n",
       "<title>clusterreactor__factor_dim (20)</title>\n",
       "<path fill=\"none\" stroke=\"black\" d=\"M167.83,-259.04C167.83,-259.04 301.83,-259.04 301.83,-259.04 307.83,-259.04 313.83,-265.04 313.83,-271.04 313.83,-271.04 313.83,-474.27 313.83,-474.27 313.83,-480.27 307.83,-486.27 301.83,-486.27 301.83,-486.27 167.83,-486.27 167.83,-486.27 161.83,-486.27 155.83,-480.27 155.83,-474.27 155.83,-474.27 155.83,-271.04 155.83,-271.04 155.83,-265.04 161.83,-259.04 167.83,-259.04\"/>\n",
       "<text text-anchor=\"middle\" x=\"237.21\" y=\"-266.24\" font-family=\"Times,serif\" font-size=\"14.00\">reactor__factor_dim (20)</text>\n",
       "</g>\n",
       "<g id=\"clust3\" class=\"cluster\">\n",
       "<title>cluster__obs__ (20)</title>\n",
       "<path fill=\"none\" stroke=\"black\" d=\"M259.83,-8C259.83,-8 341.83,-8 341.83,-8 347.83,-8 353.83,-14 353.83,-20 353.83,-20 353.83,-223.23 353.83,-223.23 353.83,-229.23 347.83,-235.23 341.83,-235.23 341.83,-235.23 259.83,-235.23 259.83,-235.23 253.83,-235.23 247.83,-229.23 247.83,-223.23 247.83,-223.23 247.83,-20 247.83,-20 247.83,-14 253.83,-8 259.83,-8\"/>\n",
       "<text text-anchor=\"middle\" x=\"309.83\" y=\"-15.2\" font-family=\"Times,serif\" font-size=\"14.00\">__obs__ (20)</text>\n",
       "</g>\n",
       "<!-- 1|reactor_sigma -->\n",
       "<g id=\"node1\" class=\"node\">\n",
       "<title>1|reactor_sigma</title>\n",
       "<ellipse fill=\"none\" stroke=\"black\" cx=\"72.83\" cy=\"-437.61\" rx=\"72.83\" ry=\"40.66\"/>\n",
       "<text text-anchor=\"middle\" x=\"72.83\" y=\"-449.06\" font-family=\"Times,serif\" font-size=\"14.00\">1|reactor_sigma</text>\n",
       "<text text-anchor=\"middle\" x=\"72.83\" y=\"-432.56\" font-family=\"Times,serif\" font-size=\"14.00\">~</text>\n",
       "<text text-anchor=\"middle\" x=\"72.83\" y=\"-416.06\" font-family=\"Times,serif\" font-size=\"14.00\">HalfNormal</text>\n",
       "</g>\n",
       "<!-- 1|reactor -->\n",
       "<g id=\"node4\" class=\"node\">\n",
       "<title>1|reactor</title>\n",
       "<polygon fill=\"none\" stroke=\"black\" points=\"279.96,-349.04 189.71,-349.04 189.71,-291.54 279.96,-291.54 279.96,-349.04\"/>\n",
       "<text text-anchor=\"middle\" x=\"234.83\" y=\"-331.74\" font-family=\"Times,serif\" font-size=\"14.00\">1|reactor</text>\n",
       "<text text-anchor=\"middle\" x=\"234.83\" y=\"-315.24\" font-family=\"Times,serif\" font-size=\"14.00\">~</text>\n",
       "<text text-anchor=\"middle\" x=\"234.83\" y=\"-298.74\" font-family=\"Times,serif\" font-size=\"14.00\">Deterministic</text>\n",
       "</g>\n",
       "<!-- 1|reactor_sigma&#45;&gt;1|reactor -->\n",
       "<g id=\"edge1\" class=\"edge\">\n",
       "<title>1|reactor_sigma&#45;&gt;1|reactor</title>\n",
       "<path fill=\"none\" stroke=\"black\" d=\"M117.1,-405.1C138.49,-389.87 164.23,-371.55 186.17,-355.93\"/>\n",
       "<polygon fill=\"black\" stroke=\"black\" points=\"187.97,-358.95 194.09,-350.3 183.91,-353.25 187.97,-358.95\"/>\n",
       "</g>\n",
       "<!-- sigma -->\n",
       "<g id=\"node2\" class=\"node\">\n",
       "<title>sigma</title>\n",
       "<ellipse fill=\"none\" stroke=\"black\" cx=\"420.83\" cy=\"-198.48\" rx=\"56.39\" ry=\"40.66\"/>\n",
       "<text text-anchor=\"middle\" x=\"420.83\" y=\"-209.93\" font-family=\"Times,serif\" font-size=\"14.00\">sigma</text>\n",
       "<text text-anchor=\"middle\" x=\"420.83\" y=\"-193.43\" font-family=\"Times,serif\" font-size=\"14.00\">~</text>\n",
       "<text text-anchor=\"middle\" x=\"420.83\" y=\"-176.93\" font-family=\"Times,serif\" font-size=\"14.00\">LogNormal</text>\n",
       "</g>\n",
       "<!-- prot -->\n",
       "<g id=\"node7\" class=\"node\">\n",
       "<title>prot</title>\n",
       "<ellipse fill=\"lightgrey\" stroke=\"black\" cx=\"302.83\" cy=\"-81.16\" rx=\"41.01\" ry=\"40.66\"/>\n",
       "<text text-anchor=\"middle\" x=\"302.83\" y=\"-92.61\" font-family=\"Times,serif\" font-size=\"14.00\">prot</text>\n",
       "<text text-anchor=\"middle\" x=\"302.83\" y=\"-76.11\" font-family=\"Times,serif\" font-size=\"14.00\">~</text>\n",
       "<text text-anchor=\"middle\" x=\"302.83\" y=\"-59.61\" font-family=\"Times,serif\" font-size=\"14.00\">Normal</text>\n",
       "</g>\n",
       "<!-- sigma&#45;&gt;prot -->\n",
       "<g id=\"edge6\" class=\"edge\">\n",
       "<title>sigma&#45;&gt;prot</title>\n",
       "<path fill=\"none\" stroke=\"black\" d=\"M387.65,-165.05C372.81,-150.55 355.26,-133.39 339.98,-118.46\"/>\n",
       "<polygon fill=\"black\" stroke=\"black\" points=\"342.44,-115.97 332.84,-111.49 337.55,-120.98 342.44,-115.97\"/>\n",
       "</g>\n",
       "<!-- strain -->\n",
       "<g id=\"node3\" class=\"node\">\n",
       "<title>strain</title>\n",
       "<ellipse fill=\"none\" stroke=\"black\" cx=\"370.83\" cy=\"-320.29\" rx=\"41.01\" ry=\"40.66\"/>\n",
       "<text text-anchor=\"middle\" x=\"370.83\" y=\"-331.74\" font-family=\"Times,serif\" font-size=\"14.00\">strain</text>\n",
       "<text text-anchor=\"middle\" x=\"370.83\" y=\"-315.24\" font-family=\"Times,serif\" font-size=\"14.00\">~</text>\n",
       "<text text-anchor=\"middle\" x=\"370.83\" y=\"-298.74\" font-family=\"Times,serif\" font-size=\"14.00\">Normal</text>\n",
       "</g>\n",
       "<!-- mu -->\n",
       "<g id=\"node6\" class=\"node\">\n",
       "<title>mu</title>\n",
       "<polygon fill=\"none\" stroke=\"black\" points=\"345.96,-227.23 255.71,-227.23 255.71,-169.73 345.96,-169.73 345.96,-227.23\"/>\n",
       "<text text-anchor=\"middle\" x=\"300.83\" y=\"-209.93\" font-family=\"Times,serif\" font-size=\"14.00\">mu</text>\n",
       "<text text-anchor=\"middle\" x=\"300.83\" y=\"-193.43\" font-family=\"Times,serif\" font-size=\"14.00\">~</text>\n",
       "<text text-anchor=\"middle\" x=\"300.83\" y=\"-176.93\" font-family=\"Times,serif\" font-size=\"14.00\">Deterministic</text>\n",
       "</g>\n",
       "<!-- strain&#45;&gt;mu -->\n",
       "<g id=\"edge3\" class=\"edge\">\n",
       "<title>strain&#45;&gt;mu</title>\n",
       "<path fill=\"none\" stroke=\"black\" d=\"M350.59,-284.64C341.91,-269.78 331.75,-252.39 322.88,-237.21\"/>\n",
       "<polygon fill=\"black\" stroke=\"black\" points=\"326.1,-235.78 318.03,-228.91 320.05,-239.31 326.1,-235.78\"/>\n",
       "</g>\n",
       "<!-- 1|reactor&#45;&gt;mu -->\n",
       "<g id=\"edge4\" class=\"edge\">\n",
       "<title>1|reactor&#45;&gt;mu</title>\n",
       "<path fill=\"none\" stroke=\"black\" d=\"M250.31,-291.2C259.16,-275.13 270.39,-254.75 280.01,-237.28\"/>\n",
       "<polygon fill=\"black\" stroke=\"black\" points=\"282.97,-239.17 284.72,-228.72 276.83,-235.79 282.97,-239.17\"/>\n",
       "</g>\n",
       "<!-- 1|reactor_offset -->\n",
       "<g id=\"node5\" class=\"node\">\n",
       "<title>1|reactor_offset</title>\n",
       "<ellipse fill=\"none\" stroke=\"black\" cx=\"234.83\" cy=\"-437.61\" rx=\"71.24\" ry=\"40.66\"/>\n",
       "<text text-anchor=\"middle\" x=\"234.83\" y=\"-449.06\" font-family=\"Times,serif\" font-size=\"14.00\">1|reactor_offset</text>\n",
       "<text text-anchor=\"middle\" x=\"234.83\" y=\"-432.56\" font-family=\"Times,serif\" font-size=\"14.00\">~</text>\n",
       "<text text-anchor=\"middle\" x=\"234.83\" y=\"-416.06\" font-family=\"Times,serif\" font-size=\"14.00\">Normal</text>\n",
       "</g>\n",
       "<!-- 1|reactor_offset&#45;&gt;1|reactor -->\n",
       "<g id=\"edge2\" class=\"edge\">\n",
       "<title>1|reactor_offset&#45;&gt;1|reactor</title>\n",
       "<path fill=\"none\" stroke=\"black\" d=\"M234.83,-396.6C234.83,-384.89 234.83,-372.11 234.83,-360.45\"/>\n",
       "<polygon fill=\"black\" stroke=\"black\" points=\"238.33,-360.77 234.83,-350.77 231.33,-360.77 238.33,-360.77\"/>\n",
       "</g>\n",
       "<!-- mu&#45;&gt;prot -->\n",
       "<g id=\"edge5\" class=\"edge\">\n",
       "<title>mu&#45;&gt;prot</title>\n",
       "<path fill=\"none\" stroke=\"black\" d=\"M301.32,-169.27C301.51,-158.44 301.73,-145.73 301.94,-133.41\"/>\n",
       "<polygon fill=\"black\" stroke=\"black\" points=\"305.44,-133.84 302.11,-123.78 298.44,-133.72 305.44,-133.84\"/>\n",
       "</g>\n",
       "</g>\n",
       "</svg>\n"
      ],
      "text/plain": [
       "<graphviz.graphs.Digraph at 0x155a2ee40>"
      ]
     },
     "execution_count": 531,
     "metadata": {},
     "output_type": "execute_result"
    }
   ],
   "source": [
    "model.graph()"
   ]
  },
  {
   "cell_type": "code",
   "execution_count": null,
   "id": "02dce9ae-54fc-4d15-90c3-fcadde5c7d14",
   "metadata": {},
   "outputs": [],
   "source": []
  }
 ],
 "metadata": {
  "kernelspec": {
   "display_name": "Python 3 (ipykernel)",
   "language": "python",
   "name": "python3"
  },
  "language_info": {
   "codemirror_mode": {
    "name": "ipython",
    "version": 3
   },
   "file_extension": ".py",
   "mimetype": "text/x-python",
   "name": "python",
   "nbconvert_exporter": "python",
   "pygments_lexer": "ipython3",
   "version": "3.12.10"
  }
 },
 "nbformat": 4,
 "nbformat_minor": 5
}
